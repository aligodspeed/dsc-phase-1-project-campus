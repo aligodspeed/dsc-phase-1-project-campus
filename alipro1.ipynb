{
 "cells": [
  {
   "cell_type": "code",
   "execution_count": 118,
   "metadata": {},
   "outputs": [],
   "source": [
    "import pandas as pd\n",
    "import numpy as np\n",
    "import matplotlib.pyplot as plt\n",
    "import seaborn as sns"
   ]
  },
  {
   "cell_type": "code",
   "execution_count": 119,
   "metadata": {},
   "outputs": [
    {
     "data": {
      "text/html": [
       "<div>\n",
       "<style scoped>\n",
       "    .dataframe tbody tr th:only-of-type {\n",
       "        vertical-align: middle;\n",
       "    }\n",
       "\n",
       "    .dataframe tbody tr th {\n",
       "        vertical-align: top;\n",
       "    }\n",
       "\n",
       "    .dataframe thead th {\n",
       "        text-align: right;\n",
       "    }\n",
       "</style>\n",
       "<table border=\"1\" class=\"dataframe\">\n",
       "  <thead>\n",
       "    <tr style=\"text-align: right;\">\n",
       "      <th></th>\n",
       "      <th>title</th>\n",
       "      <th>studio</th>\n",
       "      <th>domestic_gross</th>\n",
       "      <th>foreign_gross</th>\n",
       "      <th>year</th>\n",
       "    </tr>\n",
       "  </thead>\n",
       "  <tbody>\n",
       "    <tr>\n",
       "      <th>0</th>\n",
       "      <td>Toy Story 3</td>\n",
       "      <td>BV</td>\n",
       "      <td>415000000.0</td>\n",
       "      <td>652000000</td>\n",
       "      <td>2010</td>\n",
       "    </tr>\n",
       "    <tr>\n",
       "      <th>1</th>\n",
       "      <td>Alice in Wonderland (2010)</td>\n",
       "      <td>BV</td>\n",
       "      <td>334200000.0</td>\n",
       "      <td>691300000</td>\n",
       "      <td>2010</td>\n",
       "    </tr>\n",
       "    <tr>\n",
       "      <th>2</th>\n",
       "      <td>Harry Potter and the Deathly Hallows Part 1</td>\n",
       "      <td>WB</td>\n",
       "      <td>296000000.0</td>\n",
       "      <td>664300000</td>\n",
       "      <td>2010</td>\n",
       "    </tr>\n",
       "    <tr>\n",
       "      <th>3</th>\n",
       "      <td>Inception</td>\n",
       "      <td>WB</td>\n",
       "      <td>292600000.0</td>\n",
       "      <td>535700000</td>\n",
       "      <td>2010</td>\n",
       "    </tr>\n",
       "    <tr>\n",
       "      <th>4</th>\n",
       "      <td>Shrek Forever After</td>\n",
       "      <td>P/DW</td>\n",
       "      <td>238700000.0</td>\n",
       "      <td>513900000</td>\n",
       "      <td>2010</td>\n",
       "    </tr>\n",
       "    <tr>\n",
       "      <th>...</th>\n",
       "      <td>...</td>\n",
       "      <td>...</td>\n",
       "      <td>...</td>\n",
       "      <td>...</td>\n",
       "      <td>...</td>\n",
       "    </tr>\n",
       "    <tr>\n",
       "      <th>3382</th>\n",
       "      <td>The Quake</td>\n",
       "      <td>Magn.</td>\n",
       "      <td>6200.0</td>\n",
       "      <td>NaN</td>\n",
       "      <td>2018</td>\n",
       "    </tr>\n",
       "    <tr>\n",
       "      <th>3383</th>\n",
       "      <td>Edward II (2018 re-release)</td>\n",
       "      <td>FM</td>\n",
       "      <td>4800.0</td>\n",
       "      <td>NaN</td>\n",
       "      <td>2018</td>\n",
       "    </tr>\n",
       "    <tr>\n",
       "      <th>3384</th>\n",
       "      <td>El Pacto</td>\n",
       "      <td>Sony</td>\n",
       "      <td>2500.0</td>\n",
       "      <td>NaN</td>\n",
       "      <td>2018</td>\n",
       "    </tr>\n",
       "    <tr>\n",
       "      <th>3385</th>\n",
       "      <td>The Swan</td>\n",
       "      <td>Synergetic</td>\n",
       "      <td>2400.0</td>\n",
       "      <td>NaN</td>\n",
       "      <td>2018</td>\n",
       "    </tr>\n",
       "    <tr>\n",
       "      <th>3386</th>\n",
       "      <td>An Actor Prepares</td>\n",
       "      <td>Grav.</td>\n",
       "      <td>1700.0</td>\n",
       "      <td>NaN</td>\n",
       "      <td>2018</td>\n",
       "    </tr>\n",
       "  </tbody>\n",
       "</table>\n",
       "<p>3387 rows × 5 columns</p>\n",
       "</div>"
      ],
      "text/plain": [
       "                                            title      studio  domestic_gross  \\\n",
       "0                                     Toy Story 3          BV     415000000.0   \n",
       "1                      Alice in Wonderland (2010)          BV     334200000.0   \n",
       "2     Harry Potter and the Deathly Hallows Part 1          WB     296000000.0   \n",
       "3                                       Inception          WB     292600000.0   \n",
       "4                             Shrek Forever After        P/DW     238700000.0   \n",
       "...                                           ...         ...             ...   \n",
       "3382                                    The Quake       Magn.          6200.0   \n",
       "3383                  Edward II (2018 re-release)          FM          4800.0   \n",
       "3384                                     El Pacto        Sony          2500.0   \n",
       "3385                                     The Swan  Synergetic          2400.0   \n",
       "3386                            An Actor Prepares       Grav.          1700.0   \n",
       "\n",
       "     foreign_gross  year  \n",
       "0        652000000  2010  \n",
       "1        691300000  2010  \n",
       "2        664300000  2010  \n",
       "3        535700000  2010  \n",
       "4        513900000  2010  \n",
       "...            ...   ...  \n",
       "3382           NaN  2018  \n",
       "3383           NaN  2018  \n",
       "3384           NaN  2018  \n",
       "3385           NaN  2018  \n",
       "3386           NaN  2018  \n",
       "\n",
       "[3387 rows x 5 columns]"
      ]
     },
     "execution_count": 119,
     "metadata": {},
     "output_type": "execute_result"
    }
   ],
   "source": [
    "pd.read_csv('zippedData/bom.movie_gross.csv.gz')"
   ]
  },
  {
   "cell_type": "code",
   "execution_count": 120,
   "metadata": {
    "scrolled": true
   },
   "outputs": [
    {
     "data": {
      "text/html": [
       "<div>\n",
       "<style scoped>\n",
       "    .dataframe tbody tr th:only-of-type {\n",
       "        vertical-align: middle;\n",
       "    }\n",
       "\n",
       "    .dataframe tbody tr th {\n",
       "        vertical-align: top;\n",
       "    }\n",
       "\n",
       "    .dataframe thead th {\n",
       "        text-align: right;\n",
       "    }\n",
       "</style>\n",
       "<table border=\"1\" class=\"dataframe\">\n",
       "  <thead>\n",
       "    <tr style=\"text-align: right;\">\n",
       "      <th></th>\n",
       "      <th>tconst</th>\n",
       "      <th>primary_title</th>\n",
       "      <th>original_title</th>\n",
       "      <th>start_year</th>\n",
       "      <th>runtime_minutes</th>\n",
       "      <th>genres</th>\n",
       "    </tr>\n",
       "  </thead>\n",
       "  <tbody>\n",
       "    <tr>\n",
       "      <th>0</th>\n",
       "      <td>tt0063540</td>\n",
       "      <td>Sunghursh</td>\n",
       "      <td>Sunghursh</td>\n",
       "      <td>2013</td>\n",
       "      <td>175.0</td>\n",
       "      <td>Action,Crime,Drama</td>\n",
       "    </tr>\n",
       "    <tr>\n",
       "      <th>1</th>\n",
       "      <td>tt0066787</td>\n",
       "      <td>One Day Before the Rainy Season</td>\n",
       "      <td>Ashad Ka Ek Din</td>\n",
       "      <td>2019</td>\n",
       "      <td>114.0</td>\n",
       "      <td>Biography,Drama</td>\n",
       "    </tr>\n",
       "    <tr>\n",
       "      <th>2</th>\n",
       "      <td>tt0069049</td>\n",
       "      <td>The Other Side of the Wind</td>\n",
       "      <td>The Other Side of the Wind</td>\n",
       "      <td>2018</td>\n",
       "      <td>122.0</td>\n",
       "      <td>Drama</td>\n",
       "    </tr>\n",
       "    <tr>\n",
       "      <th>3</th>\n",
       "      <td>tt0069204</td>\n",
       "      <td>Sabse Bada Sukh</td>\n",
       "      <td>Sabse Bada Sukh</td>\n",
       "      <td>2018</td>\n",
       "      <td>NaN</td>\n",
       "      <td>Comedy,Drama</td>\n",
       "    </tr>\n",
       "    <tr>\n",
       "      <th>4</th>\n",
       "      <td>tt0100275</td>\n",
       "      <td>The Wandering Soap Opera</td>\n",
       "      <td>La Telenovela Errante</td>\n",
       "      <td>2017</td>\n",
       "      <td>80.0</td>\n",
       "      <td>Comedy,Drama,Fantasy</td>\n",
       "    </tr>\n",
       "    <tr>\n",
       "      <th>...</th>\n",
       "      <td>...</td>\n",
       "      <td>...</td>\n",
       "      <td>...</td>\n",
       "      <td>...</td>\n",
       "      <td>...</td>\n",
       "      <td>...</td>\n",
       "    </tr>\n",
       "    <tr>\n",
       "      <th>146139</th>\n",
       "      <td>tt9916538</td>\n",
       "      <td>Kuambil Lagi Hatiku</td>\n",
       "      <td>Kuambil Lagi Hatiku</td>\n",
       "      <td>2019</td>\n",
       "      <td>123.0</td>\n",
       "      <td>Drama</td>\n",
       "    </tr>\n",
       "    <tr>\n",
       "      <th>146140</th>\n",
       "      <td>tt9916622</td>\n",
       "      <td>Rodolpho Teóphilo - O Legado de um Pioneiro</td>\n",
       "      <td>Rodolpho Teóphilo - O Legado de um Pioneiro</td>\n",
       "      <td>2015</td>\n",
       "      <td>NaN</td>\n",
       "      <td>Documentary</td>\n",
       "    </tr>\n",
       "    <tr>\n",
       "      <th>146141</th>\n",
       "      <td>tt9916706</td>\n",
       "      <td>Dankyavar Danka</td>\n",
       "      <td>Dankyavar Danka</td>\n",
       "      <td>2013</td>\n",
       "      <td>NaN</td>\n",
       "      <td>Comedy</td>\n",
       "    </tr>\n",
       "    <tr>\n",
       "      <th>146142</th>\n",
       "      <td>tt9916730</td>\n",
       "      <td>6 Gunn</td>\n",
       "      <td>6 Gunn</td>\n",
       "      <td>2017</td>\n",
       "      <td>116.0</td>\n",
       "      <td>NaN</td>\n",
       "    </tr>\n",
       "    <tr>\n",
       "      <th>146143</th>\n",
       "      <td>tt9916754</td>\n",
       "      <td>Chico Albuquerque - Revelações</td>\n",
       "      <td>Chico Albuquerque - Revelações</td>\n",
       "      <td>2013</td>\n",
       "      <td>NaN</td>\n",
       "      <td>Documentary</td>\n",
       "    </tr>\n",
       "  </tbody>\n",
       "</table>\n",
       "<p>146144 rows × 6 columns</p>\n",
       "</div>"
      ],
      "text/plain": [
       "           tconst                                primary_title  \\\n",
       "0       tt0063540                                    Sunghursh   \n",
       "1       tt0066787              One Day Before the Rainy Season   \n",
       "2       tt0069049                   The Other Side of the Wind   \n",
       "3       tt0069204                              Sabse Bada Sukh   \n",
       "4       tt0100275                     The Wandering Soap Opera   \n",
       "...           ...                                          ...   \n",
       "146139  tt9916538                          Kuambil Lagi Hatiku   \n",
       "146140  tt9916622  Rodolpho Teóphilo - O Legado de um Pioneiro   \n",
       "146141  tt9916706                              Dankyavar Danka   \n",
       "146142  tt9916730                                       6 Gunn   \n",
       "146143  tt9916754               Chico Albuquerque - Revelações   \n",
       "\n",
       "                                     original_title  start_year  \\\n",
       "0                                         Sunghursh        2013   \n",
       "1                                   Ashad Ka Ek Din        2019   \n",
       "2                        The Other Side of the Wind        2018   \n",
       "3                                   Sabse Bada Sukh        2018   \n",
       "4                             La Telenovela Errante        2017   \n",
       "...                                             ...         ...   \n",
       "146139                          Kuambil Lagi Hatiku        2019   \n",
       "146140  Rodolpho Teóphilo - O Legado de um Pioneiro        2015   \n",
       "146141                              Dankyavar Danka        2013   \n",
       "146142                                       6 Gunn        2017   \n",
       "146143               Chico Albuquerque - Revelações        2013   \n",
       "\n",
       "        runtime_minutes                genres  \n",
       "0                 175.0    Action,Crime,Drama  \n",
       "1                 114.0       Biography,Drama  \n",
       "2                 122.0                 Drama  \n",
       "3                   NaN          Comedy,Drama  \n",
       "4                  80.0  Comedy,Drama,Fantasy  \n",
       "...                 ...                   ...  \n",
       "146139            123.0                 Drama  \n",
       "146140              NaN           Documentary  \n",
       "146141              NaN                Comedy  \n",
       "146142            116.0                   NaN  \n",
       "146143              NaN           Documentary  \n",
       "\n",
       "[146144 rows x 6 columns]"
      ]
     },
     "execution_count": 120,
     "metadata": {},
     "output_type": "execute_result"
    }
   ],
   "source": [
    "imdb_title = pd.read_csv('zippedData/imdb.title.basics.csv.gz')\n",
    "imdb_title"
   ]
  },
  {
   "cell_type": "code",
   "execution_count": 121,
   "metadata": {},
   "outputs": [
    {
     "data": {
      "text/html": [
       "<div>\n",
       "<style scoped>\n",
       "    .dataframe tbody tr th:only-of-type {\n",
       "        vertical-align: middle;\n",
       "    }\n",
       "\n",
       "    .dataframe tbody tr th {\n",
       "        vertical-align: top;\n",
       "    }\n",
       "\n",
       "    .dataframe thead th {\n",
       "        text-align: right;\n",
       "    }\n",
       "</style>\n",
       "<table border=\"1\" class=\"dataframe\">\n",
       "  <thead>\n",
       "    <tr style=\"text-align: right;\">\n",
       "      <th></th>\n",
       "      <th>tconst</th>\n",
       "      <th>averagerating</th>\n",
       "      <th>numvotes</th>\n",
       "    </tr>\n",
       "  </thead>\n",
       "  <tbody>\n",
       "    <tr>\n",
       "      <th>0</th>\n",
       "      <td>tt10356526</td>\n",
       "      <td>8.3</td>\n",
       "      <td>31</td>\n",
       "    </tr>\n",
       "    <tr>\n",
       "      <th>1</th>\n",
       "      <td>tt10384606</td>\n",
       "      <td>8.9</td>\n",
       "      <td>559</td>\n",
       "    </tr>\n",
       "    <tr>\n",
       "      <th>2</th>\n",
       "      <td>tt1042974</td>\n",
       "      <td>6.4</td>\n",
       "      <td>20</td>\n",
       "    </tr>\n",
       "    <tr>\n",
       "      <th>3</th>\n",
       "      <td>tt1043726</td>\n",
       "      <td>4.2</td>\n",
       "      <td>50352</td>\n",
       "    </tr>\n",
       "    <tr>\n",
       "      <th>4</th>\n",
       "      <td>tt1060240</td>\n",
       "      <td>6.5</td>\n",
       "      <td>21</td>\n",
       "    </tr>\n",
       "    <tr>\n",
       "      <th>...</th>\n",
       "      <td>...</td>\n",
       "      <td>...</td>\n",
       "      <td>...</td>\n",
       "    </tr>\n",
       "    <tr>\n",
       "      <th>73851</th>\n",
       "      <td>tt9805820</td>\n",
       "      <td>8.1</td>\n",
       "      <td>25</td>\n",
       "    </tr>\n",
       "    <tr>\n",
       "      <th>73852</th>\n",
       "      <td>tt9844256</td>\n",
       "      <td>7.5</td>\n",
       "      <td>24</td>\n",
       "    </tr>\n",
       "    <tr>\n",
       "      <th>73853</th>\n",
       "      <td>tt9851050</td>\n",
       "      <td>4.7</td>\n",
       "      <td>14</td>\n",
       "    </tr>\n",
       "    <tr>\n",
       "      <th>73854</th>\n",
       "      <td>tt9886934</td>\n",
       "      <td>7.0</td>\n",
       "      <td>5</td>\n",
       "    </tr>\n",
       "    <tr>\n",
       "      <th>73855</th>\n",
       "      <td>tt9894098</td>\n",
       "      <td>6.3</td>\n",
       "      <td>128</td>\n",
       "    </tr>\n",
       "  </tbody>\n",
       "</table>\n",
       "<p>73856 rows × 3 columns</p>\n",
       "</div>"
      ],
      "text/plain": [
       "           tconst  averagerating  numvotes\n",
       "0      tt10356526            8.3        31\n",
       "1      tt10384606            8.9       559\n",
       "2       tt1042974            6.4        20\n",
       "3       tt1043726            4.2     50352\n",
       "4       tt1060240            6.5        21\n",
       "...           ...            ...       ...\n",
       "73851   tt9805820            8.1        25\n",
       "73852   tt9844256            7.5        24\n",
       "73853   tt9851050            4.7        14\n",
       "73854   tt9886934            7.0         5\n",
       "73855   tt9894098            6.3       128\n",
       "\n",
       "[73856 rows x 3 columns]"
      ]
     },
     "execution_count": 121,
     "metadata": {},
     "output_type": "execute_result"
    }
   ],
   "source": [
    "imdb_rate = pd.read_csv('zippedData/imdb.title.ratings.csv.gz')\n",
    "imdb_rate"
   ]
  },
  {
   "cell_type": "code",
   "execution_count": 122,
   "metadata": {},
   "outputs": [
    {
     "name": "stdout",
     "output_type": "stream",
     "text": [
      "<class 'pandas.core.frame.DataFrame'>\n",
      "RangeIndex: 73856 entries, 0 to 73855\n",
      "Data columns (total 3 columns):\n",
      "tconst           73856 non-null object\n",
      "averagerating    73856 non-null float64\n",
      "numvotes         73856 non-null int64\n",
      "dtypes: float64(1), int64(1), object(1)\n",
      "memory usage: 1.7+ MB\n"
     ]
    }
   ],
   "source": [
    "imdb_rate.info()"
   ]
  },
  {
   "cell_type": "code",
   "execution_count": 123,
   "metadata": {},
   "outputs": [
    {
     "name": "stdout",
     "output_type": "stream",
     "text": [
      "<class 'pandas.core.frame.DataFrame'>\n",
      "RangeIndex: 146144 entries, 0 to 146143\n",
      "Data columns (total 6 columns):\n",
      "tconst             146144 non-null object\n",
      "primary_title      146144 non-null object\n",
      "original_title     146123 non-null object\n",
      "start_year         146144 non-null int64\n",
      "runtime_minutes    114405 non-null float64\n",
      "genres             140736 non-null object\n",
      "dtypes: float64(1), int64(1), object(4)\n",
      "memory usage: 6.7+ MB\n"
     ]
    }
   ],
   "source": [
    "imdb_title.info()"
   ]
  },
  {
   "cell_type": "code",
   "execution_count": 124,
   "metadata": {},
   "outputs": [
    {
     "data": {
      "text/plain": [
       "tconst           0\n",
       "averagerating    0\n",
       "numvotes         0\n",
       "dtype: int64"
      ]
     },
     "execution_count": 124,
     "metadata": {},
     "output_type": "execute_result"
    }
   ],
   "source": [
    "imdb_rate.isna().sum()"
   ]
  },
  {
   "cell_type": "code",
   "execution_count": 125,
   "metadata": {},
   "outputs": [
    {
     "data": {
      "text/plain": [
       "tconst                 0\n",
       "primary_title          0\n",
       "original_title        21\n",
       "start_year             0\n",
       "runtime_minutes    31739\n",
       "genres              5408\n",
       "dtype: int64"
      ]
     },
     "execution_count": 125,
     "metadata": {},
     "output_type": "execute_result"
    }
   ],
   "source": [
    "imdb_title.isna().sum()"
   ]
  },
  {
   "cell_type": "code",
   "execution_count": 126,
   "metadata": {},
   "outputs": [],
   "source": [
    "imdb_title.dropna(subset=['genres', 'runtime_minutes'], inplace= True)"
   ]
  },
  {
   "cell_type": "code",
   "execution_count": 127,
   "metadata": {},
   "outputs": [
    {
     "name": "stdout",
     "output_type": "stream",
     "text": [
      "<class 'pandas.core.frame.DataFrame'>\n",
      "Int64Index: 112233 entries, 0 to 146139\n",
      "Data columns (total 6 columns):\n",
      "tconst             112233 non-null object\n",
      "primary_title      112233 non-null object\n",
      "original_title     112232 non-null object\n",
      "start_year         112233 non-null int64\n",
      "runtime_minutes    112233 non-null float64\n",
      "genres             112233 non-null object\n",
      "dtypes: float64(1), int64(1), object(4)\n",
      "memory usage: 6.0+ MB\n"
     ]
    }
   ],
   "source": [
    "imdb_title.info()"
   ]
  },
  {
   "cell_type": "code",
   "execution_count": 128,
   "metadata": {},
   "outputs": [
    {
     "name": "stdout",
     "output_type": "stream",
     "text": [
      "<class 'pandas.core.frame.DataFrame'>\n",
      "RangeIndex: 73856 entries, 0 to 73855\n",
      "Data columns (total 3 columns):\n",
      "tconst           73856 non-null object\n",
      "averagerating    73856 non-null float64\n",
      "numvotes         73856 non-null int64\n",
      "dtypes: float64(1), int64(1), object(1)\n",
      "memory usage: 1.7+ MB\n"
     ]
    }
   ],
   "source": [
    "imdb_rate.info()"
   ]
  },
  {
   "cell_type": "code",
   "execution_count": 129,
   "metadata": {},
   "outputs": [],
   "source": [
    "new_imdb = pd.merge(imdb_rate,\n",
    "                    imdb_title, on='tconst')"
   ]
  },
  {
   "cell_type": "code",
   "execution_count": 130,
   "metadata": {},
   "outputs": [
    {
     "name": "stdout",
     "output_type": "stream",
     "text": [
      "<class 'pandas.core.frame.DataFrame'>\n",
      "Int64Index: 65720 entries, 0 to 65719\n",
      "Data columns (total 8 columns):\n",
      "tconst             65720 non-null object\n",
      "averagerating      65720 non-null float64\n",
      "numvotes           65720 non-null int64\n",
      "primary_title      65720 non-null object\n",
      "original_title     65720 non-null object\n",
      "start_year         65720 non-null int64\n",
      "runtime_minutes    65720 non-null float64\n",
      "genres             65720 non-null object\n",
      "dtypes: float64(2), int64(2), object(4)\n",
      "memory usage: 4.5+ MB\n"
     ]
    }
   ],
   "source": [
    "new_imdb.info()"
   ]
  },
  {
   "cell_type": "code",
   "execution_count": 131,
   "metadata": {},
   "outputs": [
    {
     "data": {
      "text/html": [
       "<div>\n",
       "<style scoped>\n",
       "    .dataframe tbody tr th:only-of-type {\n",
       "        vertical-align: middle;\n",
       "    }\n",
       "\n",
       "    .dataframe tbody tr th {\n",
       "        vertical-align: top;\n",
       "    }\n",
       "\n",
       "    .dataframe thead th {\n",
       "        text-align: right;\n",
       "    }\n",
       "</style>\n",
       "<table border=\"1\" class=\"dataframe\">\n",
       "  <thead>\n",
       "    <tr style=\"text-align: right;\">\n",
       "      <th></th>\n",
       "      <th>tconst</th>\n",
       "      <th>averagerating</th>\n",
       "      <th>numvotes</th>\n",
       "      <th>primary_title</th>\n",
       "      <th>original_title</th>\n",
       "      <th>start_year</th>\n",
       "      <th>runtime_minutes</th>\n",
       "      <th>genres</th>\n",
       "    </tr>\n",
       "  </thead>\n",
       "  <tbody>\n",
       "    <tr>\n",
       "      <th>0</th>\n",
       "      <td>tt10356526</td>\n",
       "      <td>8.3</td>\n",
       "      <td>31</td>\n",
       "      <td>Laiye Je Yaarian</td>\n",
       "      <td>Laiye Je Yaarian</td>\n",
       "      <td>2019</td>\n",
       "      <td>117.0</td>\n",
       "      <td>Romance</td>\n",
       "    </tr>\n",
       "    <tr>\n",
       "      <th>1</th>\n",
       "      <td>tt10384606</td>\n",
       "      <td>8.9</td>\n",
       "      <td>559</td>\n",
       "      <td>Borderless</td>\n",
       "      <td>Borderless</td>\n",
       "      <td>2019</td>\n",
       "      <td>87.0</td>\n",
       "      <td>Documentary</td>\n",
       "    </tr>\n",
       "    <tr>\n",
       "      <th>2</th>\n",
       "      <td>tt1042974</td>\n",
       "      <td>6.4</td>\n",
       "      <td>20</td>\n",
       "      <td>Just Inès</td>\n",
       "      <td>Just Inès</td>\n",
       "      <td>2010</td>\n",
       "      <td>90.0</td>\n",
       "      <td>Drama</td>\n",
       "    </tr>\n",
       "    <tr>\n",
       "      <th>3</th>\n",
       "      <td>tt1043726</td>\n",
       "      <td>4.2</td>\n",
       "      <td>50352</td>\n",
       "      <td>The Legend of Hercules</td>\n",
       "      <td>The Legend of Hercules</td>\n",
       "      <td>2014</td>\n",
       "      <td>99.0</td>\n",
       "      <td>Action,Adventure,Fantasy</td>\n",
       "    </tr>\n",
       "    <tr>\n",
       "      <th>4</th>\n",
       "      <td>tt1060240</td>\n",
       "      <td>6.5</td>\n",
       "      <td>21</td>\n",
       "      <td>Até Onde?</td>\n",
       "      <td>Até Onde?</td>\n",
       "      <td>2011</td>\n",
       "      <td>73.0</td>\n",
       "      <td>Mystery,Thriller</td>\n",
       "    </tr>\n",
       "    <tr>\n",
       "      <th>...</th>\n",
       "      <td>...</td>\n",
       "      <td>...</td>\n",
       "      <td>...</td>\n",
       "      <td>...</td>\n",
       "      <td>...</td>\n",
       "      <td>...</td>\n",
       "      <td>...</td>\n",
       "      <td>...</td>\n",
       "    </tr>\n",
       "    <tr>\n",
       "      <th>65715</th>\n",
       "      <td>tt9768966</td>\n",
       "      <td>8.6</td>\n",
       "      <td>27</td>\n",
       "      <td>Plugged in</td>\n",
       "      <td>Plugged in</td>\n",
       "      <td>2019</td>\n",
       "      <td>53.0</td>\n",
       "      <td>Documentary</td>\n",
       "    </tr>\n",
       "    <tr>\n",
       "      <th>65716</th>\n",
       "      <td>tt9805820</td>\n",
       "      <td>8.1</td>\n",
       "      <td>25</td>\n",
       "      <td>Caisa</td>\n",
       "      <td>Caisa</td>\n",
       "      <td>2018</td>\n",
       "      <td>84.0</td>\n",
       "      <td>Documentary</td>\n",
       "    </tr>\n",
       "    <tr>\n",
       "      <th>65717</th>\n",
       "      <td>tt9844256</td>\n",
       "      <td>7.5</td>\n",
       "      <td>24</td>\n",
       "      <td>Code Geass: Lelouch of the Rebellion - Glorifi...</td>\n",
       "      <td>Code Geass: Lelouch of the Rebellion Episode III</td>\n",
       "      <td>2018</td>\n",
       "      <td>120.0</td>\n",
       "      <td>Action,Animation,Sci-Fi</td>\n",
       "    </tr>\n",
       "    <tr>\n",
       "      <th>65718</th>\n",
       "      <td>tt9886934</td>\n",
       "      <td>7.0</td>\n",
       "      <td>5</td>\n",
       "      <td>The Projectionist</td>\n",
       "      <td>The Projectionist</td>\n",
       "      <td>2019</td>\n",
       "      <td>81.0</td>\n",
       "      <td>Documentary</td>\n",
       "    </tr>\n",
       "    <tr>\n",
       "      <th>65719</th>\n",
       "      <td>tt9894098</td>\n",
       "      <td>6.3</td>\n",
       "      <td>128</td>\n",
       "      <td>Sathru</td>\n",
       "      <td>Sathru</td>\n",
       "      <td>2019</td>\n",
       "      <td>129.0</td>\n",
       "      <td>Thriller</td>\n",
       "    </tr>\n",
       "  </tbody>\n",
       "</table>\n",
       "<p>65720 rows × 8 columns</p>\n",
       "</div>"
      ],
      "text/plain": [
       "           tconst  averagerating  numvotes  \\\n",
       "0      tt10356526            8.3        31   \n",
       "1      tt10384606            8.9       559   \n",
       "2       tt1042974            6.4        20   \n",
       "3       tt1043726            4.2     50352   \n",
       "4       tt1060240            6.5        21   \n",
       "...           ...            ...       ...   \n",
       "65715   tt9768966            8.6        27   \n",
       "65716   tt9805820            8.1        25   \n",
       "65717   tt9844256            7.5        24   \n",
       "65718   tt9886934            7.0         5   \n",
       "65719   tt9894098            6.3       128   \n",
       "\n",
       "                                           primary_title  \\\n",
       "0                                       Laiye Je Yaarian   \n",
       "1                                             Borderless   \n",
       "2                                              Just Inès   \n",
       "3                                 The Legend of Hercules   \n",
       "4                                              Até Onde?   \n",
       "...                                                  ...   \n",
       "65715                                         Plugged in   \n",
       "65716                                              Caisa   \n",
       "65717  Code Geass: Lelouch of the Rebellion - Glorifi...   \n",
       "65718                                  The Projectionist   \n",
       "65719                                             Sathru   \n",
       "\n",
       "                                         original_title  start_year  \\\n",
       "0                                      Laiye Je Yaarian        2019   \n",
       "1                                            Borderless        2019   \n",
       "2                                             Just Inès        2010   \n",
       "3                                The Legend of Hercules        2014   \n",
       "4                                             Até Onde?        2011   \n",
       "...                                                 ...         ...   \n",
       "65715                                        Plugged in        2019   \n",
       "65716                                             Caisa        2018   \n",
       "65717  Code Geass: Lelouch of the Rebellion Episode III        2018   \n",
       "65718                                 The Projectionist        2019   \n",
       "65719                                            Sathru        2019   \n",
       "\n",
       "       runtime_minutes                    genres  \n",
       "0                117.0                   Romance  \n",
       "1                 87.0               Documentary  \n",
       "2                 90.0                     Drama  \n",
       "3                 99.0  Action,Adventure,Fantasy  \n",
       "4                 73.0          Mystery,Thriller  \n",
       "...                ...                       ...  \n",
       "65715             53.0               Documentary  \n",
       "65716             84.0               Documentary  \n",
       "65717            120.0   Action,Animation,Sci-Fi  \n",
       "65718             81.0               Documentary  \n",
       "65719            129.0                  Thriller  \n",
       "\n",
       "[65720 rows x 8 columns]"
      ]
     },
     "execution_count": 131,
     "metadata": {},
     "output_type": "execute_result"
    }
   ],
   "source": [
    "new_imdb"
   ]
  },
  {
   "cell_type": "code",
   "execution_count": 132,
   "metadata": {},
   "outputs": [
    {
     "data": {
      "text/html": [
       "<div>\n",
       "<style scoped>\n",
       "    .dataframe tbody tr th:only-of-type {\n",
       "        vertical-align: middle;\n",
       "    }\n",
       "\n",
       "    .dataframe tbody tr th {\n",
       "        vertical-align: top;\n",
       "    }\n",
       "\n",
       "    .dataframe thead th {\n",
       "        text-align: right;\n",
       "    }\n",
       "</style>\n",
       "<table border=\"1\" class=\"dataframe\">\n",
       "  <thead>\n",
       "    <tr style=\"text-align: right;\">\n",
       "      <th></th>\n",
       "      <th>tconst</th>\n",
       "      <th>averagerating</th>\n",
       "      <th>numvotes</th>\n",
       "      <th>primary_title</th>\n",
       "      <th>original_title</th>\n",
       "      <th>start_year</th>\n",
       "      <th>runtime_minutes</th>\n",
       "      <th>genres</th>\n",
       "    </tr>\n",
       "  </thead>\n",
       "  <tbody>\n",
       "    <tr>\n",
       "      <th>0</th>\n",
       "      <td>tt10356526</td>\n",
       "      <td>8.3</td>\n",
       "      <td>31</td>\n",
       "      <td>Laiye Je Yaarian</td>\n",
       "      <td>Laiye Je Yaarian</td>\n",
       "      <td>2019</td>\n",
       "      <td>117.0</td>\n",
       "      <td>Romance</td>\n",
       "    </tr>\n",
       "    <tr>\n",
       "      <th>1</th>\n",
       "      <td>tt10384606</td>\n",
       "      <td>8.9</td>\n",
       "      <td>559</td>\n",
       "      <td>Borderless</td>\n",
       "      <td>Borderless</td>\n",
       "      <td>2019</td>\n",
       "      <td>87.0</td>\n",
       "      <td>Documentary</td>\n",
       "    </tr>\n",
       "    <tr>\n",
       "      <th>2</th>\n",
       "      <td>tt1042974</td>\n",
       "      <td>6.4</td>\n",
       "      <td>20</td>\n",
       "      <td>Just Inès</td>\n",
       "      <td>Just Inès</td>\n",
       "      <td>2010</td>\n",
       "      <td>90.0</td>\n",
       "      <td>Drama</td>\n",
       "    </tr>\n",
       "    <tr>\n",
       "      <th>3</th>\n",
       "      <td>tt1043726</td>\n",
       "      <td>4.2</td>\n",
       "      <td>50352</td>\n",
       "      <td>The Legend of Hercules</td>\n",
       "      <td>The Legend of Hercules</td>\n",
       "      <td>2014</td>\n",
       "      <td>99.0</td>\n",
       "      <td>Action,Adventure,Fantasy</td>\n",
       "    </tr>\n",
       "    <tr>\n",
       "      <th>4</th>\n",
       "      <td>tt1060240</td>\n",
       "      <td>6.5</td>\n",
       "      <td>21</td>\n",
       "      <td>Até Onde?</td>\n",
       "      <td>Até Onde?</td>\n",
       "      <td>2011</td>\n",
       "      <td>73.0</td>\n",
       "      <td>Mystery,Thriller</td>\n",
       "    </tr>\n",
       "    <tr>\n",
       "      <th>...</th>\n",
       "      <td>...</td>\n",
       "      <td>...</td>\n",
       "      <td>...</td>\n",
       "      <td>...</td>\n",
       "      <td>...</td>\n",
       "      <td>...</td>\n",
       "      <td>...</td>\n",
       "      <td>...</td>\n",
       "    </tr>\n",
       "    <tr>\n",
       "      <th>65715</th>\n",
       "      <td>tt9768966</td>\n",
       "      <td>8.6</td>\n",
       "      <td>27</td>\n",
       "      <td>Plugged in</td>\n",
       "      <td>Plugged in</td>\n",
       "      <td>2019</td>\n",
       "      <td>53.0</td>\n",
       "      <td>Documentary</td>\n",
       "    </tr>\n",
       "    <tr>\n",
       "      <th>65716</th>\n",
       "      <td>tt9805820</td>\n",
       "      <td>8.1</td>\n",
       "      <td>25</td>\n",
       "      <td>Caisa</td>\n",
       "      <td>Caisa</td>\n",
       "      <td>2018</td>\n",
       "      <td>84.0</td>\n",
       "      <td>Documentary</td>\n",
       "    </tr>\n",
       "    <tr>\n",
       "      <th>65717</th>\n",
       "      <td>tt9844256</td>\n",
       "      <td>7.5</td>\n",
       "      <td>24</td>\n",
       "      <td>Code Geass: Lelouch of the Rebellion - Glorifi...</td>\n",
       "      <td>Code Geass: Lelouch of the Rebellion Episode III</td>\n",
       "      <td>2018</td>\n",
       "      <td>120.0</td>\n",
       "      <td>Action,Animation,Sci-Fi</td>\n",
       "    </tr>\n",
       "    <tr>\n",
       "      <th>65718</th>\n",
       "      <td>tt9886934</td>\n",
       "      <td>7.0</td>\n",
       "      <td>5</td>\n",
       "      <td>The Projectionist</td>\n",
       "      <td>The Projectionist</td>\n",
       "      <td>2019</td>\n",
       "      <td>81.0</td>\n",
       "      <td>Documentary</td>\n",
       "    </tr>\n",
       "    <tr>\n",
       "      <th>65719</th>\n",
       "      <td>tt9894098</td>\n",
       "      <td>6.3</td>\n",
       "      <td>128</td>\n",
       "      <td>Sathru</td>\n",
       "      <td>Sathru</td>\n",
       "      <td>2019</td>\n",
       "      <td>129.0</td>\n",
       "      <td>Thriller</td>\n",
       "    </tr>\n",
       "  </tbody>\n",
       "</table>\n",
       "<p>65720 rows × 8 columns</p>\n",
       "</div>"
      ],
      "text/plain": [
       "           tconst  averagerating  numvotes  \\\n",
       "0      tt10356526            8.3        31   \n",
       "1      tt10384606            8.9       559   \n",
       "2       tt1042974            6.4        20   \n",
       "3       tt1043726            4.2     50352   \n",
       "4       tt1060240            6.5        21   \n",
       "...           ...            ...       ...   \n",
       "65715   tt9768966            8.6        27   \n",
       "65716   tt9805820            8.1        25   \n",
       "65717   tt9844256            7.5        24   \n",
       "65718   tt9886934            7.0         5   \n",
       "65719   tt9894098            6.3       128   \n",
       "\n",
       "                                           primary_title  \\\n",
       "0                                       Laiye Je Yaarian   \n",
       "1                                             Borderless   \n",
       "2                                              Just Inès   \n",
       "3                                 The Legend of Hercules   \n",
       "4                                              Até Onde?   \n",
       "...                                                  ...   \n",
       "65715                                         Plugged in   \n",
       "65716                                              Caisa   \n",
       "65717  Code Geass: Lelouch of the Rebellion - Glorifi...   \n",
       "65718                                  The Projectionist   \n",
       "65719                                             Sathru   \n",
       "\n",
       "                                         original_title  start_year  \\\n",
       "0                                      Laiye Je Yaarian        2019   \n",
       "1                                            Borderless        2019   \n",
       "2                                             Just Inès        2010   \n",
       "3                                The Legend of Hercules        2014   \n",
       "4                                             Até Onde?        2011   \n",
       "...                                                 ...         ...   \n",
       "65715                                        Plugged in        2019   \n",
       "65716                                             Caisa        2018   \n",
       "65717  Code Geass: Lelouch of the Rebellion Episode III        2018   \n",
       "65718                                 The Projectionist        2019   \n",
       "65719                                            Sathru        2019   \n",
       "\n",
       "       runtime_minutes                    genres  \n",
       "0                117.0                   Romance  \n",
       "1                 87.0               Documentary  \n",
       "2                 90.0                     Drama  \n",
       "3                 99.0  Action,Adventure,Fantasy  \n",
       "4                 73.0          Mystery,Thriller  \n",
       "...                ...                       ...  \n",
       "65715             53.0               Documentary  \n",
       "65716             84.0               Documentary  \n",
       "65717            120.0   Action,Animation,Sci-Fi  \n",
       "65718             81.0               Documentary  \n",
       "65719            129.0                  Thriller  \n",
       "\n",
       "[65720 rows x 8 columns]"
      ]
     },
     "execution_count": 132,
     "metadata": {},
     "output_type": "execute_result"
    }
   ],
   "source": [
    "new_imdb"
   ]
  },
  {
   "cell_type": "code",
   "execution_count": 133,
   "metadata": {},
   "outputs": [],
   "source": [
    "del new_imdb['start_year']"
   ]
  },
  {
   "cell_type": "code",
   "execution_count": 136,
   "metadata": {},
   "outputs": [
    {
     "data": {
      "text/html": [
       "<div>\n",
       "<style scoped>\n",
       "    .dataframe tbody tr th:only-of-type {\n",
       "        vertical-align: middle;\n",
       "    }\n",
       "\n",
       "    .dataframe tbody tr th {\n",
       "        vertical-align: top;\n",
       "    }\n",
       "\n",
       "    .dataframe thead th {\n",
       "        text-align: right;\n",
       "    }\n",
       "</style>\n",
       "<table border=\"1\" class=\"dataframe\">\n",
       "  <thead>\n",
       "    <tr style=\"text-align: right;\">\n",
       "      <th></th>\n",
       "      <th>tconst</th>\n",
       "      <th>averagerating</th>\n",
       "      <th>numvotes</th>\n",
       "      <th>primary_title</th>\n",
       "      <th>original_title</th>\n",
       "      <th>runtime_minutes</th>\n",
       "      <th>genres</th>\n",
       "      <th>rating*numvotes</th>\n",
       "    </tr>\n",
       "  </thead>\n",
       "  <tbody>\n",
       "    <tr>\n",
       "      <th>0</th>\n",
       "      <td>tt10356526</td>\n",
       "      <td>8.3</td>\n",
       "      <td>31</td>\n",
       "      <td>Laiye Je Yaarian</td>\n",
       "      <td>Laiye Je Yaarian</td>\n",
       "      <td>117.0</td>\n",
       "      <td>Romance</td>\n",
       "      <td>257.3</td>\n",
       "    </tr>\n",
       "    <tr>\n",
       "      <th>1</th>\n",
       "      <td>tt10384606</td>\n",
       "      <td>8.9</td>\n",
       "      <td>559</td>\n",
       "      <td>Borderless</td>\n",
       "      <td>Borderless</td>\n",
       "      <td>87.0</td>\n",
       "      <td>Documentary</td>\n",
       "      <td>4975.1</td>\n",
       "    </tr>\n",
       "    <tr>\n",
       "      <th>2</th>\n",
       "      <td>tt1042974</td>\n",
       "      <td>6.4</td>\n",
       "      <td>20</td>\n",
       "      <td>Just Inès</td>\n",
       "      <td>Just Inès</td>\n",
       "      <td>90.0</td>\n",
       "      <td>Drama</td>\n",
       "      <td>128.0</td>\n",
       "    </tr>\n",
       "    <tr>\n",
       "      <th>3</th>\n",
       "      <td>tt1043726</td>\n",
       "      <td>4.2</td>\n",
       "      <td>50352</td>\n",
       "      <td>The Legend of Hercules</td>\n",
       "      <td>The Legend of Hercules</td>\n",
       "      <td>99.0</td>\n",
       "      <td>Action,Adventure,Fantasy</td>\n",
       "      <td>211478.4</td>\n",
       "    </tr>\n",
       "    <tr>\n",
       "      <th>4</th>\n",
       "      <td>tt1060240</td>\n",
       "      <td>6.5</td>\n",
       "      <td>21</td>\n",
       "      <td>Até Onde?</td>\n",
       "      <td>Até Onde?</td>\n",
       "      <td>73.0</td>\n",
       "      <td>Mystery,Thriller</td>\n",
       "      <td>136.5</td>\n",
       "    </tr>\n",
       "    <tr>\n",
       "      <th>...</th>\n",
       "      <td>...</td>\n",
       "      <td>...</td>\n",
       "      <td>...</td>\n",
       "      <td>...</td>\n",
       "      <td>...</td>\n",
       "      <td>...</td>\n",
       "      <td>...</td>\n",
       "      <td>...</td>\n",
       "    </tr>\n",
       "    <tr>\n",
       "      <th>65715</th>\n",
       "      <td>tt9768966</td>\n",
       "      <td>8.6</td>\n",
       "      <td>27</td>\n",
       "      <td>Plugged in</td>\n",
       "      <td>Plugged in</td>\n",
       "      <td>53.0</td>\n",
       "      <td>Documentary</td>\n",
       "      <td>232.2</td>\n",
       "    </tr>\n",
       "    <tr>\n",
       "      <th>65716</th>\n",
       "      <td>tt9805820</td>\n",
       "      <td>8.1</td>\n",
       "      <td>25</td>\n",
       "      <td>Caisa</td>\n",
       "      <td>Caisa</td>\n",
       "      <td>84.0</td>\n",
       "      <td>Documentary</td>\n",
       "      <td>202.5</td>\n",
       "    </tr>\n",
       "    <tr>\n",
       "      <th>65717</th>\n",
       "      <td>tt9844256</td>\n",
       "      <td>7.5</td>\n",
       "      <td>24</td>\n",
       "      <td>Code Geass: Lelouch of the Rebellion - Glorifi...</td>\n",
       "      <td>Code Geass: Lelouch of the Rebellion Episode III</td>\n",
       "      <td>120.0</td>\n",
       "      <td>Action,Animation,Sci-Fi</td>\n",
       "      <td>180.0</td>\n",
       "    </tr>\n",
       "    <tr>\n",
       "      <th>65718</th>\n",
       "      <td>tt9886934</td>\n",
       "      <td>7.0</td>\n",
       "      <td>5</td>\n",
       "      <td>The Projectionist</td>\n",
       "      <td>The Projectionist</td>\n",
       "      <td>81.0</td>\n",
       "      <td>Documentary</td>\n",
       "      <td>35.0</td>\n",
       "    </tr>\n",
       "    <tr>\n",
       "      <th>65719</th>\n",
       "      <td>tt9894098</td>\n",
       "      <td>6.3</td>\n",
       "      <td>128</td>\n",
       "      <td>Sathru</td>\n",
       "      <td>Sathru</td>\n",
       "      <td>129.0</td>\n",
       "      <td>Thriller</td>\n",
       "      <td>806.4</td>\n",
       "    </tr>\n",
       "  </tbody>\n",
       "</table>\n",
       "<p>65720 rows × 8 columns</p>\n",
       "</div>"
      ],
      "text/plain": [
       "           tconst  averagerating  numvotes  \\\n",
       "0      tt10356526            8.3        31   \n",
       "1      tt10384606            8.9       559   \n",
       "2       tt1042974            6.4        20   \n",
       "3       tt1043726            4.2     50352   \n",
       "4       tt1060240            6.5        21   \n",
       "...           ...            ...       ...   \n",
       "65715   tt9768966            8.6        27   \n",
       "65716   tt9805820            8.1        25   \n",
       "65717   tt9844256            7.5        24   \n",
       "65718   tt9886934            7.0         5   \n",
       "65719   tt9894098            6.3       128   \n",
       "\n",
       "                                           primary_title  \\\n",
       "0                                       Laiye Je Yaarian   \n",
       "1                                             Borderless   \n",
       "2                                              Just Inès   \n",
       "3                                 The Legend of Hercules   \n",
       "4                                              Até Onde?   \n",
       "...                                                  ...   \n",
       "65715                                         Plugged in   \n",
       "65716                                              Caisa   \n",
       "65717  Code Geass: Lelouch of the Rebellion - Glorifi...   \n",
       "65718                                  The Projectionist   \n",
       "65719                                             Sathru   \n",
       "\n",
       "                                         original_title  runtime_minutes  \\\n",
       "0                                      Laiye Je Yaarian            117.0   \n",
       "1                                            Borderless             87.0   \n",
       "2                                             Just Inès             90.0   \n",
       "3                                The Legend of Hercules             99.0   \n",
       "4                                             Até Onde?             73.0   \n",
       "...                                                 ...              ...   \n",
       "65715                                        Plugged in             53.0   \n",
       "65716                                             Caisa             84.0   \n",
       "65717  Code Geass: Lelouch of the Rebellion Episode III            120.0   \n",
       "65718                                 The Projectionist             81.0   \n",
       "65719                                            Sathru            129.0   \n",
       "\n",
       "                         genres  rating*numvotes  \n",
       "0                       Romance            257.3  \n",
       "1                   Documentary           4975.1  \n",
       "2                         Drama            128.0  \n",
       "3      Action,Adventure,Fantasy         211478.4  \n",
       "4              Mystery,Thriller            136.5  \n",
       "...                         ...              ...  \n",
       "65715               Documentary            232.2  \n",
       "65716               Documentary            202.5  \n",
       "65717   Action,Animation,Sci-Fi            180.0  \n",
       "65718               Documentary             35.0  \n",
       "65719                  Thriller            806.4  \n",
       "\n",
       "[65720 rows x 8 columns]"
      ]
     },
     "execution_count": 136,
     "metadata": {},
     "output_type": "execute_result"
    }
   ],
   "source": [
    "new_imdb['rating*numvotes']=new_imdb['averagerating']*new_imdb['numvotes']\n",
    "new_imdb"
   ]
  },
  {
   "cell_type": "code",
   "execution_count": 100,
   "metadata": {},
   "outputs": [
    {
     "data": {
      "text/plain": [
       "0                         Romance\n",
       "1                     Documentary\n",
       "2                           Drama\n",
       "3        Action,Adventure,Fantasy\n",
       "4                Mystery,Thriller\n",
       "                   ...           \n",
       "65715                 Documentary\n",
       "65716                 Documentary\n",
       "65717     Action,Animation,Sci-Fi\n",
       "65718                 Documentary\n",
       "65719                    Thriller\n",
       "Name: genres, Length: 65720, dtype: object"
      ]
     },
     "execution_count": 100,
     "metadata": {},
     "output_type": "execute_result"
    }
   ],
   "source": [
    "new_imdb['genres']"
   ]
  },
  {
   "cell_type": "code",
   "execution_count": 101,
   "metadata": {},
   "outputs": [
    {
     "name": "stdout",
     "output_type": "stream",
     "text": [
      "<class 'pandas.core.frame.DataFrame'>\n",
      "Int64Index: 65720 entries, 0 to 65719\n",
      "Data columns (total 4 columns):\n",
      "tconst             65720 non-null object\n",
      "averagerating      65720 non-null float64\n",
      "runtime_minutes    65720 non-null float64\n",
      "genres             65720 non-null object\n",
      "dtypes: float64(2), object(2)\n",
      "memory usage: 5.0+ MB\n"
     ]
    }
   ],
   "source": [
    "new_imdb.info()"
   ]
  },
  {
   "cell_type": "code",
   "execution_count": null,
   "metadata": {},
   "outputs": [],
   "source": []
  },
  {
   "cell_type": "code",
   "execution_count": 102,
   "metadata": {},
   "outputs": [
    {
     "data": {
      "text/plain": [
       "pandas.core.series.Series"
      ]
     },
     "execution_count": 102,
     "metadata": {},
     "output_type": "execute_result"
    }
   ],
   "source": [
    "type(new_imdb['genres'])"
   ]
  },
  {
   "cell_type": "code",
   "execution_count": 103,
   "metadata": {},
   "outputs": [
    {
     "data": {
      "text/plain": [
       "pandas.core.frame.DataFrame"
      ]
     },
     "execution_count": 103,
     "metadata": {},
     "output_type": "execute_result"
    }
   ],
   "source": [
    "type(new_imdb)"
   ]
  },
  {
   "cell_type": "code",
   "execution_count": 168,
   "metadata": {},
   "outputs": [
    {
     "data": {
      "text/plain": [
       "Drama                   10189\n",
       "Documentary              9149\n",
       "Comedy                   4604\n",
       "Comedy,Drama             2451\n",
       "Horror                   2232\n",
       "Drama,Romance            1392\n",
       "Thriller                 1288\n",
       "Comedy,Drama,Romance     1159\n",
       "Comedy,Romance           1128\n",
       "Horror,Thriller           943\n",
       "Name: genres, dtype: int64"
      ]
     },
     "execution_count": 168,
     "metadata": {},
     "output_type": "execute_result"
    }
   ],
   "source": [
    "top_10_genres = new_imdb['genres'].value_counts()[:10]\n",
    "top_10_genres"
   ]
  },
  {
   "cell_type": "code",
   "execution_count": 160,
   "metadata": {},
   "outputs": [],
   "source": [
    "top_20_genres = new_imdb['genres'].value_counts()[:20]"
   ]
  },
  {
   "cell_type": "code",
   "execution_count": 161,
   "metadata": {},
   "outputs": [
    {
     "data": {
      "text/plain": [
       "Drama                            10189\n",
       "Documentary                       9149\n",
       "Comedy                            4604\n",
       "Comedy,Drama                      2451\n",
       "Horror                            2232\n",
       "Drama,Romance                     1392\n",
       "Thriller                          1288\n",
       "Comedy,Drama,Romance              1159\n",
       "Comedy,Romance                    1128\n",
       "Horror,Thriller                    943\n",
       "Drama,Thriller                     938\n",
       "Action                             721\n",
       "Biography,Documentary              675\n",
       "Documentary,Drama                  572\n",
       "Documentary,Music                  544\n",
       "Action,Crime,Drama                 530\n",
       "Romance                            529\n",
       "Comedy,Horror                      515\n",
       "Crime,Drama,Thriller               493\n",
       "Biography,Documentary,History      476\n",
       "Name: genres, dtype: int64"
      ]
     },
     "execution_count": 161,
     "metadata": {},
     "output_type": "execute_result"
    }
   ],
   "source": [
    "top_20_genres\n"
   ]
  },
  {
   "cell_type": "code",
   "execution_count": 108,
   "metadata": {},
   "outputs": [],
   "source": [
    "new_rating = new_imdb['averagerating'].value_counts()"
   ]
  },
  {
   "cell_type": "code",
   "execution_count": 109,
   "metadata": {},
   "outputs": [
    {
     "data": {
      "text/plain": [
       "7.0     2046\n",
       "6.5     2034\n",
       "6.6     2032\n",
       "7.2     2012\n",
       "6.8     1997\n",
       "        ... \n",
       "9.6       15\n",
       "10.0      13\n",
       "9.7       11\n",
       "9.8       11\n",
       "9.9        5\n",
       "Name: averagerating, Length: 91, dtype: int64"
      ]
     },
     "execution_count": 109,
     "metadata": {},
     "output_type": "execute_result"
    }
   ],
   "source": [
    "new_rating"
   ]
  },
  {
   "cell_type": "code",
   "execution_count": 162,
   "metadata": {},
   "outputs": [
    {
     "data": {
      "text/html": [
       "<div>\n",
       "<style scoped>\n",
       "    .dataframe tbody tr th:only-of-type {\n",
       "        vertical-align: middle;\n",
       "    }\n",
       "\n",
       "    .dataframe tbody tr th {\n",
       "        vertical-align: top;\n",
       "    }\n",
       "\n",
       "    .dataframe thead th {\n",
       "        text-align: right;\n",
       "    }\n",
       "</style>\n",
       "<table border=\"1\" class=\"dataframe\">\n",
       "  <thead>\n",
       "    <tr style=\"text-align: right;\">\n",
       "      <th></th>\n",
       "      <th>tconst</th>\n",
       "      <th>averagerating</th>\n",
       "      <th>numvotes</th>\n",
       "      <th>primary_title</th>\n",
       "      <th>original_title</th>\n",
       "      <th>runtime_minutes</th>\n",
       "      <th>genres</th>\n",
       "      <th>rating*numvotes</th>\n",
       "    </tr>\n",
       "  </thead>\n",
       "  <tbody>\n",
       "    <tr>\n",
       "      <th>0</th>\n",
       "      <td>tt10356526</td>\n",
       "      <td>8.3</td>\n",
       "      <td>31</td>\n",
       "      <td>Laiye Je Yaarian</td>\n",
       "      <td>Laiye Je Yaarian</td>\n",
       "      <td>117.0</td>\n",
       "      <td>Romance</td>\n",
       "      <td>257.3</td>\n",
       "    </tr>\n",
       "    <tr>\n",
       "      <th>1</th>\n",
       "      <td>tt10384606</td>\n",
       "      <td>8.9</td>\n",
       "      <td>559</td>\n",
       "      <td>Borderless</td>\n",
       "      <td>Borderless</td>\n",
       "      <td>87.0</td>\n",
       "      <td>Documentary</td>\n",
       "      <td>4975.1</td>\n",
       "    </tr>\n",
       "    <tr>\n",
       "      <th>2</th>\n",
       "      <td>tt1042974</td>\n",
       "      <td>6.4</td>\n",
       "      <td>20</td>\n",
       "      <td>Just Inès</td>\n",
       "      <td>Just Inès</td>\n",
       "      <td>90.0</td>\n",
       "      <td>Drama</td>\n",
       "      <td>128.0</td>\n",
       "    </tr>\n",
       "    <tr>\n",
       "      <th>3</th>\n",
       "      <td>tt1043726</td>\n",
       "      <td>4.2</td>\n",
       "      <td>50352</td>\n",
       "      <td>The Legend of Hercules</td>\n",
       "      <td>The Legend of Hercules</td>\n",
       "      <td>99.0</td>\n",
       "      <td>Action,Adventure,Fantasy</td>\n",
       "      <td>211478.4</td>\n",
       "    </tr>\n",
       "    <tr>\n",
       "      <th>4</th>\n",
       "      <td>tt1060240</td>\n",
       "      <td>6.5</td>\n",
       "      <td>21</td>\n",
       "      <td>Até Onde?</td>\n",
       "      <td>Até Onde?</td>\n",
       "      <td>73.0</td>\n",
       "      <td>Mystery,Thriller</td>\n",
       "      <td>136.5</td>\n",
       "    </tr>\n",
       "    <tr>\n",
       "      <th>...</th>\n",
       "      <td>...</td>\n",
       "      <td>...</td>\n",
       "      <td>...</td>\n",
       "      <td>...</td>\n",
       "      <td>...</td>\n",
       "      <td>...</td>\n",
       "      <td>...</td>\n",
       "      <td>...</td>\n",
       "    </tr>\n",
       "    <tr>\n",
       "      <th>65715</th>\n",
       "      <td>tt9768966</td>\n",
       "      <td>8.6</td>\n",
       "      <td>27</td>\n",
       "      <td>Plugged in</td>\n",
       "      <td>Plugged in</td>\n",
       "      <td>53.0</td>\n",
       "      <td>Documentary</td>\n",
       "      <td>232.2</td>\n",
       "    </tr>\n",
       "    <tr>\n",
       "      <th>65716</th>\n",
       "      <td>tt9805820</td>\n",
       "      <td>8.1</td>\n",
       "      <td>25</td>\n",
       "      <td>Caisa</td>\n",
       "      <td>Caisa</td>\n",
       "      <td>84.0</td>\n",
       "      <td>Documentary</td>\n",
       "      <td>202.5</td>\n",
       "    </tr>\n",
       "    <tr>\n",
       "      <th>65717</th>\n",
       "      <td>tt9844256</td>\n",
       "      <td>7.5</td>\n",
       "      <td>24</td>\n",
       "      <td>Code Geass: Lelouch of the Rebellion - Glorifi...</td>\n",
       "      <td>Code Geass: Lelouch of the Rebellion Episode III</td>\n",
       "      <td>120.0</td>\n",
       "      <td>Action,Animation,Sci-Fi</td>\n",
       "      <td>180.0</td>\n",
       "    </tr>\n",
       "    <tr>\n",
       "      <th>65718</th>\n",
       "      <td>tt9886934</td>\n",
       "      <td>7.0</td>\n",
       "      <td>5</td>\n",
       "      <td>The Projectionist</td>\n",
       "      <td>The Projectionist</td>\n",
       "      <td>81.0</td>\n",
       "      <td>Documentary</td>\n",
       "      <td>35.0</td>\n",
       "    </tr>\n",
       "    <tr>\n",
       "      <th>65719</th>\n",
       "      <td>tt9894098</td>\n",
       "      <td>6.3</td>\n",
       "      <td>128</td>\n",
       "      <td>Sathru</td>\n",
       "      <td>Sathru</td>\n",
       "      <td>129.0</td>\n",
       "      <td>Thriller</td>\n",
       "      <td>806.4</td>\n",
       "    </tr>\n",
       "  </tbody>\n",
       "</table>\n",
       "<p>65720 rows × 8 columns</p>\n",
       "</div>"
      ],
      "text/plain": [
       "           tconst  averagerating  numvotes  \\\n",
       "0      tt10356526            8.3        31   \n",
       "1      tt10384606            8.9       559   \n",
       "2       tt1042974            6.4        20   \n",
       "3       tt1043726            4.2     50352   \n",
       "4       tt1060240            6.5        21   \n",
       "...           ...            ...       ...   \n",
       "65715   tt9768966            8.6        27   \n",
       "65716   tt9805820            8.1        25   \n",
       "65717   tt9844256            7.5        24   \n",
       "65718   tt9886934            7.0         5   \n",
       "65719   tt9894098            6.3       128   \n",
       "\n",
       "                                           primary_title  \\\n",
       "0                                       Laiye Je Yaarian   \n",
       "1                                             Borderless   \n",
       "2                                              Just Inès   \n",
       "3                                 The Legend of Hercules   \n",
       "4                                              Até Onde?   \n",
       "...                                                  ...   \n",
       "65715                                         Plugged in   \n",
       "65716                                              Caisa   \n",
       "65717  Code Geass: Lelouch of the Rebellion - Glorifi...   \n",
       "65718                                  The Projectionist   \n",
       "65719                                             Sathru   \n",
       "\n",
       "                                         original_title  runtime_minutes  \\\n",
       "0                                      Laiye Je Yaarian            117.0   \n",
       "1                                            Borderless             87.0   \n",
       "2                                             Just Inès             90.0   \n",
       "3                                The Legend of Hercules             99.0   \n",
       "4                                             Até Onde?             73.0   \n",
       "...                                                 ...              ...   \n",
       "65715                                        Plugged in             53.0   \n",
       "65716                                             Caisa             84.0   \n",
       "65717  Code Geass: Lelouch of the Rebellion Episode III            120.0   \n",
       "65718                                 The Projectionist             81.0   \n",
       "65719                                            Sathru            129.0   \n",
       "\n",
       "                         genres  rating*numvotes  \n",
       "0                       Romance            257.3  \n",
       "1                   Documentary           4975.1  \n",
       "2                         Drama            128.0  \n",
       "3      Action,Adventure,Fantasy         211478.4  \n",
       "4              Mystery,Thriller            136.5  \n",
       "...                         ...              ...  \n",
       "65715               Documentary            232.2  \n",
       "65716               Documentary            202.5  \n",
       "65717   Action,Animation,Sci-Fi            180.0  \n",
       "65718               Documentary             35.0  \n",
       "65719                  Thriller            806.4  \n",
       "\n",
       "[65720 rows x 8 columns]"
      ]
     },
     "execution_count": 162,
     "metadata": {},
     "output_type": "execute_result"
    }
   ],
   "source": [
    "new_imdb"
   ]
  },
  {
   "cell_type": "code",
   "execution_count": 174,
   "metadata": {},
   "outputs": [
    {
     "data": {
      "text/plain": [
       "['Drama',\n",
       " 'Documentary',\n",
       " 'Comedy',\n",
       " 'Comedy,Drama',\n",
       " 'Horror',\n",
       " 'Drama,Romance',\n",
       " 'Thriller',\n",
       " 'Comedy,Drama,Romance',\n",
       " 'Comedy,Romance',\n",
       " 'Horror,Thriller']"
      ]
     },
     "execution_count": 174,
     "metadata": {},
     "output_type": "execute_result"
    }
   ],
   "source": [
    "top10_list = list(top_10_genres.keys())\n",
    "top10_list"
   ]
  },
  {
   "cell_type": "code",
   "execution_count": 113,
   "metadata": {},
   "outputs": [
    {
     "data": {
      "text/plain": [
       "6.485778781038375"
      ]
     },
     "execution_count": 113,
     "metadata": {},
     "output_type": "execute_result"
    }
   ],
   "source": [
    "#new_imdb[new_imdb['genres']=='Drama']['averagerating'].mean()"
   ]
  },
  {
   "cell_type": "code",
   "execution_count": 149,
   "metadata": {},
   "outputs": [
    {
     "data": {
      "text/html": [
       "<div>\n",
       "<style scoped>\n",
       "    .dataframe tbody tr th:only-of-type {\n",
       "        vertical-align: middle;\n",
       "    }\n",
       "\n",
       "    .dataframe tbody tr th {\n",
       "        vertical-align: top;\n",
       "    }\n",
       "\n",
       "    .dataframe thead th {\n",
       "        text-align: right;\n",
       "    }\n",
       "</style>\n",
       "<table border=\"1\" class=\"dataframe\">\n",
       "  <thead>\n",
       "    <tr style=\"text-align: right;\">\n",
       "      <th></th>\n",
       "      <th>tconst</th>\n",
       "      <th>averagerating</th>\n",
       "      <th>numvotes</th>\n",
       "      <th>primary_title</th>\n",
       "      <th>original_title</th>\n",
       "      <th>runtime_minutes</th>\n",
       "      <th>genres</th>\n",
       "      <th>rating*numvotes</th>\n",
       "    </tr>\n",
       "  </thead>\n",
       "  <tbody>\n",
       "    <tr>\n",
       "      <th>2</th>\n",
       "      <td>tt1042974</td>\n",
       "      <td>6.4</td>\n",
       "      <td>20</td>\n",
       "      <td>Just Inès</td>\n",
       "      <td>Just Inès</td>\n",
       "      <td>90.0</td>\n",
       "      <td>Drama</td>\n",
       "      <td>128.0</td>\n",
       "    </tr>\n",
       "    <tr>\n",
       "      <th>36</th>\n",
       "      <td>tt1325019</td>\n",
       "      <td>7.2</td>\n",
       "      <td>29</td>\n",
       "      <td>The Custom Mary</td>\n",
       "      <td>The Custom Mary</td>\n",
       "      <td>81.0</td>\n",
       "      <td>Drama</td>\n",
       "      <td>208.8</td>\n",
       "    </tr>\n",
       "    <tr>\n",
       "      <th>46</th>\n",
       "      <td>tt1368858</td>\n",
       "      <td>5.4</td>\n",
       "      <td>4302</td>\n",
       "      <td>The Forger</td>\n",
       "      <td>The Forger</td>\n",
       "      <td>94.0</td>\n",
       "      <td>Drama</td>\n",
       "      <td>23230.8</td>\n",
       "    </tr>\n",
       "    <tr>\n",
       "      <th>50</th>\n",
       "      <td>tt1379736</td>\n",
       "      <td>5.7</td>\n",
       "      <td>15</td>\n",
       "      <td>Cesado</td>\n",
       "      <td>Cesado</td>\n",
       "      <td>90.0</td>\n",
       "      <td>Drama</td>\n",
       "      <td>85.5</td>\n",
       "    </tr>\n",
       "    <tr>\n",
       "      <th>58</th>\n",
       "      <td>tt1418760</td>\n",
       "      <td>6.4</td>\n",
       "      <td>1502</td>\n",
       "      <td>Tirza</td>\n",
       "      <td>Tirza</td>\n",
       "      <td>100.0</td>\n",
       "      <td>Drama</td>\n",
       "      <td>9612.8</td>\n",
       "    </tr>\n",
       "    <tr>\n",
       "      <th>...</th>\n",
       "      <td>...</td>\n",
       "      <td>...</td>\n",
       "      <td>...</td>\n",
       "      <td>...</td>\n",
       "      <td>...</td>\n",
       "      <td>...</td>\n",
       "      <td>...</td>\n",
       "      <td>...</td>\n",
       "    </tr>\n",
       "    <tr>\n",
       "      <th>65684</th>\n",
       "      <td>tt9109492</td>\n",
       "      <td>6.4</td>\n",
       "      <td>9</td>\n",
       "      <td>American Woman</td>\n",
       "      <td>American Woman</td>\n",
       "      <td>85.0</td>\n",
       "      <td>Drama</td>\n",
       "      <td>57.6</td>\n",
       "    </tr>\n",
       "    <tr>\n",
       "      <th>65689</th>\n",
       "      <td>tt9165332</td>\n",
       "      <td>7.4</td>\n",
       "      <td>710</td>\n",
       "      <td>Chitralahari</td>\n",
       "      <td>Chitralahari</td>\n",
       "      <td>131.0</td>\n",
       "      <td>Drama</td>\n",
       "      <td>5254.0</td>\n",
       "    </tr>\n",
       "    <tr>\n",
       "      <th>65702</th>\n",
       "      <td>tt9471952</td>\n",
       "      <td>7.1</td>\n",
       "      <td>338</td>\n",
       "      <td>Sükut Evi</td>\n",
       "      <td>Sükut Evi</td>\n",
       "      <td>97.0</td>\n",
       "      <td>Drama</td>\n",
       "      <td>2399.8</td>\n",
       "    </tr>\n",
       "    <tr>\n",
       "      <th>65709</th>\n",
       "      <td>tt9619016</td>\n",
       "      <td>7.0</td>\n",
       "      <td>27</td>\n",
       "      <td>Fukuoka</td>\n",
       "      <td>Fukuoka</td>\n",
       "      <td>88.0</td>\n",
       "      <td>Drama</td>\n",
       "      <td>189.0</td>\n",
       "    </tr>\n",
       "    <tr>\n",
       "      <th>65712</th>\n",
       "      <td>tt9690762</td>\n",
       "      <td>5.6</td>\n",
       "      <td>37</td>\n",
       "      <td>On the Balcony</td>\n",
       "      <td>Yang tai shang</td>\n",
       "      <td>100.0</td>\n",
       "      <td>Drama</td>\n",
       "      <td>207.2</td>\n",
       "    </tr>\n",
       "  </tbody>\n",
       "</table>\n",
       "<p>10189 rows × 8 columns</p>\n",
       "</div>"
      ],
      "text/plain": [
       "          tconst  averagerating  numvotes    primary_title   original_title  \\\n",
       "2      tt1042974            6.4        20        Just Inès        Just Inès   \n",
       "36     tt1325019            7.2        29  The Custom Mary  The Custom Mary   \n",
       "46     tt1368858            5.4      4302       The Forger       The Forger   \n",
       "50     tt1379736            5.7        15           Cesado           Cesado   \n",
       "58     tt1418760            6.4      1502            Tirza            Tirza   \n",
       "...          ...            ...       ...              ...              ...   \n",
       "65684  tt9109492            6.4         9   American Woman   American Woman   \n",
       "65689  tt9165332            7.4       710     Chitralahari     Chitralahari   \n",
       "65702  tt9471952            7.1       338        Sükut Evi        Sükut Evi   \n",
       "65709  tt9619016            7.0        27          Fukuoka          Fukuoka   \n",
       "65712  tt9690762            5.6        37   On the Balcony   Yang tai shang   \n",
       "\n",
       "       runtime_minutes genres  rating*numvotes  \n",
       "2                 90.0  Drama            128.0  \n",
       "36                81.0  Drama            208.8  \n",
       "46                94.0  Drama          23230.8  \n",
       "50                90.0  Drama             85.5  \n",
       "58               100.0  Drama           9612.8  \n",
       "...                ...    ...              ...  \n",
       "65684             85.0  Drama             57.6  \n",
       "65689            131.0  Drama           5254.0  \n",
       "65702             97.0  Drama           2399.8  \n",
       "65709             88.0  Drama            189.0  \n",
       "65712            100.0  Drama            207.2  \n",
       "\n",
       "[10189 rows x 8 columns]"
      ]
     },
     "execution_count": 149,
     "metadata": {},
     "output_type": "execute_result"
    }
   ],
   "source": [
    "new_imdb_drama = new_imdb[new_imdb['genres']=='Drama']\n",
    "new_imdb_drama"
   ]
  },
  {
   "cell_type": "code",
   "execution_count": 152,
   "metadata": {},
   "outputs": [
    {
     "data": {
      "text/plain": [
       "7.151290148962464"
      ]
     },
     "execution_count": 152,
     "metadata": {},
     "output_type": "execute_result"
    }
   ],
   "source": [
    "drama_average = sum_rate_nvots / sum_votes\n",
    "drama_average"
   ]
  },
  {
   "cell_type": "code",
   "execution_count": 177,
   "metadata": {},
   "outputs": [
    {
     "data": {
      "text/html": [
       "<div>\n",
       "<style scoped>\n",
       "    .dataframe tbody tr th:only-of-type {\n",
       "        vertical-align: middle;\n",
       "    }\n",
       "\n",
       "    .dataframe tbody tr th {\n",
       "        vertical-align: top;\n",
       "    }\n",
       "\n",
       "    .dataframe thead th {\n",
       "        text-align: right;\n",
       "    }\n",
       "</style>\n",
       "<table border=\"1\" class=\"dataframe\">\n",
       "  <thead>\n",
       "    <tr style=\"text-align: right;\">\n",
       "      <th></th>\n",
       "      <th>tconst</th>\n",
       "      <th>averagerating</th>\n",
       "      <th>numvotes</th>\n",
       "      <th>primary_title</th>\n",
       "      <th>original_title</th>\n",
       "      <th>runtime_minutes</th>\n",
       "      <th>genres</th>\n",
       "      <th>rating*numvotes</th>\n",
       "    </tr>\n",
       "  </thead>\n",
       "  <tbody>\n",
       "    <tr>\n",
       "      <th>1</th>\n",
       "      <td>tt10384606</td>\n",
       "      <td>8.9</td>\n",
       "      <td>559</td>\n",
       "      <td>Borderless</td>\n",
       "      <td>Borderless</td>\n",
       "      <td>87.0</td>\n",
       "      <td>Documentary</td>\n",
       "      <td>4975.1</td>\n",
       "    </tr>\n",
       "    <tr>\n",
       "      <th>31</th>\n",
       "      <td>tt1287879</td>\n",
       "      <td>7.7</td>\n",
       "      <td>76</td>\n",
       "      <td>America Stripped</td>\n",
       "      <td>Stripped: Greg Friedler's Naked Las Vegas</td>\n",
       "      <td>78.0</td>\n",
       "      <td>Documentary</td>\n",
       "      <td>585.2</td>\n",
       "    </tr>\n",
       "    <tr>\n",
       "      <th>43</th>\n",
       "      <td>tt1346690</td>\n",
       "      <td>7.7</td>\n",
       "      <td>7</td>\n",
       "      <td>Music Makes a City: A Louisville Orchestra Story</td>\n",
       "      <td>Music Makes a City: A Louisville Orchestra Story</td>\n",
       "      <td>103.0</td>\n",
       "      <td>Documentary</td>\n",
       "      <td>53.9</td>\n",
       "    </tr>\n",
       "    <tr>\n",
       "      <th>49</th>\n",
       "      <td>tt1378667</td>\n",
       "      <td>7.5</td>\n",
       "      <td>31</td>\n",
       "      <td>Florent: Queen of the Meat Market</td>\n",
       "      <td>Florent: Queen of the Meat Market</td>\n",
       "      <td>87.0</td>\n",
       "      <td>Documentary</td>\n",
       "      <td>232.5</td>\n",
       "    </tr>\n",
       "    <tr>\n",
       "      <th>56</th>\n",
       "      <td>tt1409015</td>\n",
       "      <td>8.2</td>\n",
       "      <td>40</td>\n",
       "      <td>Greenlit</td>\n",
       "      <td>Greenlit</td>\n",
       "      <td>50.0</td>\n",
       "      <td>Documentary</td>\n",
       "      <td>328.0</td>\n",
       "    </tr>\n",
       "    <tr>\n",
       "      <th>...</th>\n",
       "      <td>...</td>\n",
       "      <td>...</td>\n",
       "      <td>...</td>\n",
       "      <td>...</td>\n",
       "      <td>...</td>\n",
       "      <td>...</td>\n",
       "      <td>...</td>\n",
       "      <td>...</td>\n",
       "    </tr>\n",
       "    <tr>\n",
       "      <th>65708</th>\n",
       "      <td>tt9613538</td>\n",
       "      <td>4.3</td>\n",
       "      <td>26</td>\n",
       "      <td>Mad House: A Paranormal Documentary</td>\n",
       "      <td>Mad House: A Paranormal Documentary</td>\n",
       "      <td>89.0</td>\n",
       "      <td>Documentary</td>\n",
       "      <td>111.8</td>\n",
       "    </tr>\n",
       "    <tr>\n",
       "      <th>65713</th>\n",
       "      <td>tt9691896</td>\n",
       "      <td>6.3</td>\n",
       "      <td>21</td>\n",
       "      <td>Out</td>\n",
       "      <td>Coming Out</td>\n",
       "      <td>64.0</td>\n",
       "      <td>Documentary</td>\n",
       "      <td>132.3</td>\n",
       "    </tr>\n",
       "    <tr>\n",
       "      <th>65715</th>\n",
       "      <td>tt9768966</td>\n",
       "      <td>8.6</td>\n",
       "      <td>27</td>\n",
       "      <td>Plugged in</td>\n",
       "      <td>Plugged in</td>\n",
       "      <td>53.0</td>\n",
       "      <td>Documentary</td>\n",
       "      <td>232.2</td>\n",
       "    </tr>\n",
       "    <tr>\n",
       "      <th>65716</th>\n",
       "      <td>tt9805820</td>\n",
       "      <td>8.1</td>\n",
       "      <td>25</td>\n",
       "      <td>Caisa</td>\n",
       "      <td>Caisa</td>\n",
       "      <td>84.0</td>\n",
       "      <td>Documentary</td>\n",
       "      <td>202.5</td>\n",
       "    </tr>\n",
       "    <tr>\n",
       "      <th>65718</th>\n",
       "      <td>tt9886934</td>\n",
       "      <td>7.0</td>\n",
       "      <td>5</td>\n",
       "      <td>The Projectionist</td>\n",
       "      <td>The Projectionist</td>\n",
       "      <td>81.0</td>\n",
       "      <td>Documentary</td>\n",
       "      <td>35.0</td>\n",
       "    </tr>\n",
       "  </tbody>\n",
       "</table>\n",
       "<p>9149 rows × 8 columns</p>\n",
       "</div>"
      ],
      "text/plain": [
       "           tconst  averagerating  numvotes  \\\n",
       "1      tt10384606            8.9       559   \n",
       "31      tt1287879            7.7        76   \n",
       "43      tt1346690            7.7         7   \n",
       "49      tt1378667            7.5        31   \n",
       "56      tt1409015            8.2        40   \n",
       "...           ...            ...       ...   \n",
       "65708   tt9613538            4.3        26   \n",
       "65713   tt9691896            6.3        21   \n",
       "65715   tt9768966            8.6        27   \n",
       "65716   tt9805820            8.1        25   \n",
       "65718   tt9886934            7.0         5   \n",
       "\n",
       "                                          primary_title  \\\n",
       "1                                            Borderless   \n",
       "31                                     America Stripped   \n",
       "43     Music Makes a City: A Louisville Orchestra Story   \n",
       "49                    Florent: Queen of the Meat Market   \n",
       "56                                             Greenlit   \n",
       "...                                                 ...   \n",
       "65708               Mad House: A Paranormal Documentary   \n",
       "65713                                               Out   \n",
       "65715                                        Plugged in   \n",
       "65716                                             Caisa   \n",
       "65718                                 The Projectionist   \n",
       "\n",
       "                                         original_title  runtime_minutes  \\\n",
       "1                                            Borderless             87.0   \n",
       "31            Stripped: Greg Friedler's Naked Las Vegas             78.0   \n",
       "43     Music Makes a City: A Louisville Orchestra Story            103.0   \n",
       "49                    Florent: Queen of the Meat Market             87.0   \n",
       "56                                             Greenlit             50.0   \n",
       "...                                                 ...              ...   \n",
       "65708               Mad House: A Paranormal Documentary             89.0   \n",
       "65713                                        Coming Out             64.0   \n",
       "65715                                        Plugged in             53.0   \n",
       "65716                                             Caisa             84.0   \n",
       "65718                                 The Projectionist             81.0   \n",
       "\n",
       "            genres  rating*numvotes  \n",
       "1      Documentary           4975.1  \n",
       "31     Documentary            585.2  \n",
       "43     Documentary             53.9  \n",
       "49     Documentary            232.5  \n",
       "56     Documentary            328.0  \n",
       "...            ...              ...  \n",
       "65708  Documentary            111.8  \n",
       "65713  Documentary            132.3  \n",
       "65715  Documentary            232.2  \n",
       "65716  Documentary            202.5  \n",
       "65718  Documentary             35.0  \n",
       "\n",
       "[9149 rows x 8 columns]"
      ]
     },
     "execution_count": 177,
     "metadata": {},
     "output_type": "execute_result"
    }
   ],
   "source": [
    "new_imdb_Documentary = new_imdb[new_imdb['genres']=='Documentary']\n",
    "new_imdb_Documentary"
   ]
  },
  {
   "cell_type": "code",
   "execution_count": 182,
   "metadata": {},
   "outputs": [
    {
     "data": {
      "text/plain": [
       "7.1896575086520125"
      ]
     },
     "execution_count": 182,
     "metadata": {},
     "output_type": "execute_result"
    }
   ],
   "source": [
    "documentry_average = sum_rate_nvots_doc / sum_votes_doc\n",
    "documentry_average"
   ]
  },
  {
   "cell_type": "code",
   "execution_count": 183,
   "metadata": {},
   "outputs": [
    {
     "data": {
      "text/html": [
       "<div>\n",
       "<style scoped>\n",
       "    .dataframe tbody tr th:only-of-type {\n",
       "        vertical-align: middle;\n",
       "    }\n",
       "\n",
       "    .dataframe tbody tr th {\n",
       "        vertical-align: top;\n",
       "    }\n",
       "\n",
       "    .dataframe thead th {\n",
       "        text-align: right;\n",
       "    }\n",
       "</style>\n",
       "<table border=\"1\" class=\"dataframe\">\n",
       "  <thead>\n",
       "    <tr style=\"text-align: right;\">\n",
       "      <th></th>\n",
       "      <th>tconst</th>\n",
       "      <th>averagerating</th>\n",
       "      <th>numvotes</th>\n",
       "      <th>primary_title</th>\n",
       "      <th>original_title</th>\n",
       "      <th>runtime_minutes</th>\n",
       "      <th>genres</th>\n",
       "      <th>rating*numvotes</th>\n",
       "    </tr>\n",
       "  </thead>\n",
       "  <tbody>\n",
       "    <tr>\n",
       "      <th>10</th>\n",
       "      <td>tt1171222</td>\n",
       "      <td>5.1</td>\n",
       "      <td>8296</td>\n",
       "      <td>Baggage Claim</td>\n",
       "      <td>Baggage Claim</td>\n",
       "      <td>96.0</td>\n",
       "      <td>Comedy</td>\n",
       "      <td>42309.6</td>\n",
       "    </tr>\n",
       "    <tr>\n",
       "      <th>28</th>\n",
       "      <td>tt1274297</td>\n",
       "      <td>5.4</td>\n",
       "      <td>381</td>\n",
       "      <td>Weddings and Other Disasters</td>\n",
       "      <td>Matrimoni e altri disastri</td>\n",
       "      <td>102.0</td>\n",
       "      <td>Comedy</td>\n",
       "      <td>2057.4</td>\n",
       "    </tr>\n",
       "    <tr>\n",
       "      <th>41</th>\n",
       "      <td>tt1343110</td>\n",
       "      <td>2.5</td>\n",
       "      <td>345</td>\n",
       "      <td>Speed-Dating</td>\n",
       "      <td>Speed-Dating</td>\n",
       "      <td>98.0</td>\n",
       "      <td>Comedy</td>\n",
       "      <td>862.5</td>\n",
       "    </tr>\n",
       "    <tr>\n",
       "      <th>105</th>\n",
       "      <td>tt1539491</td>\n",
       "      <td>5.6</td>\n",
       "      <td>55</td>\n",
       "      <td>Bale Pandiya</td>\n",
       "      <td>Bale Pandiya</td>\n",
       "      <td>137.0</td>\n",
       "      <td>Comedy</td>\n",
       "      <td>308.0</td>\n",
       "    </tr>\n",
       "    <tr>\n",
       "      <th>132</th>\n",
       "      <td>tt1595379</td>\n",
       "      <td>7.4</td>\n",
       "      <td>14</td>\n",
       "      <td>The Lutefisk Wars</td>\n",
       "      <td>The Lutefisk Wars</td>\n",
       "      <td>86.0</td>\n",
       "      <td>Comedy</td>\n",
       "      <td>103.6</td>\n",
       "    </tr>\n",
       "    <tr>\n",
       "      <th>...</th>\n",
       "      <td>...</td>\n",
       "      <td>...</td>\n",
       "      <td>...</td>\n",
       "      <td>...</td>\n",
       "      <td>...</td>\n",
       "      <td>...</td>\n",
       "      <td>...</td>\n",
       "      <td>...</td>\n",
       "    </tr>\n",
       "    <tr>\n",
       "      <th>65687</th>\n",
       "      <td>tt9127488</td>\n",
       "      <td>9.3</td>\n",
       "      <td>10</td>\n",
       "      <td>Postal</td>\n",
       "      <td>Postal</td>\n",
       "      <td>77.0</td>\n",
       "      <td>Comedy</td>\n",
       "      <td>93.0</td>\n",
       "    </tr>\n",
       "    <tr>\n",
       "      <th>65692</th>\n",
       "      <td>tt9185542</td>\n",
       "      <td>6.7</td>\n",
       "      <td>78</td>\n",
       "      <td>An Almost Ordinary Summer</td>\n",
       "      <td>Croce e delizia</td>\n",
       "      <td>100.0</td>\n",
       "      <td>Comedy</td>\n",
       "      <td>522.6</td>\n",
       "    </tr>\n",
       "    <tr>\n",
       "      <th>65695</th>\n",
       "      <td>tt9260446</td>\n",
       "      <td>6.3</td>\n",
       "      <td>137</td>\n",
       "      <td>Ma cosa ci dice il cervello</td>\n",
       "      <td>Ma cosa ci dice il cervello</td>\n",
       "      <td>100.0</td>\n",
       "      <td>Comedy</td>\n",
       "      <td>863.1</td>\n",
       "    </tr>\n",
       "    <tr>\n",
       "      <th>65699</th>\n",
       "      <td>tt9443892</td>\n",
       "      <td>2.3</td>\n",
       "      <td>6</td>\n",
       "      <td>Degistir Bakalim</td>\n",
       "      <td>Degistir Bakalim</td>\n",
       "      <td>103.0</td>\n",
       "      <td>Comedy</td>\n",
       "      <td>13.8</td>\n",
       "    </tr>\n",
       "    <tr>\n",
       "      <th>65714</th>\n",
       "      <td>tt9708284</td>\n",
       "      <td>4.9</td>\n",
       "      <td>19</td>\n",
       "      <td>I Love You, You're Perfect, Now Change!</td>\n",
       "      <td>I Love You, You're Perfect, Now Change!</td>\n",
       "      <td>89.0</td>\n",
       "      <td>Comedy</td>\n",
       "      <td>93.1</td>\n",
       "    </tr>\n",
       "  </tbody>\n",
       "</table>\n",
       "<p>4604 rows × 8 columns</p>\n",
       "</div>"
      ],
      "text/plain": [
       "          tconst  averagerating  numvotes  \\\n",
       "10     tt1171222            5.1      8296   \n",
       "28     tt1274297            5.4       381   \n",
       "41     tt1343110            2.5       345   \n",
       "105    tt1539491            5.6        55   \n",
       "132    tt1595379            7.4        14   \n",
       "...          ...            ...       ...   \n",
       "65687  tt9127488            9.3        10   \n",
       "65692  tt9185542            6.7        78   \n",
       "65695  tt9260446            6.3       137   \n",
       "65699  tt9443892            2.3         6   \n",
       "65714  tt9708284            4.9        19   \n",
       "\n",
       "                                 primary_title  \\\n",
       "10                               Baggage Claim   \n",
       "28                Weddings and Other Disasters   \n",
       "41                                Speed-Dating   \n",
       "105                               Bale Pandiya   \n",
       "132                          The Lutefisk Wars   \n",
       "...                                        ...   \n",
       "65687                                   Postal   \n",
       "65692                An Almost Ordinary Summer   \n",
       "65695              Ma cosa ci dice il cervello   \n",
       "65699                         Degistir Bakalim   \n",
       "65714  I Love You, You're Perfect, Now Change!   \n",
       "\n",
       "                                original_title  runtime_minutes  genres  \\\n",
       "10                               Baggage Claim             96.0  Comedy   \n",
       "28                  Matrimoni e altri disastri            102.0  Comedy   \n",
       "41                                Speed-Dating             98.0  Comedy   \n",
       "105                               Bale Pandiya            137.0  Comedy   \n",
       "132                          The Lutefisk Wars             86.0  Comedy   \n",
       "...                                        ...              ...     ...   \n",
       "65687                                   Postal             77.0  Comedy   \n",
       "65692                          Croce e delizia            100.0  Comedy   \n",
       "65695              Ma cosa ci dice il cervello            100.0  Comedy   \n",
       "65699                         Degistir Bakalim            103.0  Comedy   \n",
       "65714  I Love You, You're Perfect, Now Change!             89.0  Comedy   \n",
       "\n",
       "       rating*numvotes  \n",
       "10             42309.6  \n",
       "28              2057.4  \n",
       "41               862.5  \n",
       "105              308.0  \n",
       "132              103.6  \n",
       "...                ...  \n",
       "65687             93.0  \n",
       "65692            522.6  \n",
       "65695            863.1  \n",
       "65699             13.8  \n",
       "65714             93.1  \n",
       "\n",
       "[4604 rows x 8 columns]"
      ]
     },
     "execution_count": 183,
     "metadata": {},
     "output_type": "execute_result"
    }
   ],
   "source": [
    "new_imdb_Comedy = new_imdb[new_imdb['genres']=='Comedy']\n",
    "new_imdb_Comedy"
   ]
  },
  {
   "cell_type": "code",
   "execution_count": 186,
   "metadata": {},
   "outputs": [
    {
     "data": {
      "text/plain": [
       "5.876412804857133"
      ]
     },
     "execution_count": 186,
     "metadata": {},
     "output_type": "execute_result"
    }
   ],
   "source": [
    "comedy_average = sum_rate_nvots_comedy / sum_votes_comedy\n",
    "comedy_average"
   ]
  },
  {
   "cell_type": "code",
   "execution_count": 187,
   "metadata": {},
   "outputs": [
    {
     "data": {
      "text/html": [
       "<div>\n",
       "<style scoped>\n",
       "    .dataframe tbody tr th:only-of-type {\n",
       "        vertical-align: middle;\n",
       "    }\n",
       "\n",
       "    .dataframe tbody tr th {\n",
       "        vertical-align: top;\n",
       "    }\n",
       "\n",
       "    .dataframe thead th {\n",
       "        text-align: right;\n",
       "    }\n",
       "</style>\n",
       "<table border=\"1\" class=\"dataframe\">\n",
       "  <thead>\n",
       "    <tr style=\"text-align: right;\">\n",
       "      <th></th>\n",
       "      <th>tconst</th>\n",
       "      <th>averagerating</th>\n",
       "      <th>numvotes</th>\n",
       "      <th>primary_title</th>\n",
       "      <th>original_title</th>\n",
       "      <th>runtime_minutes</th>\n",
       "      <th>genres</th>\n",
       "      <th>rating*numvotes</th>\n",
       "    </tr>\n",
       "  </thead>\n",
       "  <tbody>\n",
       "    <tr>\n",
       "      <th>45</th>\n",
       "      <td>tt1360829</td>\n",
       "      <td>5.0</td>\n",
       "      <td>223</td>\n",
       "      <td>The Shouting Men</td>\n",
       "      <td>The Shouting Men</td>\n",
       "      <td>92.0</td>\n",
       "      <td>Comedy,Drama</td>\n",
       "      <td>1115.0</td>\n",
       "    </tr>\n",
       "    <tr>\n",
       "      <th>62</th>\n",
       "      <td>tt1428464</td>\n",
       "      <td>6.4</td>\n",
       "      <td>227</td>\n",
       "      <td>The Way to Live</td>\n",
       "      <td>Wie man leben soll</td>\n",
       "      <td>100.0</td>\n",
       "      <td>Comedy,Drama</td>\n",
       "      <td>1452.8</td>\n",
       "    </tr>\n",
       "    <tr>\n",
       "      <th>78</th>\n",
       "      <td>tt1492849</td>\n",
       "      <td>5.2</td>\n",
       "      <td>534</td>\n",
       "      <td>Garbage</td>\n",
       "      <td>Garbage</td>\n",
       "      <td>88.0</td>\n",
       "      <td>Comedy,Drama</td>\n",
       "      <td>2776.8</td>\n",
       "    </tr>\n",
       "    <tr>\n",
       "      <th>144</th>\n",
       "      <td>tt1612608</td>\n",
       "      <td>5.8</td>\n",
       "      <td>1360</td>\n",
       "      <td>The Italian</td>\n",
       "      <td>L'Italien</td>\n",
       "      <td>102.0</td>\n",
       "      <td>Comedy,Drama</td>\n",
       "      <td>7888.0</td>\n",
       "    </tr>\n",
       "    <tr>\n",
       "      <th>147</th>\n",
       "      <td>tt1615840</td>\n",
       "      <td>6.6</td>\n",
       "      <td>578</td>\n",
       "      <td>Sinyora Enrica ile Italyan Olmak</td>\n",
       "      <td>Sinyora Enrica ile Italyan Olmak</td>\n",
       "      <td>110.0</td>\n",
       "      <td>Comedy,Drama</td>\n",
       "      <td>3814.8</td>\n",
       "    </tr>\n",
       "    <tr>\n",
       "      <th>...</th>\n",
       "      <td>...</td>\n",
       "      <td>...</td>\n",
       "      <td>...</td>\n",
       "      <td>...</td>\n",
       "      <td>...</td>\n",
       "      <td>...</td>\n",
       "      <td>...</td>\n",
       "      <td>...</td>\n",
       "    </tr>\n",
       "    <tr>\n",
       "      <th>65520</th>\n",
       "      <td>tt7385812</td>\n",
       "      <td>7.9</td>\n",
       "      <td>15</td>\n",
       "      <td>Closure</td>\n",
       "      <td>Closure</td>\n",
       "      <td>90.0</td>\n",
       "      <td>Comedy,Drama</td>\n",
       "      <td>118.5</td>\n",
       "    </tr>\n",
       "    <tr>\n",
       "      <th>65593</th>\n",
       "      <td>tt7968500</td>\n",
       "      <td>5.8</td>\n",
       "      <td>77</td>\n",
       "      <td>Jarugandi</td>\n",
       "      <td>Jarugandi</td>\n",
       "      <td>136.0</td>\n",
       "      <td>Comedy,Drama</td>\n",
       "      <td>446.6</td>\n",
       "    </tr>\n",
       "    <tr>\n",
       "      <th>65603</th>\n",
       "      <td>tt8041276</td>\n",
       "      <td>7.2</td>\n",
       "      <td>5947</td>\n",
       "      <td>Paddleton</td>\n",
       "      <td>Paddleton</td>\n",
       "      <td>89.0</td>\n",
       "      <td>Comedy,Drama</td>\n",
       "      <td>42818.4</td>\n",
       "    </tr>\n",
       "    <tr>\n",
       "      <th>65640</th>\n",
       "      <td>tt8426964</td>\n",
       "      <td>4.8</td>\n",
       "      <td>354</td>\n",
       "      <td>Drama</td>\n",
       "      <td>Drama</td>\n",
       "      <td>146.0</td>\n",
       "      <td>Comedy,Drama</td>\n",
       "      <td>1699.2</td>\n",
       "    </tr>\n",
       "    <tr>\n",
       "      <th>65654</th>\n",
       "      <td>tt8601284</td>\n",
       "      <td>8.1</td>\n",
       "      <td>54</td>\n",
       "      <td>Lada Kamenski</td>\n",
       "      <td>Lada Kamenski</td>\n",
       "      <td>71.0</td>\n",
       "      <td>Comedy,Drama</td>\n",
       "      <td>437.4</td>\n",
       "    </tr>\n",
       "  </tbody>\n",
       "</table>\n",
       "<p>2451 rows × 8 columns</p>\n",
       "</div>"
      ],
      "text/plain": [
       "          tconst  averagerating  numvotes                     primary_title  \\\n",
       "45     tt1360829            5.0       223                  The Shouting Men   \n",
       "62     tt1428464            6.4       227                   The Way to Live   \n",
       "78     tt1492849            5.2       534                           Garbage   \n",
       "144    tt1612608            5.8      1360                       The Italian   \n",
       "147    tt1615840            6.6       578  Sinyora Enrica ile Italyan Olmak   \n",
       "...          ...            ...       ...                               ...   \n",
       "65520  tt7385812            7.9        15                           Closure   \n",
       "65593  tt7968500            5.8        77                         Jarugandi   \n",
       "65603  tt8041276            7.2      5947                         Paddleton   \n",
       "65640  tt8426964            4.8       354                             Drama   \n",
       "65654  tt8601284            8.1        54                     Lada Kamenski   \n",
       "\n",
       "                         original_title  runtime_minutes        genres  \\\n",
       "45                     The Shouting Men             92.0  Comedy,Drama   \n",
       "62                   Wie man leben soll            100.0  Comedy,Drama   \n",
       "78                              Garbage             88.0  Comedy,Drama   \n",
       "144                           L'Italien            102.0  Comedy,Drama   \n",
       "147    Sinyora Enrica ile Italyan Olmak            110.0  Comedy,Drama   \n",
       "...                                 ...              ...           ...   \n",
       "65520                           Closure             90.0  Comedy,Drama   \n",
       "65593                         Jarugandi            136.0  Comedy,Drama   \n",
       "65603                         Paddleton             89.0  Comedy,Drama   \n",
       "65640                             Drama            146.0  Comedy,Drama   \n",
       "65654                     Lada Kamenski             71.0  Comedy,Drama   \n",
       "\n",
       "       rating*numvotes  \n",
       "45              1115.0  \n",
       "62              1452.8  \n",
       "78              2776.8  \n",
       "144             7888.0  \n",
       "147             3814.8  \n",
       "...                ...  \n",
       "65520            118.5  \n",
       "65593            446.6  \n",
       "65603          42818.4  \n",
       "65640           1699.2  \n",
       "65654            437.4  \n",
       "\n",
       "[2451 rows x 8 columns]"
      ]
     },
     "execution_count": 187,
     "metadata": {},
     "output_type": "execute_result"
    }
   ],
   "source": [
    "new_imdb_Comdrama = new_imdb[new_imdb['genres']=='Comedy,Drama']\n",
    "new_imdb_Comdrama"
   ]
  },
  {
   "cell_type": "code",
   "execution_count": 191,
   "metadata": {},
   "outputs": [
    {
     "data": {
      "text/plain": [
       "6.874919375845003"
      ]
     },
     "execution_count": 191,
     "metadata": {},
     "output_type": "execute_result"
    }
   ],
   "source": [
    "comdrama_average = sum_rate_nvots_comdrama / sum_votes_comdrama\n",
    "comdrama_average"
   ]
  },
  {
   "cell_type": "code",
   "execution_count": 192,
   "metadata": {},
   "outputs": [
    {
     "data": {
      "text/html": [
       "<div>\n",
       "<style scoped>\n",
       "    .dataframe tbody tr th:only-of-type {\n",
       "        vertical-align: middle;\n",
       "    }\n",
       "\n",
       "    .dataframe tbody tr th {\n",
       "        vertical-align: top;\n",
       "    }\n",
       "\n",
       "    .dataframe thead th {\n",
       "        text-align: right;\n",
       "    }\n",
       "</style>\n",
       "<table border=\"1\" class=\"dataframe\">\n",
       "  <thead>\n",
       "    <tr style=\"text-align: right;\">\n",
       "      <th></th>\n",
       "      <th>tconst</th>\n",
       "      <th>averagerating</th>\n",
       "      <th>numvotes</th>\n",
       "      <th>primary_title</th>\n",
       "      <th>original_title</th>\n",
       "      <th>runtime_minutes</th>\n",
       "      <th>genres</th>\n",
       "      <th>rating*numvotes</th>\n",
       "    </tr>\n",
       "  </thead>\n",
       "  <tbody>\n",
       "    <tr>\n",
       "      <th>30</th>\n",
       "      <td>tt1285219</td>\n",
       "      <td>3.4</td>\n",
       "      <td>387</td>\n",
       "      <td>Ghosts Don't Exist</td>\n",
       "      <td>Ghosts Don't Exist</td>\n",
       "      <td>99.0</td>\n",
       "      <td>Horror</td>\n",
       "      <td>1315.8</td>\n",
       "    </tr>\n",
       "    <tr>\n",
       "      <th>158</th>\n",
       "      <td>tt1630607</td>\n",
       "      <td>3.5</td>\n",
       "      <td>210</td>\n",
       "      <td>Nostrum</td>\n",
       "      <td>Nostrum</td>\n",
       "      <td>79.0</td>\n",
       "      <td>Horror</td>\n",
       "      <td>735.0</td>\n",
       "    </tr>\n",
       "    <tr>\n",
       "      <th>165</th>\n",
       "      <td>tt1642248</td>\n",
       "      <td>5.6</td>\n",
       "      <td>64</td>\n",
       "      <td>Killer Ink</td>\n",
       "      <td>Killer Ink</td>\n",
       "      <td>92.0</td>\n",
       "      <td>Horror</td>\n",
       "      <td>358.4</td>\n",
       "    </tr>\n",
       "    <tr>\n",
       "      <th>226</th>\n",
       "      <td>tt1728217</td>\n",
       "      <td>4.6</td>\n",
       "      <td>668</td>\n",
       "      <td>Tomie: Unlimited</td>\n",
       "      <td>Tomie: Anrimiteddo</td>\n",
       "      <td>85.0</td>\n",
       "      <td>Horror</td>\n",
       "      <td>3072.8</td>\n",
       "    </tr>\n",
       "    <tr>\n",
       "      <th>245</th>\n",
       "      <td>tt1753471</td>\n",
       "      <td>5.6</td>\n",
       "      <td>55</td>\n",
       "      <td>Backstabber</td>\n",
       "      <td>Backstabber</td>\n",
       "      <td>90.0</td>\n",
       "      <td>Horror</td>\n",
       "      <td>308.0</td>\n",
       "    </tr>\n",
       "    <tr>\n",
       "      <th>...</th>\n",
       "      <td>...</td>\n",
       "      <td>...</td>\n",
       "      <td>...</td>\n",
       "      <td>...</td>\n",
       "      <td>...</td>\n",
       "      <td>...</td>\n",
       "      <td>...</td>\n",
       "      <td>...</td>\n",
       "    </tr>\n",
       "    <tr>\n",
       "      <th>65601</th>\n",
       "      <td>tt8025310</td>\n",
       "      <td>4.5</td>\n",
       "      <td>229</td>\n",
       "      <td>The Odds</td>\n",
       "      <td>The Odds</td>\n",
       "      <td>107.0</td>\n",
       "      <td>Horror</td>\n",
       "      <td>1030.5</td>\n",
       "    </tr>\n",
       "    <tr>\n",
       "      <th>65627</th>\n",
       "      <td>tt8236214</td>\n",
       "      <td>3.2</td>\n",
       "      <td>142</td>\n",
       "      <td>Slasher Party</td>\n",
       "      <td>Slasher Party</td>\n",
       "      <td>80.0</td>\n",
       "      <td>Horror</td>\n",
       "      <td>454.4</td>\n",
       "    </tr>\n",
       "    <tr>\n",
       "      <th>65650</th>\n",
       "      <td>tt8517144</td>\n",
       "      <td>7.3</td>\n",
       "      <td>258</td>\n",
       "      <td>Kafir: Bersekutu dengan Setan</td>\n",
       "      <td>Kafir: Bersekutu dengan Setan</td>\n",
       "      <td>97.0</td>\n",
       "      <td>Horror</td>\n",
       "      <td>1883.4</td>\n",
       "    </tr>\n",
       "    <tr>\n",
       "      <th>65682</th>\n",
       "      <td>tt9097546</td>\n",
       "      <td>3.5</td>\n",
       "      <td>72</td>\n",
       "      <td>Happy Birthday Hannah</td>\n",
       "      <td>Happy Birthday Hannah</td>\n",
       "      <td>81.0</td>\n",
       "      <td>Horror</td>\n",
       "      <td>252.0</td>\n",
       "    </tr>\n",
       "    <tr>\n",
       "      <th>65690</th>\n",
       "      <td>tt9174800</td>\n",
       "      <td>5.4</td>\n",
       "      <td>78</td>\n",
       "      <td>The Rope Curse</td>\n",
       "      <td>Zong xie</td>\n",
       "      <td>106.0</td>\n",
       "      <td>Horror</td>\n",
       "      <td>421.2</td>\n",
       "    </tr>\n",
       "  </tbody>\n",
       "</table>\n",
       "<p>2232 rows × 8 columns</p>\n",
       "</div>"
      ],
      "text/plain": [
       "          tconst  averagerating  numvotes                  primary_title  \\\n",
       "30     tt1285219            3.4       387             Ghosts Don't Exist   \n",
       "158    tt1630607            3.5       210                        Nostrum   \n",
       "165    tt1642248            5.6        64                     Killer Ink   \n",
       "226    tt1728217            4.6       668               Tomie: Unlimited   \n",
       "245    tt1753471            5.6        55                    Backstabber   \n",
       "...          ...            ...       ...                            ...   \n",
       "65601  tt8025310            4.5       229                       The Odds   \n",
       "65627  tt8236214            3.2       142                  Slasher Party   \n",
       "65650  tt8517144            7.3       258  Kafir: Bersekutu dengan Setan   \n",
       "65682  tt9097546            3.5        72          Happy Birthday Hannah   \n",
       "65690  tt9174800            5.4        78                 The Rope Curse   \n",
       "\n",
       "                      original_title  runtime_minutes  genres  rating*numvotes  \n",
       "30                Ghosts Don't Exist             99.0  Horror           1315.8  \n",
       "158                          Nostrum             79.0  Horror            735.0  \n",
       "165                       Killer Ink             92.0  Horror            358.4  \n",
       "226               Tomie: Anrimiteddo             85.0  Horror           3072.8  \n",
       "245                      Backstabber             90.0  Horror            308.0  \n",
       "...                              ...              ...     ...              ...  \n",
       "65601                       The Odds            107.0  Horror           1030.5  \n",
       "65627                  Slasher Party             80.0  Horror            454.4  \n",
       "65650  Kafir: Bersekutu dengan Setan             97.0  Horror           1883.4  \n",
       "65682          Happy Birthday Hannah             81.0  Horror            252.0  \n",
       "65690                       Zong xie            106.0  Horror            421.2  \n",
       "\n",
       "[2232 rows x 8 columns]"
      ]
     },
     "execution_count": 192,
     "metadata": {},
     "output_type": "execute_result"
    }
   ],
   "source": [
    "new_imdb_Horror = new_imdb[new_imdb['genres']=='Horror']\n",
    "new_imdb_Horror"
   ]
  },
  {
   "cell_type": "code",
   "execution_count": 196,
   "metadata": {},
   "outputs": [
    {
     "data": {
      "text/plain": [
       "5.4570464043149745"
      ]
     },
     "execution_count": 196,
     "metadata": {},
     "output_type": "execute_result"
    }
   ],
   "source": [
    "Horror_average = sum_rate_nvots_Horror / sum_votes_Horror\n",
    "Horror_average"
   ]
  },
  {
   "cell_type": "code",
   "execution_count": 197,
   "metadata": {},
   "outputs": [
    {
     "data": {
      "text/html": [
       "<div>\n",
       "<style scoped>\n",
       "    .dataframe tbody tr th:only-of-type {\n",
       "        vertical-align: middle;\n",
       "    }\n",
       "\n",
       "    .dataframe tbody tr th {\n",
       "        vertical-align: top;\n",
       "    }\n",
       "\n",
       "    .dataframe thead th {\n",
       "        text-align: right;\n",
       "    }\n",
       "</style>\n",
       "<table border=\"1\" class=\"dataframe\">\n",
       "  <thead>\n",
       "    <tr style=\"text-align: right;\">\n",
       "      <th></th>\n",
       "      <th>tconst</th>\n",
       "      <th>averagerating</th>\n",
       "      <th>numvotes</th>\n",
       "      <th>primary_title</th>\n",
       "      <th>original_title</th>\n",
       "      <th>runtime_minutes</th>\n",
       "      <th>genres</th>\n",
       "      <th>rating*numvotes</th>\n",
       "    </tr>\n",
       "  </thead>\n",
       "  <tbody>\n",
       "    <tr>\n",
       "      <th>53</th>\n",
       "      <td>tt1403981</td>\n",
       "      <td>7.1</td>\n",
       "      <td>129443</td>\n",
       "      <td>Remember Me</td>\n",
       "      <td>Remember Me</td>\n",
       "      <td>113.0</td>\n",
       "      <td>Drama,Romance</td>\n",
       "      <td>919045.3</td>\n",
       "    </tr>\n",
       "    <tr>\n",
       "      <th>131</th>\n",
       "      <td>tt1593726</td>\n",
       "      <td>5.8</td>\n",
       "      <td>44</td>\n",
       "      <td>Love in Perth</td>\n",
       "      <td>Love in Perth</td>\n",
       "      <td>90.0</td>\n",
       "      <td>Drama,Romance</td>\n",
       "      <td>255.2</td>\n",
       "    </tr>\n",
       "    <tr>\n",
       "      <th>201</th>\n",
       "      <td>tt1695793</td>\n",
       "      <td>5.8</td>\n",
       "      <td>395</td>\n",
       "      <td>Love U... Mr. Kalakaar!</td>\n",
       "      <td>Love U... Mr. Kalakaar!</td>\n",
       "      <td>152.0</td>\n",
       "      <td>Drama,Romance</td>\n",
       "      <td>2291.0</td>\n",
       "    </tr>\n",
       "    <tr>\n",
       "      <th>216</th>\n",
       "      <td>tt1717736</td>\n",
       "      <td>7.2</td>\n",
       "      <td>8</td>\n",
       "      <td>Vinyl</td>\n",
       "      <td>Vinyl</td>\n",
       "      <td>80.0</td>\n",
       "      <td>Drama,Romance</td>\n",
       "      <td>57.6</td>\n",
       "    </tr>\n",
       "    <tr>\n",
       "      <th>284</th>\n",
       "      <td>tt1789077</td>\n",
       "      <td>6.5</td>\n",
       "      <td>17</td>\n",
       "      <td>The Space Between</td>\n",
       "      <td>The Space Between</td>\n",
       "      <td>85.0</td>\n",
       "      <td>Drama,Romance</td>\n",
       "      <td>110.5</td>\n",
       "    </tr>\n",
       "    <tr>\n",
       "      <th>...</th>\n",
       "      <td>...</td>\n",
       "      <td>...</td>\n",
       "      <td>...</td>\n",
       "      <td>...</td>\n",
       "      <td>...</td>\n",
       "      <td>...</td>\n",
       "      <td>...</td>\n",
       "      <td>...</td>\n",
       "    </tr>\n",
       "    <tr>\n",
       "      <th>65572</th>\n",
       "      <td>tt7736536</td>\n",
       "      <td>4.9</td>\n",
       "      <td>120</td>\n",
       "      <td>All of You</td>\n",
       "      <td>All of You</td>\n",
       "      <td>103.0</td>\n",
       "      <td>Drama,Romance</td>\n",
       "      <td>588.0</td>\n",
       "    </tr>\n",
       "    <tr>\n",
       "      <th>65644</th>\n",
       "      <td>tt8439854</td>\n",
       "      <td>6.6</td>\n",
       "      <td>7691</td>\n",
       "      <td>Lust Stories</td>\n",
       "      <td>Lust Stories</td>\n",
       "      <td>120.0</td>\n",
       "      <td>Drama,Romance</td>\n",
       "      <td>50760.6</td>\n",
       "    </tr>\n",
       "    <tr>\n",
       "      <th>65661</th>\n",
       "      <td>tt8804688</td>\n",
       "      <td>8.2</td>\n",
       "      <td>18</td>\n",
       "      <td>Connect</td>\n",
       "      <td>Connect</td>\n",
       "      <td>104.0</td>\n",
       "      <td>Drama,Romance</td>\n",
       "      <td>147.6</td>\n",
       "    </tr>\n",
       "    <tr>\n",
       "      <th>65676</th>\n",
       "      <td>tt9035872</td>\n",
       "      <td>9.0</td>\n",
       "      <td>10</td>\n",
       "      <td>Just One More Kiss</td>\n",
       "      <td>Just One More Kiss</td>\n",
       "      <td>100.0</td>\n",
       "      <td>Drama,Romance</td>\n",
       "      <td>90.0</td>\n",
       "    </tr>\n",
       "    <tr>\n",
       "      <th>65680</th>\n",
       "      <td>tt9057942</td>\n",
       "      <td>5.6</td>\n",
       "      <td>38</td>\n",
       "      <td>Baby Jane</td>\n",
       "      <td>Baby Jane</td>\n",
       "      <td>93.0</td>\n",
       "      <td>Drama,Romance</td>\n",
       "      <td>212.8</td>\n",
       "    </tr>\n",
       "  </tbody>\n",
       "</table>\n",
       "<p>1392 rows × 8 columns</p>\n",
       "</div>"
      ],
      "text/plain": [
       "          tconst  averagerating  numvotes            primary_title  \\\n",
       "53     tt1403981            7.1    129443              Remember Me   \n",
       "131    tt1593726            5.8        44            Love in Perth   \n",
       "201    tt1695793            5.8       395  Love U... Mr. Kalakaar!   \n",
       "216    tt1717736            7.2         8                    Vinyl   \n",
       "284    tt1789077            6.5        17        The Space Between   \n",
       "...          ...            ...       ...                      ...   \n",
       "65572  tt7736536            4.9       120               All of You   \n",
       "65644  tt8439854            6.6      7691             Lust Stories   \n",
       "65661  tt8804688            8.2        18                  Connect   \n",
       "65676  tt9035872            9.0        10       Just One More Kiss   \n",
       "65680  tt9057942            5.6        38                Baby Jane   \n",
       "\n",
       "                original_title  runtime_minutes         genres  \\\n",
       "53                 Remember Me            113.0  Drama,Romance   \n",
       "131              Love in Perth             90.0  Drama,Romance   \n",
       "201    Love U... Mr. Kalakaar!            152.0  Drama,Romance   \n",
       "216                      Vinyl             80.0  Drama,Romance   \n",
       "284          The Space Between             85.0  Drama,Romance   \n",
       "...                        ...              ...            ...   \n",
       "65572               All of You            103.0  Drama,Romance   \n",
       "65644             Lust Stories            120.0  Drama,Romance   \n",
       "65661                  Connect            104.0  Drama,Romance   \n",
       "65676       Just One More Kiss            100.0  Drama,Romance   \n",
       "65680                Baby Jane             93.0  Drama,Romance   \n",
       "\n",
       "       rating*numvotes  \n",
       "53            919045.3  \n",
       "131              255.2  \n",
       "201             2291.0  \n",
       "216               57.6  \n",
       "284              110.5  \n",
       "...                ...  \n",
       "65572            588.0  \n",
       "65644          50760.6  \n",
       "65661            147.6  \n",
       "65676             90.0  \n",
       "65680            212.8  \n",
       "\n",
       "[1392 rows x 8 columns]"
      ]
     },
     "execution_count": 197,
     "metadata": {},
     "output_type": "execute_result"
    }
   ],
   "source": [
    "new_imdb_DramaRomance = new_imdb[new_imdb['genres']=='Drama,Romance']\n",
    "new_imdb_DramaRomance"
   ]
  },
  {
   "cell_type": "code",
   "execution_count": 200,
   "metadata": {},
   "outputs": [
    {
     "data": {
      "text/plain": [
       "6.996038813127908"
      ]
     },
     "execution_count": 200,
     "metadata": {},
     "output_type": "execute_result"
    }
   ],
   "source": [
    "DramaRomance = sum_rate_nvots_DramaRomance / sum_votes_DramaRomance\n",
    "DramaRomance"
   ]
  },
  {
   "cell_type": "code",
   "execution_count": 201,
   "metadata": {},
   "outputs": [
    {
     "data": {
      "text/html": [
       "<div>\n",
       "<style scoped>\n",
       "    .dataframe tbody tr th:only-of-type {\n",
       "        vertical-align: middle;\n",
       "    }\n",
       "\n",
       "    .dataframe tbody tr th {\n",
       "        vertical-align: top;\n",
       "    }\n",
       "\n",
       "    .dataframe thead th {\n",
       "        text-align: right;\n",
       "    }\n",
       "</style>\n",
       "<table border=\"1\" class=\"dataframe\">\n",
       "  <thead>\n",
       "    <tr style=\"text-align: right;\">\n",
       "      <th></th>\n",
       "      <th>tconst</th>\n",
       "      <th>averagerating</th>\n",
       "      <th>numvotes</th>\n",
       "      <th>primary_title</th>\n",
       "      <th>original_title</th>\n",
       "      <th>runtime_minutes</th>\n",
       "      <th>genres</th>\n",
       "      <th>rating*numvotes</th>\n",
       "    </tr>\n",
       "  </thead>\n",
       "  <tbody>\n",
       "    <tr>\n",
       "      <th>13</th>\n",
       "      <td>tt1199588</td>\n",
       "      <td>5.5</td>\n",
       "      <td>74</td>\n",
       "      <td>Black Widow</td>\n",
       "      <td>Black Widow</td>\n",
       "      <td>75.0</td>\n",
       "      <td>Thriller</td>\n",
       "      <td>407.0</td>\n",
       "    </tr>\n",
       "    <tr>\n",
       "      <th>71</th>\n",
       "      <td>tt1467290</td>\n",
       "      <td>6.3</td>\n",
       "      <td>173</td>\n",
       "      <td>Retornos</td>\n",
       "      <td>Retornos</td>\n",
       "      <td>88.0</td>\n",
       "      <td>Thriller</td>\n",
       "      <td>1089.9</td>\n",
       "    </tr>\n",
       "    <tr>\n",
       "      <th>81</th>\n",
       "      <td>tt1510989</td>\n",
       "      <td>3.9</td>\n",
       "      <td>83</td>\n",
       "      <td>Paranormal Abduction</td>\n",
       "      <td>Paranormal Abduction</td>\n",
       "      <td>83.0</td>\n",
       "      <td>Thriller</td>\n",
       "      <td>323.7</td>\n",
       "    </tr>\n",
       "    <tr>\n",
       "      <th>323</th>\n",
       "      <td>tt6547822</td>\n",
       "      <td>3.7</td>\n",
       "      <td>26</td>\n",
       "      <td>Bloody Murder</td>\n",
       "      <td>Bloody Murder</td>\n",
       "      <td>70.0</td>\n",
       "      <td>Thriller</td>\n",
       "      <td>96.2</td>\n",
       "    </tr>\n",
       "    <tr>\n",
       "      <th>413</th>\n",
       "      <td>tt7274816</td>\n",
       "      <td>3.7</td>\n",
       "      <td>7</td>\n",
       "      <td>Ashley</td>\n",
       "      <td>Ashley</td>\n",
       "      <td>103.0</td>\n",
       "      <td>Thriller</td>\n",
       "      <td>25.9</td>\n",
       "    </tr>\n",
       "    <tr>\n",
       "      <th>...</th>\n",
       "      <td>...</td>\n",
       "      <td>...</td>\n",
       "      <td>...</td>\n",
       "      <td>...</td>\n",
       "      <td>...</td>\n",
       "      <td>...</td>\n",
       "      <td>...</td>\n",
       "      <td>...</td>\n",
       "    </tr>\n",
       "    <tr>\n",
       "      <th>65578</th>\n",
       "      <td>tt7797658</td>\n",
       "      <td>7.9</td>\n",
       "      <td>2138</td>\n",
       "      <td>Awe!</td>\n",
       "      <td>Awe!</td>\n",
       "      <td>150.0</td>\n",
       "      <td>Thriller</td>\n",
       "      <td>16890.2</td>\n",
       "    </tr>\n",
       "    <tr>\n",
       "      <th>65592</th>\n",
       "      <td>tt7954000</td>\n",
       "      <td>5.3</td>\n",
       "      <td>71</td>\n",
       "      <td>The Neighborhood Watch</td>\n",
       "      <td>The Neighborhood Watch</td>\n",
       "      <td>87.0</td>\n",
       "      <td>Thriller</td>\n",
       "      <td>376.3</td>\n",
       "    </tr>\n",
       "    <tr>\n",
       "      <th>65594</th>\n",
       "      <td>tt7972178</td>\n",
       "      <td>6.3</td>\n",
       "      <td>128</td>\n",
       "      <td>70 Big Ones</td>\n",
       "      <td>70 Binladens</td>\n",
       "      <td>100.0</td>\n",
       "      <td>Thriller</td>\n",
       "      <td>806.4</td>\n",
       "    </tr>\n",
       "    <tr>\n",
       "      <th>65675</th>\n",
       "      <td>tt9010900</td>\n",
       "      <td>7.9</td>\n",
       "      <td>13</td>\n",
       "      <td>Boi</td>\n",
       "      <td>Boi</td>\n",
       "      <td>111.0</td>\n",
       "      <td>Thriller</td>\n",
       "      <td>102.7</td>\n",
       "    </tr>\n",
       "    <tr>\n",
       "      <th>65719</th>\n",
       "      <td>tt9894098</td>\n",
       "      <td>6.3</td>\n",
       "      <td>128</td>\n",
       "      <td>Sathru</td>\n",
       "      <td>Sathru</td>\n",
       "      <td>129.0</td>\n",
       "      <td>Thriller</td>\n",
       "      <td>806.4</td>\n",
       "    </tr>\n",
       "  </tbody>\n",
       "</table>\n",
       "<p>1288 rows × 8 columns</p>\n",
       "</div>"
      ],
      "text/plain": [
       "          tconst  averagerating  numvotes           primary_title  \\\n",
       "13     tt1199588            5.5        74             Black Widow   \n",
       "71     tt1467290            6.3       173                Retornos   \n",
       "81     tt1510989            3.9        83    Paranormal Abduction   \n",
       "323    tt6547822            3.7        26           Bloody Murder   \n",
       "413    tt7274816            3.7         7                  Ashley   \n",
       "...          ...            ...       ...                     ...   \n",
       "65578  tt7797658            7.9      2138                    Awe!   \n",
       "65592  tt7954000            5.3        71  The Neighborhood Watch   \n",
       "65594  tt7972178            6.3       128             70 Big Ones   \n",
       "65675  tt9010900            7.9        13                     Boi   \n",
       "65719  tt9894098            6.3       128                  Sathru   \n",
       "\n",
       "               original_title  runtime_minutes    genres  rating*numvotes  \n",
       "13                Black Widow             75.0  Thriller            407.0  \n",
       "71                   Retornos             88.0  Thriller           1089.9  \n",
       "81       Paranormal Abduction             83.0  Thriller            323.7  \n",
       "323             Bloody Murder             70.0  Thriller             96.2  \n",
       "413                    Ashley            103.0  Thriller             25.9  \n",
       "...                       ...              ...       ...              ...  \n",
       "65578                    Awe!            150.0  Thriller          16890.2  \n",
       "65592  The Neighborhood Watch             87.0  Thriller            376.3  \n",
       "65594            70 Binladens            100.0  Thriller            806.4  \n",
       "65675                     Boi            111.0  Thriller            102.7  \n",
       "65719                  Sathru            129.0  Thriller            806.4  \n",
       "\n",
       "[1288 rows x 8 columns]"
      ]
     },
     "execution_count": 201,
     "metadata": {},
     "output_type": "execute_result"
    }
   ],
   "source": [
    "new_imdb_Thriller = new_imdb[new_imdb['genres']=='Thriller']\n",
    "new_imdb_Thriller"
   ]
  },
  {
   "cell_type": "code",
   "execution_count": 204,
   "metadata": {},
   "outputs": [
    {
     "data": {
      "text/plain": [
       "5.665143430188661"
      ]
     },
     "execution_count": 204,
     "metadata": {},
     "output_type": "execute_result"
    }
   ],
   "source": [
    "Thriller = sum_rate_nvots_Thriller / sum_votes_Thriller\n",
    "Thriller"
   ]
  },
  {
   "cell_type": "code",
   "execution_count": 206,
   "metadata": {},
   "outputs": [
    {
     "data": {
      "text/html": [
       "<div>\n",
       "<style scoped>\n",
       "    .dataframe tbody tr th:only-of-type {\n",
       "        vertical-align: middle;\n",
       "    }\n",
       "\n",
       "    .dataframe tbody tr th {\n",
       "        vertical-align: top;\n",
       "    }\n",
       "\n",
       "    .dataframe thead th {\n",
       "        text-align: right;\n",
       "    }\n",
       "</style>\n",
       "<table border=\"1\" class=\"dataframe\">\n",
       "  <thead>\n",
       "    <tr style=\"text-align: right;\">\n",
       "      <th></th>\n",
       "      <th>tconst</th>\n",
       "      <th>averagerating</th>\n",
       "      <th>numvotes</th>\n",
       "      <th>primary_title</th>\n",
       "      <th>original_title</th>\n",
       "      <th>runtime_minutes</th>\n",
       "      <th>genres</th>\n",
       "      <th>rating*numvotes</th>\n",
       "    </tr>\n",
       "  </thead>\n",
       "  <tbody>\n",
       "    <tr>\n",
       "      <th>11</th>\n",
       "      <td>tt1174693</td>\n",
       "      <td>5.8</td>\n",
       "      <td>2381</td>\n",
       "      <td>The Four-Faced Liar</td>\n",
       "      <td>The Four-Faced Liar</td>\n",
       "      <td>87.0</td>\n",
       "      <td>Comedy,Drama,Romance</td>\n",
       "      <td>13809.8</td>\n",
       "    </tr>\n",
       "    <tr>\n",
       "      <th>20</th>\n",
       "      <td>tt1243974</td>\n",
       "      <td>5.4</td>\n",
       "      <td>54646</td>\n",
       "      <td>Aloha</td>\n",
       "      <td>Aloha</td>\n",
       "      <td>105.0</td>\n",
       "      <td>Comedy,Drama,Romance</td>\n",
       "      <td>295088.4</td>\n",
       "    </tr>\n",
       "    <tr>\n",
       "      <th>23</th>\n",
       "      <td>tt1261945</td>\n",
       "      <td>4.4</td>\n",
       "      <td>69199</td>\n",
       "      <td>Sex and the City 2</td>\n",
       "      <td>Sex and the City 2</td>\n",
       "      <td>146.0</td>\n",
       "      <td>Comedy,Drama,Romance</td>\n",
       "      <td>304475.6</td>\n",
       "    </tr>\n",
       "    <tr>\n",
       "      <th>95</th>\n",
       "      <td>tt1528274</td>\n",
       "      <td>7.8</td>\n",
       "      <td>11</td>\n",
       "      <td>Brainwashed Love</td>\n",
       "      <td>Brainwashed Love</td>\n",
       "      <td>90.0</td>\n",
       "      <td>Comedy,Drama,Romance</td>\n",
       "      <td>85.8</td>\n",
       "    </tr>\n",
       "    <tr>\n",
       "      <th>149</th>\n",
       "      <td>tt1618467</td>\n",
       "      <td>7.5</td>\n",
       "      <td>84</td>\n",
       "      <td>Booked Out</td>\n",
       "      <td>Booked Out</td>\n",
       "      <td>86.0</td>\n",
       "      <td>Comedy,Drama,Romance</td>\n",
       "      <td>630.0</td>\n",
       "    </tr>\n",
       "    <tr>\n",
       "      <th>...</th>\n",
       "      <td>...</td>\n",
       "      <td>...</td>\n",
       "      <td>...</td>\n",
       "      <td>...</td>\n",
       "      <td>...</td>\n",
       "      <td>...</td>\n",
       "      <td>...</td>\n",
       "      <td>...</td>\n",
       "    </tr>\n",
       "    <tr>\n",
       "      <th>65239</th>\n",
       "      <td>tt3215486</td>\n",
       "      <td>4.5</td>\n",
       "      <td>324</td>\n",
       "      <td>Idhu Kathirvelan Kadhal</td>\n",
       "      <td>Idhu Kathirvelan Kadhal</td>\n",
       "      <td>156.0</td>\n",
       "      <td>Comedy,Drama,Romance</td>\n",
       "      <td>1458.0</td>\n",
       "    </tr>\n",
       "    <tr>\n",
       "      <th>65255</th>\n",
       "      <td>tt3269024</td>\n",
       "      <td>8.5</td>\n",
       "      <td>6</td>\n",
       "      <td>Closet Space: The Movie</td>\n",
       "      <td>Closet Space: The Movie</td>\n",
       "      <td>105.0</td>\n",
       "      <td>Comedy,Drama,Romance</td>\n",
       "      <td>51.0</td>\n",
       "    </tr>\n",
       "    <tr>\n",
       "      <th>65509</th>\n",
       "      <td>tt7313518</td>\n",
       "      <td>5.1</td>\n",
       "      <td>263</td>\n",
       "      <td>Growing Up</td>\n",
       "      <td>Hacerse mayor y otros problemas</td>\n",
       "      <td>96.0</td>\n",
       "      <td>Comedy,Drama,Romance</td>\n",
       "      <td>1341.3</td>\n",
       "    </tr>\n",
       "    <tr>\n",
       "      <th>65586</th>\n",
       "      <td>tt7917484</td>\n",
       "      <td>5.2</td>\n",
       "      <td>124</td>\n",
       "      <td>Write When You Get Work</td>\n",
       "      <td>Write When You Get Work</td>\n",
       "      <td>99.0</td>\n",
       "      <td>Comedy,Drama,Romance</td>\n",
       "      <td>644.8</td>\n",
       "    </tr>\n",
       "    <tr>\n",
       "      <th>65646</th>\n",
       "      <td>tt8443704</td>\n",
       "      <td>7.5</td>\n",
       "      <td>1947</td>\n",
       "      <td>Dear Ex</td>\n",
       "      <td>Dear Ex</td>\n",
       "      <td>100.0</td>\n",
       "      <td>Comedy,Drama,Romance</td>\n",
       "      <td>14602.5</td>\n",
       "    </tr>\n",
       "  </tbody>\n",
       "</table>\n",
       "<p>1159 rows × 8 columns</p>\n",
       "</div>"
      ],
      "text/plain": [
       "          tconst  averagerating  numvotes            primary_title  \\\n",
       "11     tt1174693            5.8      2381      The Four-Faced Liar   \n",
       "20     tt1243974            5.4     54646                    Aloha   \n",
       "23     tt1261945            4.4     69199       Sex and the City 2   \n",
       "95     tt1528274            7.8        11         Brainwashed Love   \n",
       "149    tt1618467            7.5        84               Booked Out   \n",
       "...          ...            ...       ...                      ...   \n",
       "65239  tt3215486            4.5       324  Idhu Kathirvelan Kadhal   \n",
       "65255  tt3269024            8.5         6  Closet Space: The Movie   \n",
       "65509  tt7313518            5.1       263               Growing Up   \n",
       "65586  tt7917484            5.2       124  Write When You Get Work   \n",
       "65646  tt8443704            7.5      1947                  Dear Ex   \n",
       "\n",
       "                        original_title  runtime_minutes                genres  \\\n",
       "11                 The Four-Faced Liar             87.0  Comedy,Drama,Romance   \n",
       "20                               Aloha            105.0  Comedy,Drama,Romance   \n",
       "23                  Sex and the City 2            146.0  Comedy,Drama,Romance   \n",
       "95                    Brainwashed Love             90.0  Comedy,Drama,Romance   \n",
       "149                         Booked Out             86.0  Comedy,Drama,Romance   \n",
       "...                                ...              ...                   ...   \n",
       "65239          Idhu Kathirvelan Kadhal            156.0  Comedy,Drama,Romance   \n",
       "65255          Closet Space: The Movie            105.0  Comedy,Drama,Romance   \n",
       "65509  Hacerse mayor y otros problemas             96.0  Comedy,Drama,Romance   \n",
       "65586          Write When You Get Work             99.0  Comedy,Drama,Romance   \n",
       "65646                          Dear Ex            100.0  Comedy,Drama,Romance   \n",
       "\n",
       "       rating*numvotes  \n",
       "11             13809.8  \n",
       "20            295088.4  \n",
       "23            304475.6  \n",
       "95                85.8  \n",
       "149              630.0  \n",
       "...                ...  \n",
       "65239           1458.0  \n",
       "65255             51.0  \n",
       "65509           1341.3  \n",
       "65586            644.8  \n",
       "65646          14602.5  \n",
       "\n",
       "[1159 rows x 8 columns]"
      ]
     },
     "execution_count": 206,
     "metadata": {},
     "output_type": "execute_result"
    }
   ],
   "source": [
    "new_imdb_ComedyDramaRomance = new_imdb[new_imdb['genres']=='Comedy,Drama,Romance']\n",
    "new_imdb_ComedyDramaRomance"
   ]
  },
  {
   "cell_type": "code",
   "execution_count": 212,
   "metadata": {},
   "outputs": [
    {
     "data": {
      "text/plain": [
       "6.820128238155679"
      ]
     },
     "execution_count": 212,
     "metadata": {},
     "output_type": "execute_result"
    }
   ],
   "source": [
    "ComedyDramaRomance = sum_rate_nvots_ComedyDramaRomance / sum_votes_ComedyDramaRomance\n",
    "ComedyDramaRomance"
   ]
  },
  {
   "cell_type": "code",
   "execution_count": 213,
   "metadata": {},
   "outputs": [
    {
     "data": {
      "text/html": [
       "<div>\n",
       "<style scoped>\n",
       "    .dataframe tbody tr th:only-of-type {\n",
       "        vertical-align: middle;\n",
       "    }\n",
       "\n",
       "    .dataframe tbody tr th {\n",
       "        vertical-align: top;\n",
       "    }\n",
       "\n",
       "    .dataframe thead th {\n",
       "        text-align: right;\n",
       "    }\n",
       "</style>\n",
       "<table border=\"1\" class=\"dataframe\">\n",
       "  <thead>\n",
       "    <tr style=\"text-align: right;\">\n",
       "      <th></th>\n",
       "      <th>tconst</th>\n",
       "      <th>averagerating</th>\n",
       "      <th>numvotes</th>\n",
       "      <th>primary_title</th>\n",
       "      <th>original_title</th>\n",
       "      <th>runtime_minutes</th>\n",
       "      <th>genres</th>\n",
       "      <th>rating*numvotes</th>\n",
       "    </tr>\n",
       "  </thead>\n",
       "  <tbody>\n",
       "    <tr>\n",
       "      <th>5</th>\n",
       "      <td>tt1069246</td>\n",
       "      <td>6.2</td>\n",
       "      <td>326</td>\n",
       "      <td>Habana Eva</td>\n",
       "      <td>Habana Eva</td>\n",
       "      <td>106.0</td>\n",
       "      <td>Comedy,Romance</td>\n",
       "      <td>2021.2</td>\n",
       "    </tr>\n",
       "    <tr>\n",
       "      <th>34</th>\n",
       "      <td>tt1322312</td>\n",
       "      <td>6.3</td>\n",
       "      <td>54421</td>\n",
       "      <td>Going the Distance</td>\n",
       "      <td>Going the Distance</td>\n",
       "      <td>102.0</td>\n",
       "      <td>Comedy,Romance</td>\n",
       "      <td>342852.3</td>\n",
       "    </tr>\n",
       "    <tr>\n",
       "      <th>101</th>\n",
       "      <td>tt1538545</td>\n",
       "      <td>5.8</td>\n",
       "      <td>821</td>\n",
       "      <td>Zot van A.</td>\n",
       "      <td>Zot van A.</td>\n",
       "      <td>120.0</td>\n",
       "      <td>Comedy,Romance</td>\n",
       "      <td>4761.8</td>\n",
       "    </tr>\n",
       "    <tr>\n",
       "      <th>222</th>\n",
       "      <td>tt1725995</td>\n",
       "      <td>7.6</td>\n",
       "      <td>2309</td>\n",
       "      <td>Hello Stranger</td>\n",
       "      <td>Kuan meun ho</td>\n",
       "      <td>130.0</td>\n",
       "      <td>Comedy,Romance</td>\n",
       "      <td>17548.4</td>\n",
       "    </tr>\n",
       "    <tr>\n",
       "      <th>292</th>\n",
       "      <td>tt1797449</td>\n",
       "      <td>6.1</td>\n",
       "      <td>878</td>\n",
       "      <td>My First Wedding</td>\n",
       "      <td>Mi primera boda</td>\n",
       "      <td>102.0</td>\n",
       "      <td>Comedy,Romance</td>\n",
       "      <td>5355.8</td>\n",
       "    </tr>\n",
       "    <tr>\n",
       "      <th>...</th>\n",
       "      <td>...</td>\n",
       "      <td>...</td>\n",
       "      <td>...</td>\n",
       "      <td>...</td>\n",
       "      <td>...</td>\n",
       "      <td>...</td>\n",
       "      <td>...</td>\n",
       "      <td>...</td>\n",
       "    </tr>\n",
       "    <tr>\n",
       "      <th>65434</th>\n",
       "      <td>tt3779140</td>\n",
       "      <td>4.2</td>\n",
       "      <td>49</td>\n",
       "      <td>El desafío</td>\n",
       "      <td>El desafío</td>\n",
       "      <td>90.0</td>\n",
       "      <td>Comedy,Romance</td>\n",
       "      <td>205.8</td>\n",
       "    </tr>\n",
       "    <tr>\n",
       "      <th>65496</th>\n",
       "      <td>tt7201558</td>\n",
       "      <td>5.2</td>\n",
       "      <td>150</td>\n",
       "      <td>Narzeczony na niby</td>\n",
       "      <td>Narzeczony na niby</td>\n",
       "      <td>110.0</td>\n",
       "      <td>Comedy,Romance</td>\n",
       "      <td>780.0</td>\n",
       "    </tr>\n",
       "    <tr>\n",
       "      <th>65514</th>\n",
       "      <td>tt7359786</td>\n",
       "      <td>7.3</td>\n",
       "      <td>45</td>\n",
       "      <td>Metal Heart</td>\n",
       "      <td>Metal Heart</td>\n",
       "      <td>90.0</td>\n",
       "      <td>Comedy,Romance</td>\n",
       "      <td>328.5</td>\n",
       "    </tr>\n",
       "    <tr>\n",
       "      <th>65581</th>\n",
       "      <td>tt7850980</td>\n",
       "      <td>5.3</td>\n",
       "      <td>322</td>\n",
       "      <td>Gajinikanth</td>\n",
       "      <td>Gajinikanth</td>\n",
       "      <td>138.0</td>\n",
       "      <td>Comedy,Romance</td>\n",
       "      <td>1706.6</td>\n",
       "    </tr>\n",
       "    <tr>\n",
       "      <th>65705</th>\n",
       "      <td>tt9575726</td>\n",
       "      <td>7.7</td>\n",
       "      <td>161</td>\n",
       "      <td>Ir visi ju vyrai</td>\n",
       "      <td>Ir visi ju vyrai</td>\n",
       "      <td>108.0</td>\n",
       "      <td>Comedy,Romance</td>\n",
       "      <td>1239.7</td>\n",
       "    </tr>\n",
       "  </tbody>\n",
       "</table>\n",
       "<p>1128 rows × 8 columns</p>\n",
       "</div>"
      ],
      "text/plain": [
       "          tconst  averagerating  numvotes       primary_title  \\\n",
       "5      tt1069246            6.2       326          Habana Eva   \n",
       "34     tt1322312            6.3     54421  Going the Distance   \n",
       "101    tt1538545            5.8       821          Zot van A.   \n",
       "222    tt1725995            7.6      2309      Hello Stranger   \n",
       "292    tt1797449            6.1       878    My First Wedding   \n",
       "...          ...            ...       ...                 ...   \n",
       "65434  tt3779140            4.2        49          El desafío   \n",
       "65496  tt7201558            5.2       150  Narzeczony na niby   \n",
       "65514  tt7359786            7.3        45         Metal Heart   \n",
       "65581  tt7850980            5.3       322         Gajinikanth   \n",
       "65705  tt9575726            7.7       161    Ir visi ju vyrai   \n",
       "\n",
       "           original_title  runtime_minutes          genres  rating*numvotes  \n",
       "5              Habana Eva            106.0  Comedy,Romance           2021.2  \n",
       "34     Going the Distance            102.0  Comedy,Romance         342852.3  \n",
       "101            Zot van A.            120.0  Comedy,Romance           4761.8  \n",
       "222          Kuan meun ho            130.0  Comedy,Romance          17548.4  \n",
       "292       Mi primera boda            102.0  Comedy,Romance           5355.8  \n",
       "...                   ...              ...             ...              ...  \n",
       "65434          El desafío             90.0  Comedy,Romance            205.8  \n",
       "65496  Narzeczony na niby            110.0  Comedy,Romance            780.0  \n",
       "65514         Metal Heart             90.0  Comedy,Romance            328.5  \n",
       "65581         Gajinikanth            138.0  Comedy,Romance           1706.6  \n",
       "65705    Ir visi ju vyrai            108.0  Comedy,Romance           1239.7  \n",
       "\n",
       "[1128 rows x 8 columns]"
      ]
     },
     "execution_count": 213,
     "metadata": {},
     "output_type": "execute_result"
    }
   ],
   "source": [
    "new_imdb_ComedyRomance = new_imdb[new_imdb['genres']=='Comedy,Romance']\n",
    "new_imdb_ComedyRomance"
   ]
  },
  {
   "cell_type": "code",
   "execution_count": 216,
   "metadata": {},
   "outputs": [
    {
     "data": {
      "text/plain": [
       "6.145059943406289"
      ]
     },
     "execution_count": 216,
     "metadata": {},
     "output_type": "execute_result"
    }
   ],
   "source": [
    "ComedyRomance = sum_rate_nvots_ComedyRomance / sum_votes_ComedyRomance\n",
    "ComedyRomance"
   ]
  },
  {
   "cell_type": "code",
   "execution_count": 219,
   "metadata": {},
   "outputs": [
    {
     "data": {
      "text/html": [
       "<div>\n",
       "<style scoped>\n",
       "    .dataframe tbody tr th:only-of-type {\n",
       "        vertical-align: middle;\n",
       "    }\n",
       "\n",
       "    .dataframe tbody tr th {\n",
       "        vertical-align: top;\n",
       "    }\n",
       "\n",
       "    .dataframe thead th {\n",
       "        text-align: right;\n",
       "    }\n",
       "</style>\n",
       "<table border=\"1\" class=\"dataframe\">\n",
       "  <thead>\n",
       "    <tr style=\"text-align: right;\">\n",
       "      <th></th>\n",
       "      <th>tconst</th>\n",
       "      <th>averagerating</th>\n",
       "      <th>numvotes</th>\n",
       "      <th>primary_title</th>\n",
       "      <th>original_title</th>\n",
       "      <th>runtime_minutes</th>\n",
       "      <th>genres</th>\n",
       "      <th>rating*numvotes</th>\n",
       "    </tr>\n",
       "  </thead>\n",
       "  <tbody>\n",
       "    <tr>\n",
       "      <th>52</th>\n",
       "      <td>tt1400515</td>\n",
       "      <td>3.5</td>\n",
       "      <td>1701</td>\n",
       "      <td>Don't Let Him In</td>\n",
       "      <td>Don't Let Him In</td>\n",
       "      <td>80.0</td>\n",
       "      <td>Horror,Thriller</td>\n",
       "      <td>5953.5</td>\n",
       "    </tr>\n",
       "    <tr>\n",
       "      <th>114</th>\n",
       "      <td>tt1563121</td>\n",
       "      <td>3.7</td>\n",
       "      <td>40</td>\n",
       "      <td>Closets</td>\n",
       "      <td>Closets</td>\n",
       "      <td>91.0</td>\n",
       "      <td>Horror,Thriller</td>\n",
       "      <td>148.0</td>\n",
       "    </tr>\n",
       "    <tr>\n",
       "      <th>134</th>\n",
       "      <td>tt1600197</td>\n",
       "      <td>3.0</td>\n",
       "      <td>349</td>\n",
       "      <td>Behind Your Eyes</td>\n",
       "      <td>Behind Your Eyes</td>\n",
       "      <td>85.0</td>\n",
       "      <td>Horror,Thriller</td>\n",
       "      <td>1047.0</td>\n",
       "    </tr>\n",
       "    <tr>\n",
       "      <th>135</th>\n",
       "      <td>tt1603379</td>\n",
       "      <td>3.5</td>\n",
       "      <td>102</td>\n",
       "      <td>Shackled</td>\n",
       "      <td>Shackled</td>\n",
       "      <td>82.0</td>\n",
       "      <td>Horror,Thriller</td>\n",
       "      <td>357.0</td>\n",
       "    </tr>\n",
       "    <tr>\n",
       "      <th>163</th>\n",
       "      <td>tt1640219</td>\n",
       "      <td>2.8</td>\n",
       "      <td>114</td>\n",
       "      <td>Locked in a Room</td>\n",
       "      <td>Locked in a Room</td>\n",
       "      <td>112.0</td>\n",
       "      <td>Horror,Thriller</td>\n",
       "      <td>319.2</td>\n",
       "    </tr>\n",
       "    <tr>\n",
       "      <th>...</th>\n",
       "      <td>...</td>\n",
       "      <td>...</td>\n",
       "      <td>...</td>\n",
       "      <td>...</td>\n",
       "      <td>...</td>\n",
       "      <td>...</td>\n",
       "      <td>...</td>\n",
       "      <td>...</td>\n",
       "    </tr>\n",
       "    <tr>\n",
       "      <th>65308</th>\n",
       "      <td>tt3449320</td>\n",
       "      <td>5.0</td>\n",
       "      <td>856</td>\n",
       "      <td>Darr @ the Mall</td>\n",
       "      <td>Darr @ the Mall</td>\n",
       "      <td>124.0</td>\n",
       "      <td>Horror,Thriller</td>\n",
       "      <td>4280.0</td>\n",
       "    </tr>\n",
       "    <tr>\n",
       "      <th>65391</th>\n",
       "      <td>tt3665768</td>\n",
       "      <td>6.4</td>\n",
       "      <td>41</td>\n",
       "      <td>The Dark Shack</td>\n",
       "      <td>The Dark Shack</td>\n",
       "      <td>90.0</td>\n",
       "      <td>Horror,Thriller</td>\n",
       "      <td>262.4</td>\n",
       "    </tr>\n",
       "    <tr>\n",
       "      <th>65486</th>\n",
       "      <td>tt7153418</td>\n",
       "      <td>7.9</td>\n",
       "      <td>150</td>\n",
       "      <td>Kataka</td>\n",
       "      <td>Kataka</td>\n",
       "      <td>107.0</td>\n",
       "      <td>Horror,Thriller</td>\n",
       "      <td>1185.0</td>\n",
       "    </tr>\n",
       "    <tr>\n",
       "      <th>65510</th>\n",
       "      <td>tt7315484</td>\n",
       "      <td>5.2</td>\n",
       "      <td>22399</td>\n",
       "      <td>The Silence</td>\n",
       "      <td>The Silence</td>\n",
       "      <td>90.0</td>\n",
       "      <td>Horror,Thriller</td>\n",
       "      <td>116474.8</td>\n",
       "    </tr>\n",
       "    <tr>\n",
       "      <th>65556</th>\n",
       "      <td>tt7600294</td>\n",
       "      <td>2.8</td>\n",
       "      <td>133</td>\n",
       "      <td>Burnt Offering</td>\n",
       "      <td>Schoolhouse</td>\n",
       "      <td>90.0</td>\n",
       "      <td>Horror,Thriller</td>\n",
       "      <td>372.4</td>\n",
       "    </tr>\n",
       "  </tbody>\n",
       "</table>\n",
       "<p>943 rows × 8 columns</p>\n",
       "</div>"
      ],
      "text/plain": [
       "          tconst  averagerating  numvotes     primary_title    original_title  \\\n",
       "52     tt1400515            3.5      1701  Don't Let Him In  Don't Let Him In   \n",
       "114    tt1563121            3.7        40           Closets           Closets   \n",
       "134    tt1600197            3.0       349  Behind Your Eyes  Behind Your Eyes   \n",
       "135    tt1603379            3.5       102          Shackled          Shackled   \n",
       "163    tt1640219            2.8       114  Locked in a Room  Locked in a Room   \n",
       "...          ...            ...       ...               ...               ...   \n",
       "65308  tt3449320            5.0       856   Darr @ the Mall   Darr @ the Mall   \n",
       "65391  tt3665768            6.4        41    The Dark Shack    The Dark Shack   \n",
       "65486  tt7153418            7.9       150            Kataka            Kataka   \n",
       "65510  tt7315484            5.2     22399       The Silence       The Silence   \n",
       "65556  tt7600294            2.8       133    Burnt Offering       Schoolhouse   \n",
       "\n",
       "       runtime_minutes           genres  rating*numvotes  \n",
       "52                80.0  Horror,Thriller           5953.5  \n",
       "114               91.0  Horror,Thriller            148.0  \n",
       "134               85.0  Horror,Thriller           1047.0  \n",
       "135               82.0  Horror,Thriller            357.0  \n",
       "163              112.0  Horror,Thriller            319.2  \n",
       "...                ...              ...              ...  \n",
       "65308            124.0  Horror,Thriller           4280.0  \n",
       "65391             90.0  Horror,Thriller            262.4  \n",
       "65486            107.0  Horror,Thriller           1185.0  \n",
       "65510             90.0  Horror,Thriller         116474.8  \n",
       "65556             90.0  Horror,Thriller            372.4  \n",
       "\n",
       "[943 rows x 8 columns]"
      ]
     },
     "execution_count": 219,
     "metadata": {},
     "output_type": "execute_result"
    }
   ],
   "source": [
    "new_imdb_HorrorThriller = new_imdb[new_imdb['genres']=='Horror,Thriller']\n",
    "new_imdb_HorrorThriller"
   ]
  },
  {
   "cell_type": "code",
   "execution_count": 222,
   "metadata": {},
   "outputs": [
    {
     "data": {
      "text/plain": [
       "5.9659309416118225"
      ]
     },
     "execution_count": 222,
     "metadata": {},
     "output_type": "execute_result"
    }
   ],
   "source": [
    "HorrorThriller = sum_rate_nvots_HorrorThriller / sum_votes_HorrorThriller\n",
    "HorrorThriller"
   ]
  },
  {
   "cell_type": "code",
   "execution_count": 259,
   "metadata": {},
   "outputs": [],
   "source": [
    "genres_with_numberofvote = dict({'Drama': 7.15,\n",
    " 'Documentary':7.18 ,\n",
    " 'Comedy': 5.87,\n",
    " 'Comedy,Drama': 6.87,\n",
    " 'Horror': 5.45,\n",
    " 'Drama,Romance': 6.99,\n",
    " 'Thriller': 5.66,\n",
    " 'Comedy,Drama,Romance': 6.82 ,\n",
    " 'Comedy,Romance': 6.14,\n",
    " 'Horror,Thriller': 5.96})"
   ]
  },
  {
   "cell_type": "code",
   "execution_count": 260,
   "metadata": {},
   "outputs": [],
   "source": [
    "\n",
    "#sort_genres_dict = sorted(genres_dict.items(), key=lambda x: x[1], reverse=True)\n",
    "\n",
    "#for i in sort_genres_dict:\n",
    "    #print(i[0], i[1])"
   ]
  },
  {
   "cell_type": "code",
   "execution_count": 261,
   "metadata": {},
   "outputs": [
    {
     "data": {
      "text/plain": [
       "{'Drama': 7.15,\n",
       " 'Documentary': 7.18,\n",
       " 'Comedy': 5.87,\n",
       " 'Comedy,Drama': 6.87,\n",
       " 'Horror': 5.45,\n",
       " 'Drama,Romance': 6.99,\n",
       " 'Thriller': 5.66,\n",
       " 'Comedy,Drama,Romance': 6.82,\n",
       " 'Comedy,Romance': 6.14,\n",
       " 'Horror,Thriller': 5.96}"
      ]
     },
     "execution_count": 261,
     "metadata": {},
     "output_type": "execute_result"
    }
   ],
   "source": [
    "genres_with_numberofvote"
   ]
  },
  {
   "cell_type": "code",
   "execution_count": 273,
   "metadata": {},
   "outputs": [
    {
     "data": {
      "image/png": "[encoded data removed]",
      "text/plain": [
       "<Figure size 432x288 with 1 Axes>"
      ]
     },
     "metadata": {
      "needs_background": "light"
     },
     "output_type": "display_data"
    }
   ],
   "source": [
    "d = genres_with_numberofvote\n",
    "X = np.arange(len(d))\n",
    "plt.bar(X, d.values(), align='edge', width=0.5)\n",
    "plt.xticks(X, d.keys())\n",
    "ymax = max(d.values()) + 1\n",
    "sns.barplot('', y=\"Salary\", data=df, \n",
    "            order=df.sort_values('Salary',ascending = False).Education)\n",
    "plt.ylim(0, ymax)\n",
    "plt.xlabel('Genres')\n",
    "plt.title('Top 10 Genres based on average rating and number of votes')\n",
    "plt.ylabel('average rating' )\n",
    "#plt.savefig(\"~/Desktop/myplot.png\", dpi=150)\n",
    "plt.show()"
   ]
  },
  {
   "cell_type": "code",
   "execution_count": 266,
   "metadata": {},
   "outputs": [
    {
     "data": {
      "image/png": "[encoded data removed]",
      "text/plain": [
       "<Figure size 432x288 with 1 Axes>"
      ]
     },
     "metadata": {
      "needs_background": "light"
     },
     "output_type": "display_data"
    }
   ],
   "source": [
    "d = average_rate_only\n",
    "X = np.arange(len(d))\n",
    "plt.bar(X, d.values(), align='edge', width=0.5)\n",
    "plt.xticks(X, d.keys())\n",
    "ymax = max(d.values()) + 1\n",
    "plt.ylim(0, ymax)\n",
    "plt.title('Top 10 Genres With Only Average Rating')\n",
    "plt.ylabel('Avergae Rating' )\n",
    "#plt.savefig(\"~/Desktop/myplot.png\", dpi=150)\n",
    "plt.show()"
   ]
  },
  {
   "cell_type": "code",
   "execution_count": 235,
   "metadata": {},
   "outputs": [],
   "source": [
    "number_of_votes = dict({'Drama': 8342370,\n",
    " 'Documentary': 1760862,\n",
    " 'Comedy': 6763496,\n",
    " 'Comedy,Drama': 6449680,\n",
    " 'Horror': 1570716,\n",
    " 'Drama,Romance': 5532458,\n",
    " 'Thriller': 413778,\n",
    " 'Comedy,Drama,Romance': 7662618,\n",
    " 'Comedy,Romance': 4742223,\n",
    " 'Horror,Thriller': 3102563})\n"
   ]
  },
  {
   "cell_type": "code",
   "execution_count": null,
   "metadata": {},
   "outputs": [],
   "source": [
    "nimber_of_votes= list"
   ]
  },
  {
   "cell_type": "code",
   "execution_count": 244,
   "metadata": {},
   "outputs": [
    {
     "data": {
      "image/png": "[encoded data removed]",
      "text/plain": [
       "<Figure size 432x288 with 1 Axes>"
      ]
     },
     "metadata": {
      "needs_background": "light"
     },
     "output_type": "display_data"
    }
   ],
   "source": [
    "d = number_of_votes\n",
    "X = np.arange(len(d))\n",
    "plt.bar(X, d.values(), align='edge', width=0.5)\n",
    "plt.xticks(X, d.keys())\n",
    "ymax = max(d.values()) + 1\n",
    "plt.ylim(0, ymax)\n",
    "plt.title('Top 10 Genres Based on number of Votes')\n",
    "plt.ylabel('Number of Votes' )\n",
    "#plt.savefig(\"~/Desktop/myplot.png\", dpi=150)\n",
    "plt.show()"
   ]
  },
  {
   "cell_type": "code",
   "execution_count": 272,
   "metadata": {},
   "outputs": [
    {
     "data": {
      "image/png": "[encoded data removed]",
      "text/plain": [
       "<Figure size 432x288 with 1 Axes>"
      ]
     },
     "metadata": {
      "needs_background": "light"
     },
     "output_type": "display_data"
    }
   ],
   "source": [
    "d = top_10_runtime\n",
    "X = np.arange(len(d))\n",
    "plt.bar(X, d.values(), align='edge', width=0.5)\n",
    "plt.xticks(X, d.keys())\n",
    "ymax = max(d.values()) + 1\n",
    "plt.ylim(0, ymax)\n",
    "plt.title('Top 10 Runing Time per Minutes ')\n",
    "plt.ylabel('Number of Movies ' )\n",
    "#plt.savefig(\"~/Desktop/myplot.png\", dpi=150)\n",
    "plt.show()"
   ]
  },
  {
   "cell_type": "code",
   "execution_count": null,
   "metadata": {},
   "outputs": [],
   "source": []
  },
  {
   "cell_type": "code",
   "execution_count": 299,
   "metadata": {},
   "outputs": [
    {
     "data": {
      "text/plain": [
       "[8342370,\n",
       " 1760862,\n",
       " 6763496,\n",
       " 6449680,\n",
       " 1570716,\n",
       " 5532458,\n",
       " 413778,\n",
       " 7662618,\n",
       " 4742223,\n",
       " 3102563]"
      ]
     },
     "execution_count": 299,
     "metadata": {},
     "output_type": "execute_result"
    }
   ],
   "source": [
    "number_of_votes = [8342370, 1760862, 6763496, 6449680, 1570716, 5532458, 413778, 7662618, 4742223, 3102563]\n",
    "number_of_votes"
   ]
  },
  {
   "cell_type": "code",
   "execution_count": 220,
   "metadata": {},
   "outputs": [
    {
     "data": {
      "text/plain": [
       "3102563"
      ]
     },
     "execution_count": 220,
     "metadata": {},
     "output_type": "execute_result"
    }
   ],
   "source": [
    "sum_votes_HorrorThriller = new_imdb_HorrorThriller['numvotes'].sum()\n",
    "sum_votes_HorrorThriller"
   ]
  },
  {
   "cell_type": "code",
   "execution_count": 221,
   "metadata": {},
   "outputs": [
    {
     "data": {
      "text/plain": [
       "18509676.6"
      ]
     },
     "execution_count": 221,
     "metadata": {},
     "output_type": "execute_result"
    }
   ],
   "source": [
    "sum_rate_nvots_HorrorThriller= new_imdb_HorrorThriller['rating*numvotes'].sum()\n",
    "sum_rate_nvots_HorrorThriller"
   ]
  },
  {
   "cell_type": "code",
   "execution_count": null,
   "metadata": {},
   "outputs": [],
   "source": []
  },
  {
   "cell_type": "code",
   "execution_count": 214,
   "metadata": {},
   "outputs": [
    {
     "data": {
      "text/plain": [
       "4742223"
      ]
     },
     "execution_count": 214,
     "metadata": {},
     "output_type": "execute_result"
    }
   ],
   "source": [
    "sum_votes_ComedyRomance = new_imdb_ComedyRomance['numvotes'].sum()\n",
    "sum_votes_ComedyRomance"
   ]
  },
  {
   "cell_type": "code",
   "execution_count": 215,
   "metadata": {},
   "outputs": [
    {
     "data": {
      "text/plain": [
       "29141244.6"
      ]
     },
     "execution_count": 215,
     "metadata": {},
     "output_type": "execute_result"
    }
   ],
   "source": [
    "sum_rate_nvots_ComedyRomance= new_imdb_ComedyRomance['rating*numvotes'].sum()\n",
    "sum_rate_nvots_ComedyRomance"
   ]
  },
  {
   "cell_type": "code",
   "execution_count": null,
   "metadata": {},
   "outputs": [],
   "source": []
  },
  {
   "cell_type": "code",
   "execution_count": 208,
   "metadata": {},
   "outputs": [
    {
     "data": {
      "text/plain": [
       "7662618"
      ]
     },
     "execution_count": 208,
     "metadata": {},
     "output_type": "execute_result"
    }
   ],
   "source": [
    "sum_votes_ComedyDramaRomance = new_imdb_ComedyDramaRomance['numvotes'].sum()\n",
    "sum_votes_ComedyDramaRomance"
   ]
  },
  {
   "cell_type": "code",
   "execution_count": 211,
   "metadata": {},
   "outputs": [
    {
     "data": {
      "text/plain": [
       "52260037.39999999"
      ]
     },
     "execution_count": 211,
     "metadata": {},
     "output_type": "execute_result"
    }
   ],
   "source": [
    "sum_rate_nvots_ComedyDramaRomance= new_imdb_ComedyDramaRomance['rating*numvotes'].sum()\n",
    "sum_rate_nvots_ComedyDramaRomance"
   ]
  },
  {
   "cell_type": "code",
   "execution_count": null,
   "metadata": {},
   "outputs": [],
   "source": []
  },
  {
   "cell_type": "code",
   "execution_count": null,
   "metadata": {},
   "outputs": [],
   "source": []
  },
  {
   "cell_type": "code",
   "execution_count": null,
   "metadata": {},
   "outputs": [],
   "source": []
  },
  {
   "cell_type": "code",
   "execution_count": 202,
   "metadata": {},
   "outputs": [
    {
     "data": {
      "text/plain": [
       "431778"
      ]
     },
     "execution_count": 202,
     "metadata": {},
     "output_type": "execute_result"
    }
   ],
   "source": [
    "sum_votes_Thriller = new_imdb_Thriller['numvotes'].sum()\n",
    "sum_votes_Thriller"
   ]
  },
  {
   "cell_type": "code",
   "execution_count": 203,
   "metadata": {},
   "outputs": [
    {
     "data": {
      "text/plain": [
       "2446084.3"
      ]
     },
     "execution_count": 203,
     "metadata": {},
     "output_type": "execute_result"
    }
   ],
   "source": [
    "sum_votes_Thriller = new_imdb_Thriller['numvotes'].sum()\n",
    "sum_votes_Thriller"
   ]
  },
  {
   "cell_type": "code",
   "execution_count": null,
   "metadata": {},
   "outputs": [],
   "source": []
  },
  {
   "cell_type": "code",
   "execution_count": null,
   "metadata": {},
   "outputs": [],
   "source": []
  },
  {
   "cell_type": "code",
   "execution_count": null,
   "metadata": {},
   "outputs": [],
   "source": []
  },
  {
   "cell_type": "code",
   "execution_count": null,
   "metadata": {},
   "outputs": [],
   "source": []
  },
  {
   "cell_type": "code",
   "execution_count": null,
   "metadata": {},
   "outputs": [],
   "source": []
  },
  {
   "cell_type": "code",
   "execution_count": 198,
   "metadata": {},
   "outputs": [
    {
     "data": {
      "text/plain": [
       "5532458"
      ]
     },
     "execution_count": 198,
     "metadata": {},
     "output_type": "execute_result"
    }
   ],
   "source": [
    "sum_votes_DramaRomance = new_imdb_DramaRomance['numvotes'].sum()\n",
    "sum_votes_DramaRomance"
   ]
  },
  {
   "cell_type": "code",
   "execution_count": 199,
   "metadata": {},
   "outputs": [
    {
     "data": {
      "text/plain": [
       "38705290.9"
      ]
     },
     "execution_count": 199,
     "metadata": {},
     "output_type": "execute_result"
    }
   ],
   "source": [
    "sum_rate_nvots_DramaRomance= new_imdb_DramaRomance['rating*numvotes'].sum()\n",
    "sum_rate_nvots_DramaRomance"
   ]
  },
  {
   "cell_type": "code",
   "execution_count": null,
   "metadata": {},
   "outputs": [],
   "source": []
  },
  {
   "cell_type": "code",
   "execution_count": null,
   "metadata": {},
   "outputs": [],
   "source": []
  },
  {
   "cell_type": "code",
   "execution_count": 193,
   "metadata": {},
   "outputs": [
    {
     "data": {
      "text/plain": [
       "1570716"
      ]
     },
     "execution_count": 193,
     "metadata": {},
     "output_type": "execute_result"
    }
   ],
   "source": [
    "sum_votes_Horror = new_imdb_Horror['numvotes'].sum()\n",
    "sum_votes_Horror"
   ]
  },
  {
   "cell_type": "code",
   "execution_count": 195,
   "metadata": {},
   "outputs": [
    {
     "data": {
      "text/plain": [
       "8571470.1"
      ]
     },
     "execution_count": 195,
     "metadata": {},
     "output_type": "execute_result"
    }
   ],
   "source": [
    "sum_votes_Horror = new_imdb_Horror['numvotes'].sum()\n",
    "sum_votes_Horror"
   ]
  },
  {
   "cell_type": "code",
   "execution_count": null,
   "metadata": {},
   "outputs": [],
   "source": []
  },
  {
   "cell_type": "code",
   "execution_count": null,
   "metadata": {},
   "outputs": [],
   "source": []
  },
  {
   "cell_type": "code",
   "execution_count": null,
   "metadata": {},
   "outputs": [],
   "source": []
  },
  {
   "cell_type": "code",
   "execution_count": null,
   "metadata": {},
   "outputs": [],
   "source": []
  },
  {
   "cell_type": "code",
   "execution_count": 189,
   "metadata": {},
   "outputs": [
    {
     "data": {
      "text/plain": [
       "6449680"
      ]
     },
     "execution_count": 189,
     "metadata": {},
     "output_type": "execute_result"
    }
   ],
   "source": [
    "sum_votes_comdrama = new_imdb_Comdrama['numvotes'].sum()\n",
    "sum_votes_comdrama"
   ]
  },
  {
   "cell_type": "code",
   "execution_count": 190,
   "metadata": {},
   "outputs": [
    {
     "data": {
      "text/plain": [
       "44341030.0"
      ]
     },
     "execution_count": 190,
     "metadata": {},
     "output_type": "execute_result"
    }
   ],
   "source": [
    "sum_rate_nvots_comdrama = new_imdb_Comdrama['rating*numvotes'].sum()\n",
    "sum_rate_nvots_comdrama"
   ]
  },
  {
   "cell_type": "code",
   "execution_count": null,
   "metadata": {},
   "outputs": [],
   "source": []
  },
  {
   "cell_type": "code",
   "execution_count": null,
   "metadata": {},
   "outputs": [],
   "source": []
  },
  {
   "cell_type": "code",
   "execution_count": null,
   "metadata": {},
   "outputs": [],
   "source": []
  },
  {
   "cell_type": "code",
   "execution_count": 184,
   "metadata": {},
   "outputs": [
    {
     "data": {
      "text/plain": [
       "6763496"
      ]
     },
     "execution_count": 184,
     "metadata": {},
     "output_type": "execute_result"
    }
   ],
   "source": [
    "sum_votes_comedy = new_imdb_Comedy['numvotes'].sum()\n",
    "sum_votes_comedy"
   ]
  },
  {
   "cell_type": "code",
   "execution_count": 185,
   "metadata": {},
   "outputs": [
    {
     "data": {
      "text/plain": [
       "39745094.5"
      ]
     },
     "execution_count": 185,
     "metadata": {},
     "output_type": "execute_result"
    }
   ],
   "source": [
    "sum_rate_nvots_comedy = new_imdb_Comedy['rating*numvotes'].sum()\n",
    "sum_rate_nvots_comedy"
   ]
  },
  {
   "cell_type": "code",
   "execution_count": null,
   "metadata": {},
   "outputs": [],
   "source": []
  },
  {
   "cell_type": "code",
   "execution_count": null,
   "metadata": {},
   "outputs": [],
   "source": []
  },
  {
   "cell_type": "code",
   "execution_count": 180,
   "metadata": {},
   "outputs": [
    {
     "data": {
      "text/plain": [
       "1760862"
      ]
     },
     "execution_count": 180,
     "metadata": {},
     "output_type": "execute_result"
    }
   ],
   "source": [
    "sum_votes_doc = new_imdb_Documentary['numvotes'].sum()\n",
    "sum_votes_doc"
   ]
  },
  {
   "cell_type": "code",
   "execution_count": 181,
   "metadata": {},
   "outputs": [
    {
     "data": {
      "text/plain": [
       "12659994.7"
      ]
     },
     "execution_count": 181,
     "metadata": {},
     "output_type": "execute_result"
    }
   ],
   "source": [
    "sum_rate_nvots_doc = new_imdb_Documentary['rating*numvotes'].sum()\n",
    "sum_rate_nvots_doc"
   ]
  },
  {
   "cell_type": "code",
   "execution_count": null,
   "metadata": {},
   "outputs": [],
   "source": []
  },
  {
   "cell_type": "code",
   "execution_count": 247,
   "metadata": {},
   "outputs": [
    {
     "data": {
      "text/plain": [
       "['Drama',\n",
       " 'Documentary',\n",
       " 'Comedy',\n",
       " 'Comedy,Drama',\n",
       " 'Horror',\n",
       " 'Drama,Romance',\n",
       " 'Thriller',\n",
       " 'Comedy,Drama,Romance',\n",
       " 'Comedy,Romance',\n",
       " 'Horror,Thriller']"
      ]
     },
     "execution_count": 247,
     "metadata": {},
     "output_type": "execute_result"
    }
   ],
   "source": [
    "top10_list"
   ]
  },
  {
   "cell_type": "code",
   "execution_count": null,
   "metadata": {},
   "outputs": [],
   "source": []
  },
  {
   "cell_type": "code",
   "execution_count": null,
   "metadata": {},
   "outputs": [],
   "source": []
  },
  {
   "cell_type": "code",
   "execution_count": 150,
   "metadata": {},
   "outputs": [
    {
     "data": {
      "text/plain": [
       "8342370"
      ]
     },
     "execution_count": 150,
     "metadata": {},
     "output_type": "execute_result"
    }
   ],
   "source": [
    "sum_votes = new_imdb_drama['numvotes'].sum()\n",
    "sum_votes"
   ]
  },
  {
   "cell_type": "code",
   "execution_count": 151,
   "metadata": {},
   "outputs": [
    {
     "data": {
      "text/plain": [
       "59658708.39999999"
      ]
     },
     "execution_count": 151,
     "metadata": {},
     "output_type": "execute_result"
    }
   ],
   "source": [
    "sum_rate_nvots = new_imdb_drama['rating*numvotes'].sum()\n",
    "sum_rate_nvots"
   ]
  },
  {
   "cell_type": "code",
   "execution_count": 245,
   "metadata": {},
   "outputs": [
    {
     "data": {
      "text/plain": [
       "6.485778781038375"
      ]
     },
     "execution_count": 245,
     "metadata": {},
     "output_type": "execute_result"
    }
   ],
   "source": [
    "just_average_drama = new_imdb[new_imdb['genres']=='Drama']['averagerating'].mean()\n",
    "just_average_drama"
   ]
  },
  {
   "cell_type": "code",
   "execution_count": 246,
   "metadata": {},
   "outputs": [
    {
     "data": {
      "text/plain": [
       "7.267045578751778"
      ]
     },
     "execution_count": 246,
     "metadata": {},
     "output_type": "execute_result"
    }
   ],
   "source": [
    "just_average_Documentary = new_imdb[new_imdb['genres']=='Documentary']['averagerating'].mean()\n",
    "just_average_Documentary"
   ]
  },
  {
   "cell_type": "code",
   "execution_count": 248,
   "metadata": {},
   "outputs": [
    {
     "data": {
      "text/plain": [
       "5.785490877497828"
      ]
     },
     "execution_count": 248,
     "metadata": {},
     "output_type": "execute_result"
    }
   ],
   "source": [
    "just_average_Comedy = new_imdb[new_imdb['genres']=='Comedy']['averagerating'].mean()\n",
    "just_average_Comedy"
   ]
  },
  {
   "cell_type": "code",
   "execution_count": 249,
   "metadata": {},
   "outputs": [
    {
     "data": {
      "text/plain": [
       "6.36891064871481"
      ]
     },
     "execution_count": 249,
     "metadata": {},
     "output_type": "execute_result"
    }
   ],
   "source": [
    "just_average_ComedyDrama = new_imdb[new_imdb['genres']=='Comedy,Drama']['averagerating'].mean()\n",
    "just_average_ComedyDrama"
   ]
  },
  {
   "cell_type": "code",
   "execution_count": 250,
   "metadata": {},
   "outputs": [
    {
     "data": {
      "text/plain": [
       "4.685573476702508"
      ]
     },
     "execution_count": 250,
     "metadata": {},
     "output_type": "execute_result"
    }
   ],
   "source": [
    "just_average_Horror = new_imdb[new_imdb['genres']=='Horror']['averagerating'].mean()\n",
    "just_average_Horror"
   ]
  },
  {
   "cell_type": "code",
   "execution_count": 251,
   "metadata": {},
   "outputs": [
    {
     "data": {
      "text/plain": [
       "6.271695402298851"
      ]
     },
     "execution_count": 251,
     "metadata": {},
     "output_type": "execute_result"
    }
   ],
   "source": [
    "just_average_DramaRomance = new_imdb[new_imdb['genres']=='Drama,Romance']['averagerating'].mean()\n",
    "just_average_DramaRomance"
   ]
  },
  {
   "cell_type": "code",
   "execution_count": 252,
   "metadata": {},
   "outputs": [
    {
     "data": {
      "text/plain": [
       "5.603726708074534"
      ]
     },
     "execution_count": 252,
     "metadata": {},
     "output_type": "execute_result"
    }
   ],
   "source": [
    "just_average_Thriller= new_imdb[new_imdb['genres']=='Thriller']['averagerating'].mean()\n",
    "just_average_Thriller"
   ]
  },
  {
   "cell_type": "code",
   "execution_count": 253,
   "metadata": {},
   "outputs": [
    {
     "data": {
      "text/plain": [
       "6.288869715271787"
      ]
     },
     "execution_count": 253,
     "metadata": {},
     "output_type": "execute_result"
    }
   ],
   "source": [
    "just_average_ComedyDramaRomance = new_imdb[new_imdb['genres']=='Comedy,Drama,Romance']['averagerating'].mean()\n",
    "just_average_ComedyDramaRomance"
   ]
  },
  {
   "cell_type": "code",
   "execution_count": 254,
   "metadata": {},
   "outputs": [
    {
     "data": {
      "text/plain": [
       "5.849113475177305"
      ]
     },
     "execution_count": 254,
     "metadata": {},
     "output_type": "execute_result"
    }
   ],
   "source": [
    "just_average_ComedyRomance = new_imdb[new_imdb['genres']=='Comedy,Romance']['averagerating'].mean()\n",
    "just_average_ComedyRomance"
   ]
  },
  {
   "cell_type": "code",
   "execution_count": 255,
   "metadata": {},
   "outputs": [
    {
     "data": {
      "text/plain": [
       "4.746023329798516"
      ]
     },
     "execution_count": 255,
     "metadata": {},
     "output_type": "execute_result"
    }
   ],
   "source": [
    "just_average_HorrorThriller = new_imdb[new_imdb['genres']=='Horror,Thriller']['averagerating'].mean()\n",
    "just_average_HorrorThriller"
   ]
  },
  {
   "cell_type": "code",
   "execution_count": 256,
   "metadata": {},
   "outputs": [],
   "source": [
    "average_rate_only = dict({'Drama': 6.48,\n",
    " 'Documentary': 7.26,\n",
    " 'Comedy': 5.78,\n",
    " 'Comedy,Drama': 6.36,\n",
    " 'Horror': 4.68,\n",
    " 'Drama,Romance': 6.27,\n",
    " 'Thriller': 5.60,\n",
    " 'Comedy,Drama,Romance': 6.28,\n",
    " 'Comedy,Romance': 5.84,\n",
    " 'Horror,Thriller': 4.74})"
   ]
  },
  {
   "cell_type": "code",
   "execution_count": 289,
   "metadata": {},
   "outputs": [
    {
     "data": {
      "text/plain": [
       "[6.48, 7.26, 5.78, 6.36, 4.68, 6.27, 5.6, 6.28, 5.84, 4.74]"
      ]
     },
     "execution_count": 289,
     "metadata": {},
     "output_type": "execute_result"
    }
   ],
   "source": [
    "average_rate_list = [6.48, 7.26, 5.78, 6.36, 4.68, 6.27, 5.60, 6.28, 5.84, 4.74]\n",
    "average_rate_list"
   ]
  },
  {
   "cell_type": "code",
   "execution_count": 257,
   "metadata": {},
   "outputs": [
    {
     "data": {
      "text/plain": [
       "{'Drama': 6.48,\n",
       " 'Documentary': 7.26,\n",
       " 'Comedy': 5.78,\n",
       " 'Comedy,Drama': 6.36,\n",
       " 'Horror': 4.68,\n",
       " 'Drama,Romance': 6.27,\n",
       " 'Thriller': 5.6,\n",
       " 'Comedy,Drama,Romance': 6.28,\n",
       " 'Comedy,Romance': 5.84,\n",
       " 'Horror,Thriller': 4.74}"
      ]
     },
     "execution_count": 257,
     "metadata": {},
     "output_type": "execute_result"
    }
   ],
   "source": [
    "average_rate_only"
   ]
  },
  {
   "cell_type": "code",
   "execution_count": 263,
   "metadata": {},
   "outputs": [
    {
     "data": {
      "text/plain": [
       "{'Drama': 7.15,\n",
       " 'Documentary': 7.18,\n",
       " 'Comedy': 5.87,\n",
       " 'Comedy,Drama': 6.87,\n",
       " 'Horror': 5.45,\n",
       " 'Drama,Romance': 6.99,\n",
       " 'Thriller': 5.66,\n",
       " 'Comedy,Drama,Romance': 6.82,\n",
       " 'Comedy,Romance': 6.14,\n",
       " 'Horror,Thriller': 5.96}"
      ]
     },
     "execution_count": 263,
     "metadata": {},
     "output_type": "execute_result"
    }
   ],
   "source": [
    "genres_with_numberofvote"
   ]
  },
  {
   "cell_type": "code",
   "execution_count": 279,
   "metadata": {},
   "outputs": [],
   "source": [
    "top10_list_numvotes = [7.15, 7.18, 5.87, 6.87, 5.45, 6.99, 5.66, 6.82, 6.14, 5.96]"
   ]
  },
  {
   "cell_type": "code",
   "execution_count": 270,
   "metadata": {},
   "outputs": [
    {
     "data": {
      "text/plain": [
       "90.0     4718\n",
       "80.0     2142\n",
       "85.0     2048\n",
       "100.0    1954\n",
       "95.0     1919\n",
       "93.0     1533\n",
       "88.0     1476\n",
       "92.0     1423\n",
       "87.0     1373\n",
       "94.0     1369\n",
       "Name: runtime_minutes, dtype: int64"
      ]
     },
     "execution_count": 270,
     "metadata": {},
     "output_type": "execute_result"
    }
   ],
   "source": [
    "new_runtime = new_imdb['runtime_minutes'].value_counts()\n",
    "new_runtime.head(10)"
   ]
  },
  {
   "cell_type": "code",
   "execution_count": 271,
   "metadata": {},
   "outputs": [
    {
     "data": {
      "text/plain": [
       "{90.0: 4718,\n",
       " 80.0: 2142,\n",
       " 85.0: 2048,\n",
       " 100.0: 1954,\n",
       " 95.0: 1919,\n",
       " 93.0: 1533,\n",
       " 88.0: 1476,\n",
       " 92.0: 1423,\n",
       " 87.0: 1373,\n",
       " 94.0: 1369}"
      ]
     },
     "execution_count": 271,
     "metadata": {},
     "output_type": "execute_result"
    }
   ],
   "source": [
    "top_10_runtime = dict({90.0: 4718, 80.0: 2142, 85.0: 2048, 100.0: 1954, 95.0: 1919, 93.0: 1533, 88.0: 1476, 92.0: 1423, 87.0: 1373, 94.0: 1369 })\n",
    "top_10_runtime"
   ]
  },
  {
   "cell_type": "code",
   "execution_count": null,
   "metadata": {},
   "outputs": [],
   "source": []
  },
  {
   "cell_type": "code",
   "execution_count": 164,
   "metadata": {},
   "outputs": [],
   "source": [
    "def runing_time_in_minutes(new_imdb):\n",
    "    \"\"\"\n",
    "    This function makes movies in 4 categories \n",
    "    by length to see what category has the most rating\n",
    "    \n",
    "    Less than 40 minutes: 'Short'\n",
    "    40 to 80 minutes: 'Medium'\n",
    "    80 to 120 minutes: 'Long'\n",
    "    more than 120 minutes: 'Super Long'\n",
    "    \n",
    "    \"\"\"\n",
    "    for runtime_minutes in new_imdb:\n",
    "        if runtime_minutes <= 40.0:\n",
    "            return 'Short'\n",
    "        elif 40.0<runtime_minutes<80.0:\n",
    "            return 'Medium'\n",
    "        elif 80.0<runtime_minutes<120.0:\n",
    "            return 'Long'\n",
    "        else:\n",
    "            return 'Super long'"
   ]
  },
  {
   "cell_type": "code",
   "execution_count": 166,
   "metadata": {},
   "outputs": [
    {
     "name": "stdout",
     "output_type": "stream",
     "text": [
      "<function runing_time_in_minutes at 0x7f8d1b65d9d8>\n"
     ]
    }
   ],
   "source": [
    "print(runing_time_in_minutes)"
   ]
  },
  {
   "cell_type": "code",
   "execution_count": 282,
   "metadata": {},
   "outputs": [
    {
     "data": {
      "text/plain": [
       "[7.15, 7.18, 5.87, 6.87, 5.45, 6.99, 5.66, 6.82, 6.14, 5.96]"
      ]
     },
     "execution_count": 282,
     "metadata": {},
     "output_type": "execute_result"
    }
   ],
   "source": [
    "top10_list_numvotes"
   ]
  },
  {
   "cell_type": "code",
   "execution_count": 278,
   "metadata": {},
   "outputs": [
    {
     "data": {
      "text/plain": [
       "['Drama',\n",
       " 'Documentary',\n",
       " 'Comedy',\n",
       " 'Comedy,Drama',\n",
       " 'Horror',\n",
       " 'Drama,Romance',\n",
       " 'Thriller',\n",
       " 'Comedy,Drama,Romance',\n",
       " 'Comedy,Romance',\n",
       " 'Horror,Thriller']"
      ]
     },
     "execution_count": 278,
     "metadata": {},
     "output_type": "execute_result"
    }
   ],
   "source": [
    "top10_list"
   ]
  },
  {
   "cell_type": "code",
   "execution_count": null,
   "metadata": {},
   "outputs": [],
   "source": []
  },
  {
   "cell_type": "code",
   "execution_count": 284,
   "metadata": {},
   "outputs": [],
   "source": [
    "new_df_genres = pd.DataFrame({'Genres': top10_list, 'VotesRating': top10_list_numvotes})"
   ]
  },
  {
   "cell_type": "code",
   "execution_count": 285,
   "metadata": {},
   "outputs": [
    {
     "data": {
      "text/html": [
       "<div>\n",
       "<style scoped>\n",
       "    .dataframe tbody tr th:only-of-type {\n",
       "        vertical-align: middle;\n",
       "    }\n",
       "\n",
       "    .dataframe tbody tr th {\n",
       "        vertical-align: top;\n",
       "    }\n",
       "\n",
       "    .dataframe thead th {\n",
       "        text-align: right;\n",
       "    }\n",
       "</style>\n",
       "<table border=\"1\" class=\"dataframe\">\n",
       "  <thead>\n",
       "    <tr style=\"text-align: right;\">\n",
       "      <th></th>\n",
       "      <th>Genres</th>\n",
       "      <th>VotesRating</th>\n",
       "    </tr>\n",
       "  </thead>\n",
       "  <tbody>\n",
       "    <tr>\n",
       "      <th>0</th>\n",
       "      <td>Drama</td>\n",
       "      <td>7.15</td>\n",
       "    </tr>\n",
       "    <tr>\n",
       "      <th>1</th>\n",
       "      <td>Documentary</td>\n",
       "      <td>7.18</td>\n",
       "    </tr>\n",
       "    <tr>\n",
       "      <th>2</th>\n",
       "      <td>Comedy</td>\n",
       "      <td>5.87</td>\n",
       "    </tr>\n",
       "    <tr>\n",
       "      <th>3</th>\n",
       "      <td>Comedy,Drama</td>\n",
       "      <td>6.87</td>\n",
       "    </tr>\n",
       "    <tr>\n",
       "      <th>4</th>\n",
       "      <td>Horror</td>\n",
       "      <td>5.45</td>\n",
       "    </tr>\n",
       "    <tr>\n",
       "      <th>5</th>\n",
       "      <td>Drama,Romance</td>\n",
       "      <td>6.99</td>\n",
       "    </tr>\n",
       "    <tr>\n",
       "      <th>6</th>\n",
       "      <td>Thriller</td>\n",
       "      <td>5.66</td>\n",
       "    </tr>\n",
       "    <tr>\n",
       "      <th>7</th>\n",
       "      <td>Comedy,Drama,Romance</td>\n",
       "      <td>6.82</td>\n",
       "    </tr>\n",
       "    <tr>\n",
       "      <th>8</th>\n",
       "      <td>Comedy,Romance</td>\n",
       "      <td>6.14</td>\n",
       "    </tr>\n",
       "    <tr>\n",
       "      <th>9</th>\n",
       "      <td>Horror,Thriller</td>\n",
       "      <td>5.96</td>\n",
       "    </tr>\n",
       "  </tbody>\n",
       "</table>\n",
       "</div>"
      ],
      "text/plain": [
       "                 Genres  VotesRating\n",
       "0                 Drama         7.15\n",
       "1           Documentary         7.18\n",
       "2                Comedy         5.87\n",
       "3          Comedy,Drama         6.87\n",
       "4                Horror         5.45\n",
       "5         Drama,Romance         6.99\n",
       "6              Thriller         5.66\n",
       "7  Comedy,Drama,Romance         6.82\n",
       "8        Comedy,Romance         6.14\n",
       "9       Horror,Thriller         5.96"
      ]
     },
     "execution_count": 285,
     "metadata": {},
     "output_type": "execute_result"
    }
   ],
   "source": [
    "new_df_genres"
   ]
  },
  {
   "cell_type": "code",
   "execution_count": 320,
   "metadata": {},
   "outputs": [
    {
     "data": {
      "image/png": "[encoded data removed]",
      "text/plain": [
       "<Figure size 1296x432 with 1 Axes>"
      ]
     },
     "metadata": {
      "needs_background": "light"
     },
     "output_type": "display_data"
    }
   ],
   "source": [
    "plt.figure(figsize=(18,6))\n",
    "# make barplot and sort bars in descending order\n",
    "sns.barplot(x='Genres', y='VotesRating', data=new_df_genres, \n",
    "            order=new_df_genres.sort_values('VotesRating',ascending = False).Genres)\n",
    "# set labels\n",
    "plt.xlabel(\"Genres\", size=15)\n",
    "plt.ylabel(\"Number of rating and votes\", size=15)\n",
    "plt.title(\"Top 10 Genres Based on Number of Votes and Rating\", size=18)\n",
    "plt.tight_layout()\n",
    "#plt.savefig( , dpi=100)\n"
   ]
  },
  {
   "cell_type": "code",
   "execution_count": 292,
   "metadata": {},
   "outputs": [
    {
     "data": {
      "text/html": [
       "<div>\n",
       "<style scoped>\n",
       "    .dataframe tbody tr th:only-of-type {\n",
       "        vertical-align: middle;\n",
       "    }\n",
       "\n",
       "    .dataframe tbody tr th {\n",
       "        vertical-align: top;\n",
       "    }\n",
       "\n",
       "    .dataframe thead th {\n",
       "        text-align: right;\n",
       "    }\n",
       "</style>\n",
       "<table border=\"1\" class=\"dataframe\">\n",
       "  <thead>\n",
       "    <tr style=\"text-align: right;\">\n",
       "      <th></th>\n",
       "      <th>Genres</th>\n",
       "      <th>OnlyRate</th>\n",
       "    </tr>\n",
       "  </thead>\n",
       "  <tbody>\n",
       "    <tr>\n",
       "      <th>0</th>\n",
       "      <td>Drama</td>\n",
       "      <td>6.48</td>\n",
       "    </tr>\n",
       "    <tr>\n",
       "      <th>1</th>\n",
       "      <td>Documentary</td>\n",
       "      <td>7.26</td>\n",
       "    </tr>\n",
       "    <tr>\n",
       "      <th>2</th>\n",
       "      <td>Comedy</td>\n",
       "      <td>5.78</td>\n",
       "    </tr>\n",
       "    <tr>\n",
       "      <th>3</th>\n",
       "      <td>Comedy,Drama</td>\n",
       "      <td>6.36</td>\n",
       "    </tr>\n",
       "    <tr>\n",
       "      <th>4</th>\n",
       "      <td>Horror</td>\n",
       "      <td>4.68</td>\n",
       "    </tr>\n",
       "    <tr>\n",
       "      <th>5</th>\n",
       "      <td>Drama,Romance</td>\n",
       "      <td>6.27</td>\n",
       "    </tr>\n",
       "    <tr>\n",
       "      <th>6</th>\n",
       "      <td>Thriller</td>\n",
       "      <td>5.60</td>\n",
       "    </tr>\n",
       "    <tr>\n",
       "      <th>7</th>\n",
       "      <td>Comedy,Drama,Romance</td>\n",
       "      <td>6.28</td>\n",
       "    </tr>\n",
       "    <tr>\n",
       "      <th>8</th>\n",
       "      <td>Comedy,Romance</td>\n",
       "      <td>5.84</td>\n",
       "    </tr>\n",
       "    <tr>\n",
       "      <th>9</th>\n",
       "      <td>Horror,Thriller</td>\n",
       "      <td>4.74</td>\n",
       "    </tr>\n",
       "  </tbody>\n",
       "</table>\n",
       "</div>"
      ],
      "text/plain": [
       "                 Genres  OnlyRate\n",
       "0                 Drama      6.48\n",
       "1           Documentary      7.26\n",
       "2                Comedy      5.78\n",
       "3          Comedy,Drama      6.36\n",
       "4                Horror      4.68\n",
       "5         Drama,Romance      6.27\n",
       "6              Thriller      5.60\n",
       "7  Comedy,Drama,Romance      6.28\n",
       "8        Comedy,Romance      5.84\n",
       "9       Horror,Thriller      4.74"
      ]
     },
     "execution_count": 292,
     "metadata": {},
     "output_type": "execute_result"
    }
   ],
   "source": [
    "new_df_genres_onlyRate = pd.DataFrame({'Genres': top10_list, 'OnlyRate': average_rate_list})\n",
    "new_df_genres_onlyRate"
   ]
  },
  {
   "cell_type": "code",
   "execution_count": 319,
   "metadata": {},
   "outputs": [
    {
     "data": {
      "image/png": "[encoded data removed]",
      "text/plain": [
       "<Figure size 1296x432 with 1 Axes>"
      ]
     },
     "metadata": {
      "needs_background": "light"
     },
     "output_type": "display_data"
    }
   ],
   "source": [
    "plt.figure(figsize=(18,6))\n",
    "# make barplot and sort bars in descending order\n",
    "sns.barplot(x='Genres', y='OnlyRate', data=new_df_genres_onlyRate, \n",
    "            order=new_df_genres_onlyRate.sort_values('OnlyRate',ascending = False).Genres)\n",
    "# set labels\n",
    "plt.xlabel(\"Genres\", size=15)\n",
    "plt.ylabel(\"Number of Only Rating\", size=15)\n",
    "plt.title(\"Top 10 Genres Based on only Rating\", size=18)\n",
    "plt.tight_layout()\n",
    "#plt.savefig( , dpi=100)"
   ]
  },
  {
   "cell_type": "code",
   "execution_count": 300,
   "metadata": {},
   "outputs": [
    {
     "data": {
      "text/plain": [
       "[8342370,\n",
       " 1760862,\n",
       " 6763496,\n",
       " 6449680,\n",
       " 1570716,\n",
       " 5532458,\n",
       " 413778,\n",
       " 7662618,\n",
       " 4742223,\n",
       " 3102563]"
      ]
     },
     "execution_count": 300,
     "metadata": {},
     "output_type": "execute_result"
    }
   ],
   "source": [
    "number_of_votes"
   ]
  },
  {
   "cell_type": "code",
   "execution_count": 301,
   "metadata": {},
   "outputs": [
    {
     "data": {
      "text/html": [
       "<div>\n",
       "<style scoped>\n",
       "    .dataframe tbody tr th:only-of-type {\n",
       "        vertical-align: middle;\n",
       "    }\n",
       "\n",
       "    .dataframe tbody tr th {\n",
       "        vertical-align: top;\n",
       "    }\n",
       "\n",
       "    .dataframe thead th {\n",
       "        text-align: right;\n",
       "    }\n",
       "</style>\n",
       "<table border=\"1\" class=\"dataframe\">\n",
       "  <thead>\n",
       "    <tr style=\"text-align: right;\">\n",
       "      <th></th>\n",
       "      <th>Genres</th>\n",
       "      <th>NumVotes</th>\n",
       "    </tr>\n",
       "  </thead>\n",
       "  <tbody>\n",
       "    <tr>\n",
       "      <th>0</th>\n",
       "      <td>Drama</td>\n",
       "      <td>8342370</td>\n",
       "    </tr>\n",
       "    <tr>\n",
       "      <th>1</th>\n",
       "      <td>Documentary</td>\n",
       "      <td>1760862</td>\n",
       "    </tr>\n",
       "    <tr>\n",
       "      <th>2</th>\n",
       "      <td>Comedy</td>\n",
       "      <td>6763496</td>\n",
       "    </tr>\n",
       "    <tr>\n",
       "      <th>3</th>\n",
       "      <td>Comedy,Drama</td>\n",
       "      <td>6449680</td>\n",
       "    </tr>\n",
       "    <tr>\n",
       "      <th>4</th>\n",
       "      <td>Horror</td>\n",
       "      <td>1570716</td>\n",
       "    </tr>\n",
       "    <tr>\n",
       "      <th>5</th>\n",
       "      <td>Drama,Romance</td>\n",
       "      <td>5532458</td>\n",
       "    </tr>\n",
       "    <tr>\n",
       "      <th>6</th>\n",
       "      <td>Thriller</td>\n",
       "      <td>413778</td>\n",
       "    </tr>\n",
       "    <tr>\n",
       "      <th>7</th>\n",
       "      <td>Comedy,Drama,Romance</td>\n",
       "      <td>7662618</td>\n",
       "    </tr>\n",
       "    <tr>\n",
       "      <th>8</th>\n",
       "      <td>Comedy,Romance</td>\n",
       "      <td>4742223</td>\n",
       "    </tr>\n",
       "    <tr>\n",
       "      <th>9</th>\n",
       "      <td>Horror,Thriller</td>\n",
       "      <td>3102563</td>\n",
       "    </tr>\n",
       "  </tbody>\n",
       "</table>\n",
       "</div>"
      ],
      "text/plain": [
       "                 Genres  NumVotes\n",
       "0                 Drama   8342370\n",
       "1           Documentary   1760862\n",
       "2                Comedy   6763496\n",
       "3          Comedy,Drama   6449680\n",
       "4                Horror   1570716\n",
       "5         Drama,Romance   5532458\n",
       "6              Thriller    413778\n",
       "7  Comedy,Drama,Romance   7662618\n",
       "8        Comedy,Romance   4742223\n",
       "9       Horror,Thriller   3102563"
      ]
     },
     "execution_count": 301,
     "metadata": {},
     "output_type": "execute_result"
    }
   ],
   "source": [
    "new_df_number_of_votes = pd.DataFrame({'Genres': top10_list, 'NumVotes': number_of_votes })\n",
    "new_df_number_of_votes"
   ]
  },
  {
   "cell_type": "code",
   "execution_count": 317,
   "metadata": {},
   "outputs": [
    {
     "data": {
      "image/png": "[encoded data removed]",
      "text/plain": [
       "<Figure size 1080x432 with 1 Axes>"
      ]
     },
     "metadata": {
      "needs_background": "light"
     },
     "output_type": "display_data"
    }
   ],
   "source": [
    "plt.figure(figsize=(15,6))\n",
    "# make barplot and sort bars in descending order\n",
    "sns.barplot(x='Genres', y='NumVotes', data=new_df_number_of_votes, \n",
    "            order=new_df_number_of_votes.sort_values('NumVotes',ascending = False).Genres)\n",
    "# set labels\n",
    "plt.xlabel(\"Genres\", size=15)\n",
    "plt.ylabel(\"Number of Votes\", size=15)\n",
    "plt.title(\"Top 10 Genres Based on Number of Votes\", size=18)\n",
    "plt.tight_layout()\n",
    "#plt.savefig( , dpi=100)"
   ]
  },
  {
   "cell_type": "code",
   "execution_count": 311,
   "metadata": {},
   "outputs": [
    {
     "data": {
      "text/plain": [
       "{90.0: 4718,\n",
       " 80.0: 2142,\n",
       " 85.0: 2048,\n",
       " 100.0: 1954,\n",
       " 95.0: 1919,\n",
       " 93.0: 1533,\n",
       " 88.0: 1476,\n",
       " 92.0: 1423,\n",
       " 87.0: 1373,\n",
       " 94.0: 1369}"
      ]
     },
     "execution_count": 311,
     "metadata": {},
     "output_type": "execute_result"
    }
   ],
   "source": [
    "top_10_runtime"
   ]
  },
  {
   "cell_type": "code",
   "execution_count": 313,
   "metadata": {},
   "outputs": [
    {
     "data": {
      "text/html": [
       "<div>\n",
       "<style scoped>\n",
       "    .dataframe tbody tr th:only-of-type {\n",
       "        vertical-align: middle;\n",
       "    }\n",
       "\n",
       "    .dataframe tbody tr th {\n",
       "        vertical-align: top;\n",
       "    }\n",
       "\n",
       "    .dataframe thead th {\n",
       "        text-align: right;\n",
       "    }\n",
       "</style>\n",
       "<table border=\"1\" class=\"dataframe\">\n",
       "  <thead>\n",
       "    <tr style=\"text-align: right;\">\n",
       "      <th></th>\n",
       "      <th>Runtime</th>\n",
       "      <th>Number of Movie</th>\n",
       "    </tr>\n",
       "  </thead>\n",
       "  <tbody>\n",
       "    <tr>\n",
       "      <th>0</th>\n",
       "      <td>90.0</td>\n",
       "      <td>4718</td>\n",
       "    </tr>\n",
       "    <tr>\n",
       "      <th>1</th>\n",
       "      <td>80.0</td>\n",
       "      <td>2142</td>\n",
       "    </tr>\n",
       "    <tr>\n",
       "      <th>2</th>\n",
       "      <td>85.0</td>\n",
       "      <td>2048</td>\n",
       "    </tr>\n",
       "    <tr>\n",
       "      <th>3</th>\n",
       "      <td>100.0</td>\n",
       "      <td>1954</td>\n",
       "    </tr>\n",
       "    <tr>\n",
       "      <th>4</th>\n",
       "      <td>95.0</td>\n",
       "      <td>1919</td>\n",
       "    </tr>\n",
       "    <tr>\n",
       "      <th>5</th>\n",
       "      <td>93.0</td>\n",
       "      <td>1533</td>\n",
       "    </tr>\n",
       "    <tr>\n",
       "      <th>6</th>\n",
       "      <td>88.0</td>\n",
       "      <td>1476</td>\n",
       "    </tr>\n",
       "    <tr>\n",
       "      <th>7</th>\n",
       "      <td>92.0</td>\n",
       "      <td>1423</td>\n",
       "    </tr>\n",
       "    <tr>\n",
       "      <th>8</th>\n",
       "      <td>87.0</td>\n",
       "      <td>1373</td>\n",
       "    </tr>\n",
       "    <tr>\n",
       "      <th>9</th>\n",
       "      <td>94.0</td>\n",
       "      <td>1369</td>\n",
       "    </tr>\n",
       "  </tbody>\n",
       "</table>\n",
       "</div>"
      ],
      "text/plain": [
       "   Runtime  Number of Movie\n",
       "0     90.0             4718\n",
       "1     80.0             2142\n",
       "2     85.0             2048\n",
       "3    100.0             1954\n",
       "4     95.0             1919\n",
       "5     93.0             1533\n",
       "6     88.0             1476\n",
       "7     92.0             1423\n",
       "8     87.0             1373\n",
       "9     94.0             1369"
      ]
     },
     "execution_count": 313,
     "metadata": {},
     "output_type": "execute_result"
    }
   ],
   "source": [
    "new_df_runtime = pd.DataFrame(top_10_runtime.items(), columns=['Runtime', 'Number of Movie'])\n",
    "new_df_runtime"
   ]
  },
  {
   "cell_type": "code",
   "execution_count": 321,
   "metadata": {},
   "outputs": [
    {
     "data": {
      "image/png": "[encoded data removed]",
      "text/plain": [
       "<Figure size 720x432 with 1 Axes>"
      ]
     },
     "metadata": {
      "needs_background": "light"
     },
     "output_type": "display_data"
    }
   ],
   "source": [
    "plt.figure(figsize=(10,6))\n",
    "# make barplot and sort bars in descending order\n",
    "sns.barplot(x='Runtime', y='Number of Movie', data=new_df_runtime, \n",
    "            order=new_df_runtime.sort_values('Number of Movie',ascending = False).Runtime)\n",
    "# set labels\n",
    "plt.xlabel(\"Run Time in Minute \", size=15)\n",
    "plt.ylabel(\"Number of Movies \", size=15)\n",
    "plt.title(\"Top 10 Runing Time in Minute \", size=18)\n",
    "plt.tight_layout()\n",
    "#plt.savefig( '', dpi=100)"
   ]
  },
  {
   "cell_type": "code",
   "execution_count": 322,
   "metadata": {},
   "outputs": [
    {
     "data": {
      "text/plain": [
       "Drama                            10189\n",
       "Documentary                       9149\n",
       "Comedy                            4604\n",
       "Comedy,Drama                      2451\n",
       "Horror                            2232\n",
       "Drama,Romance                     1392\n",
       "Thriller                          1288\n",
       "Comedy,Drama,Romance              1159\n",
       "Comedy,Romance                    1128\n",
       "Horror,Thriller                    943\n",
       "Drama,Thriller                     938\n",
       "Action                             721\n",
       "Biography,Documentary              675\n",
       "Documentary,Drama                  572\n",
       "Documentary,Music                  544\n",
       "Action,Crime,Drama                 530\n",
       "Romance                            529\n",
       "Comedy,Horror                      515\n",
       "Crime,Drama,Thriller               493\n",
       "Biography,Documentary,History      476\n",
       "Name: genres, dtype: int64"
      ]
     },
     "execution_count": 322,
     "metadata": {},
     "output_type": "execute_result"
    }
   ],
   "source": [
    "top_20_genres = new_imdb['genres'].value_counts()[:20]\n",
    "top_20_genres"
   ]
  },
  {
   "cell_type": "code",
   "execution_count": 324,
   "metadata": {},
   "outputs": [
    {
     "data": {
      "text/html": [
       "<div>\n",
       "<style scoped>\n",
       "    .dataframe tbody tr th:only-of-type {\n",
       "        vertical-align: middle;\n",
       "    }\n",
       "\n",
       "    .dataframe tbody tr th {\n",
       "        vertical-align: top;\n",
       "    }\n",
       "\n",
       "    .dataframe thead th {\n",
       "        text-align: right;\n",
       "    }\n",
       "</style>\n",
       "<table border=\"1\" class=\"dataframe\">\n",
       "  <thead>\n",
       "    <tr style=\"text-align: right;\">\n",
       "      <th></th>\n",
       "      <th>Genres</th>\n",
       "      <th>Number of Rating</th>\n",
       "    </tr>\n",
       "  </thead>\n",
       "  <tbody>\n",
       "    <tr>\n",
       "      <th>0</th>\n",
       "      <td>Drama</td>\n",
       "      <td>10189</td>\n",
       "    </tr>\n",
       "    <tr>\n",
       "      <th>1</th>\n",
       "      <td>Documentary</td>\n",
       "      <td>9149</td>\n",
       "    </tr>\n",
       "    <tr>\n",
       "      <th>2</th>\n",
       "      <td>Comedy</td>\n",
       "      <td>4604</td>\n",
       "    </tr>\n",
       "    <tr>\n",
       "      <th>3</th>\n",
       "      <td>Comedy,Drama</td>\n",
       "      <td>2451</td>\n",
       "    </tr>\n",
       "    <tr>\n",
       "      <th>4</th>\n",
       "      <td>Horror</td>\n",
       "      <td>2232</td>\n",
       "    </tr>\n",
       "    <tr>\n",
       "      <th>5</th>\n",
       "      <td>Drama,Romance</td>\n",
       "      <td>1392</td>\n",
       "    </tr>\n",
       "    <tr>\n",
       "      <th>6</th>\n",
       "      <td>Thriller</td>\n",
       "      <td>1288</td>\n",
       "    </tr>\n",
       "    <tr>\n",
       "      <th>7</th>\n",
       "      <td>Comedy,Drama,Romance</td>\n",
       "      <td>1159</td>\n",
       "    </tr>\n",
       "    <tr>\n",
       "      <th>8</th>\n",
       "      <td>Comedy,Romance</td>\n",
       "      <td>1128</td>\n",
       "    </tr>\n",
       "    <tr>\n",
       "      <th>9</th>\n",
       "      <td>Horror,Thriller</td>\n",
       "      <td>943</td>\n",
       "    </tr>\n",
       "    <tr>\n",
       "      <th>10</th>\n",
       "      <td>Drama,Thriller</td>\n",
       "      <td>938</td>\n",
       "    </tr>\n",
       "    <tr>\n",
       "      <th>11</th>\n",
       "      <td>Action</td>\n",
       "      <td>721</td>\n",
       "    </tr>\n",
       "    <tr>\n",
       "      <th>12</th>\n",
       "      <td>Biography,Documentary</td>\n",
       "      <td>675</td>\n",
       "    </tr>\n",
       "    <tr>\n",
       "      <th>13</th>\n",
       "      <td>Documentary,Drama</td>\n",
       "      <td>572</td>\n",
       "    </tr>\n",
       "    <tr>\n",
       "      <th>14</th>\n",
       "      <td>Documentary,Music</td>\n",
       "      <td>544</td>\n",
       "    </tr>\n",
       "    <tr>\n",
       "      <th>15</th>\n",
       "      <td>Action,Crime,Drama</td>\n",
       "      <td>530</td>\n",
       "    </tr>\n",
       "    <tr>\n",
       "      <th>16</th>\n",
       "      <td>Romance</td>\n",
       "      <td>529</td>\n",
       "    </tr>\n",
       "    <tr>\n",
       "      <th>17</th>\n",
       "      <td>Comedy,Horror</td>\n",
       "      <td>515</td>\n",
       "    </tr>\n",
       "    <tr>\n",
       "      <th>18</th>\n",
       "      <td>Crime,Drama,Thriller</td>\n",
       "      <td>493</td>\n",
       "    </tr>\n",
       "    <tr>\n",
       "      <th>19</th>\n",
       "      <td>Biography,Documentary,History</td>\n",
       "      <td>476</td>\n",
       "    </tr>\n",
       "  </tbody>\n",
       "</table>\n",
       "</div>"
      ],
      "text/plain": [
       "                           Genres  Number of Rating\n",
       "0                           Drama             10189\n",
       "1                     Documentary              9149\n",
       "2                          Comedy              4604\n",
       "3                    Comedy,Drama              2451\n",
       "4                          Horror              2232\n",
       "5                   Drama,Romance              1392\n",
       "6                        Thriller              1288\n",
       "7            Comedy,Drama,Romance              1159\n",
       "8                  Comedy,Romance              1128\n",
       "9                 Horror,Thriller               943\n",
       "10                 Drama,Thriller               938\n",
       "11                         Action               721\n",
       "12          Biography,Documentary               675\n",
       "13              Documentary,Drama               572\n",
       "14              Documentary,Music               544\n",
       "15             Action,Crime,Drama               530\n",
       "16                        Romance               529\n",
       "17                  Comedy,Horror               515\n",
       "18           Crime,Drama,Thriller               493\n",
       "19  Biography,Documentary,History               476"
      ]
     },
     "execution_count": 324,
     "metadata": {},
     "output_type": "execute_result"
    }
   ],
   "source": [
    "new_df_20_genres = pd.DataFrame(top_20_genres.items(), columns=['Genres', 'Number of Rating'])\n",
    "new_df_20_genres"
   ]
  },
  {
   "cell_type": "code",
   "execution_count": null,
   "metadata": {},
   "outputs": [],
   "source": []
  }
 ],
 "metadata": {
  "kernelspec": {
   "display_name": "learn-env",
   "language": "python",
   "name": "learn-env"
  },
  "language_info": {
   "codemirror_mode": {
    "name": "ipython",
    "version": 3
   },
   "file_extension": ".py",
   "mimetype": "text/x-python",
   "name": "python",
   "nbconvert_exporter": "python",
   "pygments_lexer": "ipython3",
   "version": "3.6.9"
  }
 },
 "nbformat": 4,
 "nbformat_minor": 4
}
